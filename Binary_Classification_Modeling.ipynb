{
  "nbformat": 4,
  "nbformat_minor": 0,
  "metadata": {
    "colab": {
      "name": "Binary_Classification_Modeling.ipynb",
      "provenance": [],
      "collapsed_sections": [],
      "mount_file_id": "1wP2okgUWHUdfQf_Q8UXShdJS6Vpvl9qr",
      "authorship_tag": "ABX9TyOX7jpos4gdNw8g+xMyjSvx",
      "include_colab_link": true
    },
    "kernelspec": {
      "name": "python3",
      "display_name": "Python 3"
    },
    "accelerator": "GPU"
  },
  "cells": [
    {
      "cell_type": "markdown",
      "metadata": {
        "id": "view-in-github",
        "colab_type": "text"
      },
      "source": [
        "<a href=\"https://colab.research.google.com/github/SaikrishnaDandamudi/BrainStation-Capstone-Project/blob/master/Binary_Classification_Modeling.ipynb\" target=\"_parent\"><img src=\"https://colab.research.google.com/assets/colab-badge.svg\" alt=\"Open In Colab\"/></a>"
      ]
    },
    {
      "cell_type": "markdown",
      "metadata": {
        "id": "p-gOoGKXpVPq",
        "colab_type": "text"
      },
      "source": [
        "# IMPORTING THE LIBRARIES"
      ]
    },
    {
      "cell_type": "code",
      "metadata": {
        "id": "WsX7_TUYzfLE",
        "colab_type": "code",
        "colab": {
          "base_uri": "https://localhost:8080/",
          "height": 224
        },
        "outputId": "ad80ab98-c4ad-4d4b-e710-8184453a0b12"
      },
      "source": [
        "# This library is needed to plot the roc_curve for the model\n",
        "# Scikit Plot Install\n",
        "!pip install scikit-plot\n"
      ],
      "execution_count": 1,
      "outputs": [
        {
          "output_type": "stream",
          "text": [
            "Requirement already satisfied: scikit-plot in /usr/local/lib/python3.6/dist-packages (0.3.7)\n",
            "Requirement already satisfied: joblib>=0.10 in /usr/local/lib/python3.6/dist-packages (from scikit-plot) (0.16.0)\n",
            "Requirement already satisfied: scipy>=0.9 in /usr/local/lib/python3.6/dist-packages (from scikit-plot) (1.4.1)\n",
            "Requirement already satisfied: scikit-learn>=0.18 in /usr/local/lib/python3.6/dist-packages (from scikit-plot) (0.22.2.post1)\n",
            "Requirement already satisfied: matplotlib>=1.4.0 in /usr/local/lib/python3.6/dist-packages (from scikit-plot) (3.2.2)\n",
            "Requirement already satisfied: numpy>=1.13.3 in /usr/local/lib/python3.6/dist-packages (from scipy>=0.9->scikit-plot) (1.18.5)\n",
            "Requirement already satisfied: python-dateutil>=2.1 in /usr/local/lib/python3.6/dist-packages (from matplotlib>=1.4.0->scikit-plot) (2.8.1)\n",
            "Requirement already satisfied: kiwisolver>=1.0.1 in /usr/local/lib/python3.6/dist-packages (from matplotlib>=1.4.0->scikit-plot) (1.2.0)\n",
            "Requirement already satisfied: pyparsing!=2.0.4,!=2.1.2,!=2.1.6,>=2.0.1 in /usr/local/lib/python3.6/dist-packages (from matplotlib>=1.4.0->scikit-plot) (2.4.7)\n",
            "Requirement already satisfied: cycler>=0.10 in /usr/local/lib/python3.6/dist-packages (from matplotlib>=1.4.0->scikit-plot) (0.10.0)\n",
            "Requirement already satisfied: six>=1.5 in /usr/local/lib/python3.6/dist-packages (from python-dateutil>=2.1->matplotlib>=1.4.0->scikit-plot) (1.15.0)\n"
          ],
          "name": "stdout"
        }
      ]
    },
    {
      "cell_type": "code",
      "metadata": {
        "id": "e3CXd6Mtz795",
        "colab_type": "code",
        "colab": {}
      },
      "source": [
        "#importing the required libraries\n",
        "import warnings\n",
        "warnings.filterwarnings(\"ignore\")\n",
        "import os\n",
        "import numpy as np\n",
        "import shutil\n",
        "import seaborn as sns\n",
        "import matplotlib.pyplot as plt\n",
        "%matplotlib inline\n",
        "import keras\n",
        "from keras.layers import *\n",
        "from keras.models import *\n",
        "from keras.preprocessing import image\n",
        "import scikitplot as skplt\n",
        "from sklearn.metrics import confusion_matrix\n",
        "import itertools\n",
        "from sklearn.metrics import classification_report\n",
        "from sklearn import metrics"
      ],
      "execution_count": 2,
      "outputs": []
    },
    {
      "cell_type": "markdown",
      "metadata": {
        "id": "z1mUJiqDprVW",
        "colab_type": "text"
      },
      "source": [
        "# LOADING THE DATASET AND EXTRACTING"
      ]
    },
    {
      "cell_type": "markdown",
      "metadata": {
        "id": "bIQIuzVUl0oE",
        "colab_type": "text"
      },
      "source": [
        "The dataset will be made available on Google Drive and on the github repo. "
      ]
    },
    {
      "cell_type": "code",
      "metadata": {
        "id": "udkGYPs4mL0W",
        "colab_type": "code",
        "colab": {
          "base_uri": "https://localhost:8080/",
          "height": 1000
        },
        "outputId": "9ff23cfb-400c-4781-ce5c-dbde73304ffe"
      },
      "source": [
        "#Unzipping the folder with images\n",
        "!unzip Binary_Classification.zip -d Binary_Classification"
      ],
      "execution_count": 3,
      "outputs": [
        {
          "output_type": "stream",
          "text": [
            "Archive:  Binary_Classification.zip\n",
            "replace Binary_Classification/Binary_Classification/.DS_Store? [y]es, [n]o, [A]ll, [N]one, [r]ename: A\n",
            "  inflating: Binary_Classification/Binary_Classification/.DS_Store  \n",
            "  inflating: Binary_Classification/__MACOSX/Binary_Classification/._.DS_Store  \n",
            "  inflating: Binary_Classification/Binary_Classification/test/.DS_Store  \n",
            "  inflating: Binary_Classification/__MACOSX/Binary_Classification/test/._.DS_Store  \n",
            "  inflating: Binary_Classification/Binary_Classification/train/.DS_Store  \n",
            "  inflating: Binary_Classification/__MACOSX/Binary_Classification/train/._.DS_Store  \n",
            "  inflating: Binary_Classification/Binary_Classification/test/COV-19/9fdd3c3032296fd04d2cad5d9070d4_jumbo.jpeg  \n",
            "  inflating: Binary_Classification/Binary_Classification/test/COV-19/16663_1_1.jpg  \n",
            "  inflating: Binary_Classification/Binary_Classification/test/COV-19/b0f1684d1ee90dc09deef015e29dae_jumbo.jpeg  \n",
            "  inflating: Binary_Classification/Binary_Classification/test/COV-19/nejmoa2001191_f5-PA.jpeg  \n",
            "  inflating: Binary_Classification/Binary_Classification/test/COV-19/7-fatal-covid19.jpg  \n",
            "  inflating: Binary_Classification/Binary_Classification/test/COV-19/covid-19-pneumonia-14-PA.png  \n",
            "  inflating: Binary_Classification/Binary_Classification/test/COV-19/10.1016-slash-j.anl.2020.04.002-a.png  \n",
            "  inflating: Binary_Classification/Binary_Classification/test/COV-19/auntminnie-a-2020_01_28_23_51_6665_2020_01_28_Vietnam_coronavirus.jpeg  \n",
            "  inflating: Binary_Classification/Binary_Classification/test/COV-19/covid-19-pneumonia-44-day-0.jpeg  \n",
            "  inflating: Binary_Classification/Binary_Classification/test/COV-19/c601f50d.jpg  \n",
            "  inflating: Binary_Classification/Binary_Classification/test/COV-19/extubation-13.jpg  \n",
            "  inflating: Binary_Classification/Binary_Classification/test/COV-19/16708_4_1.jpg  \n",
            "  inflating: Binary_Classification/Binary_Classification/test/COV-19/1141cc2b8b9cc394becce5d978b5a7_jumbo.jpeg  \n",
            "  inflating: Binary_Classification/Binary_Classification/test/COV-19/1-s2.0-S2387020620301959-gr4_lrg-c.png  \n",
            "  inflating: Binary_Classification/Binary_Classification/test/COV-19/nCoV-radiol.2020200269.fig1-day7.jpeg  \n",
            "  inflating: Binary_Classification/Binary_Classification/test/COV-19/covid-19-pneumonia-20-pa-on-admission.jpg  \n",
            "  inflating: Binary_Classification/Binary_Classification/test/COV-19/0a7faa2a.jpg  \n",
            "  inflating: Binary_Classification/Binary_Classification/test/COV-19/lancet-case2b.jpg  \n",
            "  inflating: Binary_Classification/Binary_Classification/test/COV-19/03BF7561-A9BA-4C3C-B8A0-D3E585F73F3C.jpeg  \n",
            "  inflating: Binary_Classification/Binary_Classification/test/COV-19/82a78c13.jpg  \n",
            "  inflating: Binary_Classification/Binary_Classification/test/COV-19/paving.jpg  \n",
            "  inflating: Binary_Classification/Binary_Classification/test/COV-19/gr1_lrg-a.jpg  \n",
            "  inflating: Binary_Classification/Binary_Classification/test/COV-19/e1446fe8.jpg  \n",
            "  inflating: Binary_Classification/Binary_Classification/test/COV-19/41182_2020_203_Fig4_HTML.jpg  \n",
            "  inflating: Binary_Classification/Binary_Classification/test/COV-19/90986ce4.jpg  \n",
            "  inflating: Binary_Classification/Binary_Classification/test/COV-19/6CB4EFC6-68FA-4CD5-940C-BEFA8DAFE9A7.jpeg  \n",
            "  inflating: Binary_Classification/Binary_Classification/test/COV-19/BMJ-37-163-g1.jpg  \n",
            "  inflating: Binary_Classification/Binary_Classification/test/COV-19/1-s2.0-S0140673620303706-fx1_lrg.jpg  \n",
            "  inflating: Binary_Classification/Binary_Classification/test/COV-19/covid-19-infection-exclusive-gastrointestinal-symptoms-pa.png  \n",
            "  inflating: Binary_Classification/Binary_Classification/test/COV-19/covid-19-pneumonia-22-day1-pa.png  \n",
            "  inflating: Binary_Classification/Binary_Classification/test/COV-19/FE9F9A5D-2830-46F9-851B-1FF4534959BE.jpeg  \n",
            "  inflating: Binary_Classification/Binary_Classification/test/COV-19/a2eba651.jpg  \n",
            "  inflating: Binary_Classification/Binary_Classification/test/COV-19/covid-19-pneumonia-8.jpg  \n",
            "  inflating: Binary_Classification/Binary_Classification/test/COV-19/all14238-fig-0001-m-c.jpg  \n",
            "  inflating: Binary_Classification/Binary_Classification/test/COV-19/353889E0-A1E8-4F9E-A0B8-F24F36BCFBFB.jpeg  \n",
            "  inflating: Binary_Classification/Binary_Classification/test/COV-19/1.CXRCTThoraximagesofCOVID-19fromSingapore.pdf-000-fig1a.png  \n",
            "  inflating: Binary_Classification/Binary_Classification/test/COV-19/extubation-1.jpg  \n",
            "  inflating: Binary_Classification/Binary_Classification/test/COV-19/nejmc2001573_f1b.jpeg  \n",
            "  inflating: Binary_Classification/Binary_Classification/test/COV-19/ryct.2020200034.fig2.jpeg  \n",
            "  inflating: Binary_Classification/Binary_Classification/test/COV-19/covid-19-pneumonia-53.jpg  \n",
            "  inflating: Binary_Classification/Binary_Classification/test/COV-19/covid-19-caso-91-1-12.png  \n",
            "  inflating: Binary_Classification/Binary_Classification/test/NORMAL/NORMAL2-IM-1326-0001.jpeg  \n",
            "  inflating: Binary_Classification/Binary_Classification/test/NORMAL/IM-0697-0001.jpeg  \n",
            "  inflating: Binary_Classification/Binary_Classification/test/NORMAL/NORMAL2-IM-0496-0001.jpeg  \n",
            "  inflating: Binary_Classification/Binary_Classification/test/NORMAL/NORMAL2-IM-0425-0001.jpeg  \n",
            "  inflating: Binary_Classification/Binary_Classification/test/NORMAL/NORMAL2-IM-1152-0001.jpeg  \n",
            "  inflating: Binary_Classification/Binary_Classification/test/NORMAL/NORMAL2-IM-1190-0001.jpeg  \n",
            "  inflating: Binary_Classification/Binary_Classification/test/NORMAL/.DS_Store  \n",
            "  inflating: Binary_Classification/__MACOSX/Binary_Classification/test/NORMAL/._.DS_Store  \n",
            "  inflating: Binary_Classification/Binary_Classification/test/NORMAL/NORMAL2-IM-1345-0001-0002.jpeg  \n",
            "  inflating: Binary_Classification/Binary_Classification/test/NORMAL/NORMAL2-IM-1357-0001.jpeg  \n",
            "  inflating: Binary_Classification/Binary_Classification/test/NORMAL/IM-0438-0001.jpeg  \n",
            "  inflating: Binary_Classification/Binary_Classification/test/NORMAL/NORMAL2-IM-1261-0001.jpeg  \n",
            "  inflating: Binary_Classification/Binary_Classification/test/NORMAL/NORMAL2-IM-1278-0001.jpeg  \n",
            "  inflating: Binary_Classification/Binary_Classification/test/NORMAL/NORMAL2-IM-1371-0001.jpeg  \n",
            "  inflating: Binary_Classification/Binary_Classification/test/NORMAL/NORMAL2-IM-1223-0001.jpeg  \n",
            "  inflating: Binary_Classification/Binary_Classification/test/NORMAL/IM-0401-0001.jpeg  \n",
            "  inflating: Binary_Classification/Binary_Classification/test/NORMAL/NORMAL2-IM-1122-0001.jpeg  \n",
            "  inflating: Binary_Classification/Binary_Classification/test/NORMAL/NORMAL2-IM-0829-0001.jpeg  \n",
            "  inflating: Binary_Classification/Binary_Classification/test/NORMAL/NORMAL2-IM-1321-0001.jpeg  \n",
            "  inflating: Binary_Classification/Binary_Classification/test/NORMAL/IM-0283-0001.jpeg  \n",
            "  inflating: Binary_Classification/Binary_Classification/test/NORMAL/NORMAL2-IM-0842-0001.jpeg  \n",
            "  inflating: Binary_Classification/Binary_Classification/test/NORMAL/NORMAL2-IM-1112-0001.jpeg  \n",
            "  inflating: Binary_Classification/Binary_Classification/test/NORMAL/NORMAL2-IM-1218-0001.jpeg  \n",
            "  inflating: Binary_Classification/Binary_Classification/test/NORMAL/IM-0435-0001-0001.jpeg  \n",
            "  inflating: Binary_Classification/Binary_Classification/test/NORMAL/NORMAL2-IM-1400-0001.jpeg  \n",
            "  inflating: Binary_Classification/Binary_Classification/test/NORMAL/IM-0664-0001.jpeg  \n",
            "  inflating: Binary_Classification/Binary_Classification/test/NORMAL/NORMAL2-IM-1258-0001-0001.jpeg  \n",
            "  inflating: Binary_Classification/Binary_Classification/test/NORMAL/NORMAL2-IM-0531-0001.jpeg  \n",
            "  inflating: Binary_Classification/Binary_Classification/test/NORMAL/NORMAL2-IM-1192-0001.jpeg  \n",
            "  inflating: Binary_Classification/Binary_Classification/test/NORMAL/IM-0222-0001.jpeg  \n",
            "  inflating: Binary_Classification/Binary_Classification/test/NORMAL/NORMAL2-IM-1303-0001.jpeg  \n",
            "  inflating: Binary_Classification/Binary_Classification/test/NORMAL/NORMAL2-IM-0812-0001.jpeg  \n",
            "  inflating: Binary_Classification/Binary_Classification/test/NORMAL/NORMAL2-IM-0486-0001.jpeg  \n",
            "  inflating: Binary_Classification/Binary_Classification/test/NORMAL/NORMAL2-IM-0954-0001.jpeg  \n",
            "  inflating: Binary_Classification/Binary_Classification/test/NORMAL/IM-0326-0001.jpeg  \n",
            "  inflating: Binary_Classification/Binary_Classification/test/NORMAL/NORMAL2-IM-1232-0001.jpeg  \n",
            "  inflating: Binary_Classification/Binary_Classification/test/NORMAL/NORMAL2-IM-1304-0001.jpeg  \n",
            "  inflating: Binary_Classification/Binary_Classification/test/NORMAL/NORMAL2-IM-0832-0001-0001.jpeg  \n",
            "  inflating: Binary_Classification/Binary_Classification/test/NORMAL/NORMAL2-IM-1292-0001.jpeg  \n",
            "  inflating: Binary_Classification/Binary_Classification/test/NORMAL/IM-0273-0001.jpeg  \n",
            "  inflating: Binary_Classification/Binary_Classification/test/NORMAL/NORMAL2-IM-1214-0001.jpeg  \n",
            "  inflating: Binary_Classification/Binary_Classification/test/NORMAL/NORMAL2-IM-1157-0001.jpeg  \n",
            "  inflating: Binary_Classification/Binary_Classification/test/NORMAL/NORMAL2-IM-1227-0001.jpeg  \n",
            "  inflating: Binary_Classification/Binary_Classification/train/COV-19/f6d980a0.jpg  \n",
            "  inflating: Binary_Classification/Binary_Classification/train/COV-19/16669_3_1.jpeg  \n",
            "  inflating: Binary_Classification/Binary_Classification/train/COV-19/covid-19-pneumonia-22-day2-pa.png  \n",
            "  inflating: Binary_Classification/Binary_Classification/train/COV-19/8FDE8DBA-CFBD-4B4C-B1A4-6F36A93B7E87.jpeg  \n",
            "  inflating: Binary_Classification/Binary_Classification/train/COV-19/extubation-8.jpg  \n",
            "  inflating: Binary_Classification/Binary_Classification/train/COV-19/2cd63b76.jpg  \n",
            "  inflating: Binary_Classification/Binary_Classification/train/COV-19/7C69C012-7479-493F-8722-ABC29C60A2DD.jpeg  \n",
            "  inflating: Binary_Classification/Binary_Classification/train/COV-19/1052b0fe.jpg  \n",
            "  inflating: Binary_Classification/Binary_Classification/train/COV-19/41182_2020_203_Fig3_HTML.jpg  \n",
            "  inflating: Binary_Classification/Binary_Classification/train/COV-19/covid-19-caso-94-1-14.png  \n",
            "  inflating: Binary_Classification/Binary_Classification/train/COV-19/covid-19-pneumonia-7-PA.jpg  \n",
            "  inflating: Binary_Classification/Binary_Classification/train/COV-19/covid-19-caso-82-1-8.png  \n",
            "  inflating: Binary_Classification/Binary_Classification/train/COV-19/d009d61f.jpg  \n",
            "  inflating: Binary_Classification/Binary_Classification/train/COV-19/covid-19-caso-95-1-15.png  \n",
            "  inflating: Binary_Classification/Binary_Classification/train/COV-19/16660_2_1.jpg  \n",
            "  inflating: Binary_Classification/Binary_Classification/train/COV-19/nejmc2001573_f1a.jpeg  \n",
            "  inflating: Binary_Classification/Binary_Classification/train/COV-19/covid-19-caso-95-3-14.png  \n",
            "  inflating: Binary_Classification/Binary_Classification/train/COV-19/12941_2020_358_Fig1_HTML.jpg  \n",
            "  inflating: Binary_Classification/Binary_Classification/train/COV-19/covid-19-pneumonia-30-PA.jpg  \n",
            "  inflating: Binary_Classification/Binary_Classification/train/COV-19/23E99E2E-447C-46E5-8EB2-D35D12473C39.png  \n",
            "  inflating: Binary_Classification/Binary_Classification/train/COV-19/f64132c8.jpg  \n",
            "  inflating: Binary_Classification/Binary_Classification/train/COV-19/40779_2020_233_Fig2_HTML-a.png  \n",
            "  inflating: Binary_Classification/Binary_Classification/train/COV-19/article_river_e4d185c06e3511eaa2321d8ab357a1de-c1mn.png  \n",
            "  inflating: Binary_Classification/Binary_Classification/train/COV-19/5f619d7e.jpg  \n",
            "  inflating: Binary_Classification/Binary_Classification/train/COV-19/7afaaccc.jpg  \n",
            "  inflating: Binary_Classification/Binary_Classification/train/COV-19/19abe1f3.jpg  \n",
            "  inflating: Binary_Classification/Binary_Classification/train/COV-19/16672_1_1.jpg  \n",
            "  inflating: Binary_Classification/Binary_Classification/train/COV-19/16660_4_1.jpg  \n",
            "  inflating: Binary_Classification/Binary_Classification/train/COV-19/41379_2020_536_Fig2_HTML-c1.png  \n",
            "  inflating: Binary_Classification/Binary_Classification/train/COV-19/16747_1_1.jpg  \n",
            "  inflating: Binary_Classification/Binary_Classification/train/COV-19/radiol.2020200274.fig3d.png  \n",
            "  inflating: Binary_Classification/Binary_Classification/train/COV-19/1-s2.0-S2387020620301959-gr4_lrg-b.png  \n",
            "  inflating: Binary_Classification/Binary_Classification/train/COV-19/covid-19-pneumonia-35-1.jpg  \n",
            "  inflating: Binary_Classification/Binary_Classification/train/COV-19/2168a917.jpg  \n",
            "  inflating: Binary_Classification/Binary_Classification/train/COV-19/ryct.2020200034.fig5-day4.jpeg  \n",
            "  inflating: Binary_Classification/Binary_Classification/train/COV-19/16660_3_1.jpg  \n",
            "  inflating: Binary_Classification/Binary_Classification/train/COV-19/4e43e48d52c9e2d4c6c1fb9bc1544f_jumbo.jpeg  \n",
            "  inflating: Binary_Classification/Binary_Classification/train/COV-19/lancet-case2a.jpg  \n",
            "  inflating: Binary_Classification/Binary_Classification/train/COV-19/covid-19-pneumonia-38-pa.jpg  \n",
            "  inflating: Binary_Classification/Binary_Classification/train/COV-19/figure1-5e75d0940b71e1b702629659-98-right.jpeg  \n",
            "  inflating: Binary_Classification/Binary_Classification/train/COV-19/14d81f378173b86cc53f21d2d67040_jumbo.jpeg  \n",
            "  inflating: Binary_Classification/Binary_Classification/train/COV-19/a361d7b7.jpg  \n",
            "  inflating: Binary_Classification/Binary_Classification/train/COV-19/covid-19-pneumonia-35-2.jpg  \n",
            "  inflating: Binary_Classification/Binary_Classification/train/COV-19/16660_1_1.jpg  \n",
            "  inflating: Binary_Classification/Binary_Classification/train/COV-19/16708_1_1.jpg  \n",
            "  inflating: Binary_Classification/Binary_Classification/train/COV-19/1B734A89-A1BF-49A8-A1D3-66FAFA4FAC5D.jpeg  \n",
            "  inflating: Binary_Classification/Binary_Classification/train/COV-19/covid-19-pneumonia-28.png  \n",
            "  inflating: Binary_Classification/Binary_Classification/train/COV-19/covid-19-pneumonia-evolution-over-a-week-1-day0-PA.jpg  \n",
            "  inflating: Binary_Classification/Binary_Classification/train/COV-19/auntminnie-c-2020_01_28_23_51_6665_2020_01_28_Vietnam_coronavirus.jpeg  \n",
            "  inflating: Binary_Classification/Binary_Classification/train/COV-19/16745_5_1.png  \n",
            "  inflating: Binary_Classification/Binary_Classification/train/COV-19/c0f74558.jpg  \n",
            "  inflating: Binary_Classification/Binary_Classification/train/COV-19/1.CXRCTThoraximagesofCOVID-19fromSingapore.pdf-001-fig2b.png  \n",
            "  inflating: Binary_Classification/Binary_Classification/train/COV-19/AR-2.jpg  \n",
            "  inflating: Binary_Classification/Binary_Classification/train/COV-19/auntminnie-b-2020_01_28_23_51_6665_2020_01_28_Vietnam_coronavirus.jpeg  \n",
            "  inflating: Binary_Classification/Binary_Classification/train/COV-19/3b46de94.jpg  \n",
            "  inflating: Binary_Classification/Binary_Classification/train/COV-19/16708_5_1.jpg  \n",
            "  inflating: Binary_Classification/Binary_Classification/train/COV-19/41182_2020_203_Fig5_HTML.jpg  \n",
            "  inflating: Binary_Classification/Binary_Classification/train/COV-19/2-chest-filmc.jpg  \n",
            "  inflating: Binary_Classification/Binary_Classification/train/COV-19/1.CXRCTThoraximagesofCOVID-19fromSingapore.pdf-001-fig2a.png  \n",
            "  inflating: Binary_Classification/Binary_Classification/train/COV-19/AR-1.jpg  \n",
            "  inflating: Binary_Classification/Binary_Classification/train/COV-19/88de9d8c39e946abd495b37cd07d89e5-6531-0.jpg  \n",
            "  inflating: Binary_Classification/Binary_Classification/train/COV-19/E63574A7-4188-4C8D-8D17-9D67A18A1AFA.jpeg  \n",
            "  inflating: Binary_Classification/Binary_Classification/train/COV-19/radiol.2020200490.fig3.jpeg  \n",
            "  inflating: Binary_Classification/Binary_Classification/train/COV-19/gr1_lrg-b.jpg  \n",
            "  inflating: Binary_Classification/Binary_Classification/train/COV-19/ryct.2020200028.fig1a.jpeg  \n",
            "  inflating: Binary_Classification/Binary_Classification/train/COV-19/1-s2.0-S1684118220300682-main.pdf-002-a1.png  \n",
            "  inflating: Binary_Classification/Binary_Classification/train/COV-19/1-s2.0-S2214250920300834-gr1_lrg-b.png  \n",
            "  inflating: Binary_Classification/Binary_Classification/train/COV-19/1.CXRCTThoraximagesofCOVID-19fromSingapore.pdf-002-fig3a.png  \n",
            "  inflating: Binary_Classification/Binary_Classification/train/COV-19/ciaa199.pdf-001-b.png  \n",
            "  inflating: Binary_Classification/Binary_Classification/train/COV-19/1-s2.0-S2214250920300834-gr1_lrg-c.png  \n",
            "  inflating: Binary_Classification/Binary_Classification/train/COV-19/ac4f6e4e.jpg  \n",
            "  inflating: Binary_Classification/Binary_Classification/train/COV-19/ae6c954c0039de4b5edee53865ffee43-e6c8-0.jpg  \n",
            "  inflating: Binary_Classification/Binary_Classification/train/COV-19/41591_2020_819_Fig1_HTML.webp-day10.png  \n",
            "  inflating: Binary_Classification/Binary_Classification/train/COV-19/a8ac1969.jpg  \n",
            "  inflating: Binary_Classification/Binary_Classification/train/COV-19/bb0e626a.jpg  \n",
            "  inflating: Binary_Classification/Binary_Classification/train/COV-19/9C34AF49-E589-44D5-92D3-168B3B04E4A6.jpeg  \n",
            "  inflating: Binary_Classification/Binary_Classification/train/COV-19/1-s2.0-S1684118220300682-main.pdf-002-a2.png  \n",
            "  inflating: Binary_Classification/Binary_Classification/train/COV-19/1.CXRCTThoraximagesofCOVID-19fromSingapore.pdf-002-fig3b.png  \n",
            "  inflating: Binary_Classification/Binary_Classification/train/COV-19/bd10d5e2.jpg  \n",
            "  inflating: Binary_Classification/Binary_Classification/train/COV-19/53EC07C9-5CC6-4BE4-9B6F-D7B0D72AAA7E.jpeg  \n",
            "  inflating: Binary_Classification/Binary_Classification/train/COV-19/ciaa199.pdf-001-a.png  \n",
            "  inflating: Binary_Classification/Binary_Classification/train/COV-19/covid-19-pneumonia-20.jpg  \n",
            "  inflating: Binary_Classification/Binary_Classification/train/COV-19/16664_1_1.jpg  \n",
            "  inflating: Binary_Classification/Binary_Classification/train/COV-19/1312A392-67A3-4EBF-9319-810CF6DA5EF6.jpeg  \n",
            "  inflating: Binary_Classification/Binary_Classification/train/COV-19/88de9d8c39e946abd495b37cd07d89e5-2ee6-0.jpg  \n",
            "  inflating: Binary_Classification/Binary_Classification/train/COV-19/01E392EE-69F9-4E33-BFCE-E5C968654078.jpeg  \n",
            "  inflating: Binary_Classification/Binary_Classification/train/COV-19/93FE0BB1-022D-4F24-9727-987A07975FFB.jpeg  \n",
            "  inflating: Binary_Classification/Binary_Classification/train/COV-19/441c9cdd.jpg  \n",
            "  inflating: Binary_Classification/Binary_Classification/train/COV-19/kjr-21-e25-g001-l-a.jpg  \n",
            "  inflating: Binary_Classification/Binary_Classification/train/COV-19/6C94A287-C059-46A0-8600-AFB95F4727B7.jpeg  \n",
            "  inflating: Binary_Classification/Binary_Classification/train/COV-19/2966893D-5DDF-4B68-9E2B-4979D5956C8E.jpeg  \n",
            "  inflating: Binary_Classification/Binary_Classification/train/COV-19/1.CXRCTThoraximagesofCOVID-19fromSingapore.pdf-003-fig4a.png  \n",
            "  inflating: Binary_Classification/Binary_Classification/train/COV-19/4d98e1de.jpg  \n",
            "  inflating: Binary_Classification/Binary_Classification/train/COV-19/10.1016-slash-j.crad.2020.04.002-b.png  \n",
            "  inflating: Binary_Classification/Binary_Classification/train/COV-19/f8335316.jpg  \n",
            "  inflating: Binary_Classification/Binary_Classification/train/COV-19/nejmoa2001191_f3-PA.jpeg  \n",
            "  inflating: Binary_Classification/Binary_Classification/train/COV-19/all14238-fig-0001-m-b.jpg  \n",
            "  inflating: Binary_Classification/Binary_Classification/train/COV-19/thnov10p5641g006-c.png  \n",
            "  inflating: Binary_Classification/Binary_Classification/train/COV-19/covid-19-pneumonia-15-PA.jpg  \n",
            "  inflating: Binary_Classification/Binary_Classification/train/COV-19/ryct.2020200034.fig5-day7.jpeg  \n",
            "  inflating: Binary_Classification/Binary_Classification/train/COV-19/d9d6ca9a.jpg  \n",
            "  inflating: Binary_Classification/Binary_Classification/train/COV-19/c3829ecb.jpg  \n",
            "  inflating: Binary_Classification/Binary_Classification/train/COV-19/1.CXRCTThoraximagesofCOVID-19fromSingapore.pdf-003-fig4b.png  \n",
            "  inflating: Binary_Classification/Binary_Classification/train/COV-19/10.1016-slash-j.crad.2020.04.002-a.png  \n",
            "  inflating: Binary_Classification/Binary_Classification/train/COV-19/80446565-E090-4187-A031-9D3CEAA586C8.jpeg  \n",
            "  inflating: Binary_Classification/Binary_Classification/train/COV-19/nejmoa2001191_f4.jpeg  \n",
            "  inflating: Binary_Classification/Binary_Classification/train/COV-19/2C26F453-AF3B-4517-BB9E-802CF2179543.jpeg  \n",
            "  inflating: Binary_Classification/Binary_Classification/train/COV-19/5782ae15.jpg  \n",
            "  inflating: Binary_Classification/Binary_Classification/train/COV-19/6b44464d-73a7-4cf3-bbb6-ffe7168300e3.annot.original.jpeg  \n",
            "  inflating: Binary_Classification/Binary_Classification/train/COV-19/f6575117.jpg  \n",
            "  inflating: Binary_Classification/Binary_Classification/train/COV-19/figure1-5e71be566aa8714a04de3386-98-left.jpeg  \n",
            "  inflating: Binary_Classification/Binary_Classification/train/COV-19/48c4542c.jpg  \n",
            "  inflating: Binary_Classification/Binary_Classification/train/COV-19/6b3bdbc31f65230b8cdcc3cef5f8ba8a-40ac-0.jpg  \n",
            "  inflating: Binary_Classification/Binary_Classification/train/COV-19/1.CXRCTThoraximagesofCOVID-19fromSingapore.pdf-000-fig1b.png  \n",
            "  inflating: Binary_Classification/Binary_Classification/train/COV-19/yxppt-2020-02-19_00-51-27_287214-day8.jpg  \n",
            "  inflating: Binary_Classification/Binary_Classification/train/COV-19/nejmoa2001191_f1-PA.jpeg  \n",
            "  inflating: Binary_Classification/Binary_Classification/train/COV-19/7AF6C1AF-D249-4BD2-8C26-449304105D03.jpeg  \n",
            "  inflating: Binary_Classification/Binary_Classification/train/COV-19/ryct.2020200034.fig5-day0.jpeg  \n",
            "  inflating: Binary_Classification/Binary_Classification/train/COV-19/8fc103ca.jpg  \n",
            "  inflating: Binary_Classification/Binary_Classification/train/COV-19/auntminnie-d-2020_01_28_23_51_6665_2020_01_28_Vietnam_coronavirus.jpeg  \n",
            "  inflating: Binary_Classification/Binary_Classification/train/COV-19/8da14fff.jpg  \n",
            "  inflating: Binary_Classification/Binary_Classification/train/COV-19/58cb9263f16e94305c730685358e4e_jumbo.jpeg  \n",
            "  inflating: Binary_Classification/Binary_Classification/train/COV-19/tpmd200203f2-b.png  \n",
            "  inflating: Binary_Classification/Binary_Classification/train/COV-19/covid-19-caso-70-1-PA.jpg  \n",
            "  inflating: Binary_Classification/Binary_Classification/train/COV-19/1-s2.0-S1684118220300608-main.pdf-001.jpg  \n",
            "  inflating: Binary_Classification/Binary_Classification/train/COV-19/F4341CE7-73C9-45C6-99C8-8567A5484B63.jpeg  \n",
            "  inflating: Binary_Classification/Binary_Classification/train/COV-19/CD50BA96-6982-4C80-AE7B-5F67ACDBFA56.jpeg  \n",
            "  inflating: Binary_Classification/Binary_Classification/train/COV-19/tpmd200203f2-c.png  \n",
            "  inflating: Binary_Classification/Binary_Classification/train/COV-19/41591_2020_819_Fig1_HTML.webp-day5.png  \n",
            "  inflating: Binary_Classification/Binary_Classification/train/COV-19/covid-19-pneumonia-mild.JPG  \n",
            "  inflating: Binary_Classification/Binary_Classification/train/COV-19/1-s2.0-S1684118220300682-main.pdf-003-b1.png  \n",
            "  inflating: Binary_Classification/Binary_Classification/train/COV-19/ec083e35.jpg  \n",
            "  inflating: Binary_Classification/Binary_Classification/train/COV-19/fff49165-b22d-4bb4-b9d1-d5d62c52436c.annot.original.png  \n",
            "  inflating: Binary_Classification/Binary_Classification/train/COV-19/extubation-4.jpg  \n",
            "  inflating: Binary_Classification/Binary_Classification/train/COV-19/covid-19-pneumonia-93.png  \n",
            "  inflating: Binary_Classification/Binary_Classification/train/COV-19/1-s2.0-S1684118220300608-main.pdf-002.jpg  \n",
            "  inflating: Binary_Classification/Binary_Classification/train/COV-19/80b5f00f.jpg  \n",
            "  inflating: Binary_Classification/Binary_Classification/train/COV-19/b9673e89.jpg  \n",
            "  inflating: Binary_Classification/Binary_Classification/train/COV-19/1-s2.0-S1684118220300682-main.pdf-003-b2.png  \n",
            "  inflating: Binary_Classification/Binary_Classification/train/NORMAL/IM-0355-0001.jpeg  \n",
            "  inflating: Binary_Classification/Binary_Classification/train/NORMAL/NORMAL2-IM-0664-0001.jpeg  \n",
            "  inflating: Binary_Classification/Binary_Classification/train/NORMAL/IM-0467-0001-0001.jpeg  \n",
            "  inflating: Binary_Classification/Binary_Classification/train/NORMAL/IM-0624-0001.jpeg  \n",
            "  inflating: Binary_Classification/Binary_Classification/train/NORMAL/NORMAL2-IM-0840-0001.jpeg  \n",
            "  inflating: Binary_Classification/Binary_Classification/train/NORMAL/NORMAL2-IM-0521-0001.jpeg  \n",
            "  inflating: Binary_Classification/Binary_Classification/train/NORMAL/NORMAL2-IM-0698-0001.jpeg  \n",
            "  inflating: Binary_Classification/Binary_Classification/train/NORMAL/IM-0226-0001.jpeg  \n",
            "  inflating: Binary_Classification/Binary_Classification/train/NORMAL/IM-0499-0001.jpeg  \n",
            "  inflating: Binary_Classification/Binary_Classification/train/NORMAL/NORMAL2-IM-0648-0001.jpeg  \n",
            "  inflating: Binary_Classification/Binary_Classification/train/NORMAL/NORMAL2-IM-0859-0001.jpeg  \n",
            "  inflating: Binary_Classification/Binary_Classification/train/NORMAL/IM-0584-0001.jpeg  \n",
            "  inflating: Binary_Classification/Binary_Classification/train/NORMAL/NORMAL2-IM-0626-0001.jpeg  \n",
            "  inflating: Binary_Classification/Binary_Classification/train/NORMAL/IM-0471-0001.jpeg  \n",
            "  inflating: Binary_Classification/Binary_Classification/train/NORMAL/.DS_Store  \n",
            "  inflating: Binary_Classification/__MACOSX/Binary_Classification/train/NORMAL/._.DS_Store  \n",
            "  inflating: Binary_Classification/Binary_Classification/train/NORMAL/NORMAL2-IM-0489-0001.jpeg  \n",
            "  inflating: Binary_Classification/Binary_Classification/train/NORMAL/NORMAL2-IM-1116-0001.jpeg  \n",
            "  inflating: Binary_Classification/Binary_Classification/train/NORMAL/NORMAL2-IM-0395-0001-0001.jpeg  \n",
            "  inflating: Binary_Classification/Binary_Classification/train/NORMAL/NORMAL2-IM-0873-0001.jpeg  \n",
            "  inflating: Binary_Classification/Binary_Classification/train/NORMAL/IM-0596-0001.jpeg  \n",
            "  inflating: Binary_Classification/Binary_Classification/train/NORMAL/NORMAL2-IM-1102-0001-0002.jpeg  \n",
            "  inflating: Binary_Classification/Binary_Classification/train/NORMAL/IM-0477-0001.jpeg  \n",
            "  inflating: Binary_Classification/Binary_Classification/train/NORMAL/NORMAL2-IM-1006-0001.jpeg  \n",
            "  inflating: Binary_Classification/Binary_Classification/train/NORMAL/NORMAL2-IM-1152-0001-0001.jpeg  \n",
            "  inflating: Binary_Classification/Binary_Classification/train/NORMAL/IM-0311-0001.jpeg  \n",
            "  inflating: Binary_Classification/Binary_Classification/train/NORMAL/IM-0501-0001-0001.jpeg  \n",
            "  inflating: Binary_Classification/Binary_Classification/train/NORMAL/IM-0456-0001.jpeg  \n",
            "  inflating: Binary_Classification/Binary_Classification/train/NORMAL/NORMAL2-IM-0753-0001.jpeg  \n",
            "  inflating: Binary_Classification/Binary_Classification/train/NORMAL/IM-0612-0001-0002.jpeg  \n",
            "  inflating: Binary_Classification/Binary_Classification/train/NORMAL/IM-0218-0001.jpeg  \n",
            "  inflating: Binary_Classification/Binary_Classification/train/NORMAL/NORMAL2-IM-0453-0001.jpeg  \n",
            "  inflating: Binary_Classification/Binary_Classification/train/NORMAL/NORMAL2-IM-0948-0001.jpeg  \n",
            "  inflating: Binary_Classification/Binary_Classification/train/NORMAL/NORMAL2-IM-0429-0001.jpeg  \n",
            "  inflating: Binary_Classification/Binary_Classification/train/NORMAL/IM-0618-0001-0002.jpeg  \n",
            "  inflating: Binary_Classification/Binary_Classification/train/NORMAL/IM-0176-0001.jpeg  \n",
            "  inflating: Binary_Classification/Binary_Classification/train/NORMAL/IM-0541-0001.jpeg  \n",
            "  inflating: Binary_Classification/Binary_Classification/train/NORMAL/NORMAL2-IM-0699-0001.jpeg  \n",
            "  inflating: Binary_Classification/Binary_Classification/train/NORMAL/IM-0696-0001.jpeg  \n",
            "  inflating: Binary_Classification/Binary_Classification/train/NORMAL/IM-0413-0001.jpeg  \n",
            "  inflating: Binary_Classification/Binary_Classification/train/NORMAL/NORMAL2-IM-1142-0001-0001.jpeg  \n",
            "  inflating: Binary_Classification/Binary_Classification/train/NORMAL/NORMAL2-IM-0879-0001.jpeg  \n",
            "  inflating: Binary_Classification/Binary_Classification/train/NORMAL/IM-0511-0001-0001.jpeg  \n",
            "  inflating: Binary_Classification/Binary_Classification/train/NORMAL/IM-0337-0001.jpeg  \n",
            "  inflating: Binary_Classification/Binary_Classification/train/NORMAL/NORMAL2-IM-0576-0001.jpeg  \n",
            "  inflating: Binary_Classification/Binary_Classification/train/NORMAL/NORMAL2-IM-1020-0001.jpeg  \n",
            "  inflating: Binary_Classification/Binary_Classification/train/NORMAL/NORMAL2-IM-0627-0001.jpeg  \n",
            "  inflating: Binary_Classification/Binary_Classification/train/NORMAL/IM-0646-0001.jpeg  \n",
            "  inflating: Binary_Classification/Binary_Classification/train/NORMAL/NORMAL2-IM-0970-0001.jpeg  \n",
            "  inflating: Binary_Classification/Binary_Classification/train/NORMAL/NORMAL2-IM-0460-0001.jpeg  \n",
            "  inflating: Binary_Classification/Binary_Classification/train/NORMAL/IM-0622-0001-0001.jpeg  \n",
            "  inflating: Binary_Classification/Binary_Classification/train/NORMAL/NORMAL2-IM-0847-0001.jpeg  \n",
            "  inflating: Binary_Classification/Binary_Classification/train/NORMAL/IM-0309-0001.jpeg  \n",
            "  inflating: Binary_Classification/Binary_Classification/train/NORMAL/IM-0434-0001.jpeg  \n",
            "  inflating: Binary_Classification/Binary_Classification/train/NORMAL/NORMAL2-IM-0872-0001.jpeg  \n",
            "  inflating: Binary_Classification/Binary_Classification/train/NORMAL/NORMAL2-IM-0796-0001.jpeg  \n",
            "  inflating: Binary_Classification/Binary_Classification/train/NORMAL/NORMAL2-IM-0934-0001.jpeg  \n",
            "  inflating: Binary_Classification/Binary_Classification/train/NORMAL/IM-0164-0001.jpeg  \n",
            "  inflating: Binary_Classification/Binary_Classification/train/NORMAL/NORMAL2-IM-0513-0001.jpeg  \n",
            "  inflating: Binary_Classification/Binary_Classification/train/NORMAL/IM-0346-0001.jpeg  \n",
            "  inflating: Binary_Classification/Binary_Classification/train/NORMAL/IM-0706-0001.jpeg  \n",
            "  inflating: Binary_Classification/Binary_Classification/train/NORMAL/NORMAL2-IM-1128-0001-0001.jpeg  \n",
            "  inflating: Binary_Classification/Binary_Classification/train/NORMAL/NORMAL2-IM-0545-0001.jpeg  \n",
            "  inflating: Binary_Classification/Binary_Classification/train/NORMAL/NORMAL2-IM-0479-0001.jpeg  \n",
            "  inflating: Binary_Classification/Binary_Classification/train/NORMAL/NORMAL2-IM-0686-0001.jpeg  \n",
            "  inflating: Binary_Classification/Binary_Classification/train/NORMAL/NORMAL2-IM-0995-0001-0001.jpeg  \n",
            "  inflating: Binary_Classification/Binary_Classification/train/NORMAL/NORMAL2-IM-1048-0001.jpeg  \n",
            "  inflating: Binary_Classification/Binary_Classification/train/NORMAL/IM-0517-0001-0001.jpeg  \n",
            "  inflating: Binary_Classification/Binary_Classification/train/NORMAL/IM-0457-0001.jpeg  \n",
            "  inflating: Binary_Classification/Binary_Classification/train/NORMAL/IM-0511-0001.jpeg  \n",
            "  inflating: Binary_Classification/Binary_Classification/train/NORMAL/IM-0660-0001-0001.jpeg  \n",
            "  inflating: Binary_Classification/Binary_Classification/train/NORMAL/NORMAL2-IM-1180-0001.jpeg  \n",
            "  inflating: Binary_Classification/Binary_Classification/train/NORMAL/IM-0681-0001.jpeg  \n",
            "  inflating: Binary_Classification/Binary_Classification/train/NORMAL/IM-0362-0001.jpeg  \n",
            "  inflating: Binary_Classification/Binary_Classification/train/NORMAL/IM-0519-0001.jpeg  \n",
            "  inflating: Binary_Classification/Binary_Classification/train/NORMAL/IM-0205-0001.jpeg  \n",
            "  inflating: Binary_Classification/Binary_Classification/train/NORMAL/NORMAL2-IM-0672-0001.jpeg  \n",
            "  inflating: Binary_Classification/Binary_Classification/train/NORMAL/IM-0357-0001.jpeg  \n",
            "  inflating: Binary_Classification/Binary_Classification/train/NORMAL/NORMAL2-IM-0931-0001.jpeg  \n",
            "  inflating: Binary_Classification/Binary_Classification/train/NORMAL/IM-0607-0001.jpeg  \n",
            "  inflating: Binary_Classification/Binary_Classification/train/NORMAL/NORMAL2-IM-0967-0001.jpeg  \n",
            "  inflating: Binary_Classification/Binary_Classification/train/NORMAL/NORMAL2-IM-0886-0001.jpeg  \n",
            "  inflating: Binary_Classification/Binary_Classification/train/NORMAL/NORMAL2-IM-0412-0001.jpeg  \n",
            "  inflating: Binary_Classification/Binary_Classification/train/NORMAL/NORMAL2-IM-0909-0001.jpeg  \n",
            "  inflating: Binary_Classification/Binary_Classification/train/NORMAL/NORMAL2-IM-1090-0001.jpeg  \n",
            "  inflating: Binary_Classification/Binary_Classification/train/NORMAL/IM-0722-0001.jpeg  \n",
            "  inflating: Binary_Classification/Binary_Classification/train/NORMAL/NORMAL2-IM-1171-0001.jpeg  \n",
            "  inflating: Binary_Classification/Binary_Classification/train/NORMAL/IM-0500-0001.jpeg  \n",
            "  inflating: Binary_Classification/Binary_Classification/train/NORMAL/NORMAL2-IM-1037-0001.jpeg  \n",
            "  inflating: Binary_Classification/Binary_Classification/train/NORMAL/IM-0320-0001.jpeg  \n",
            "  inflating: Binary_Classification/Binary_Classification/train/NORMAL/IM-0266-0001.jpeg  \n",
            "  inflating: Binary_Classification/Binary_Classification/train/NORMAL/IM-0345-0001.jpeg  \n",
            "  inflating: Binary_Classification/Binary_Classification/train/NORMAL/IM-0525-0001-0001.jpeg  \n",
            "  inflating: Binary_Classification/Binary_Classification/train/NORMAL/NORMAL2-IM-0871-0001.jpeg  \n",
            "  inflating: Binary_Classification/Binary_Classification/train/NORMAL/IM-0437-0001.jpeg  \n",
            "  inflating: Binary_Classification/Binary_Classification/train/NORMAL/IM-0217-0001.jpeg  \n",
            "  inflating: Binary_Classification/Binary_Classification/train/NORMAL/NORMAL2-IM-0707-0001.jpeg  \n",
            "  inflating: Binary_Classification/Binary_Classification/train/NORMAL/NORMAL2-IM-0641-0001.jpeg  \n",
            "  inflating: Binary_Classification/Binary_Classification/train/NORMAL/IM-0693-0001.jpeg  \n",
            "  inflating: Binary_Classification/Binary_Classification/train/NORMAL/IM-0364-0001.jpeg  \n",
            "  inflating: Binary_Classification/Binary_Classification/train/NORMAL/NORMAL2-IM-0573-0001.jpeg  \n",
            "  inflating: Binary_Classification/Binary_Classification/train/NORMAL/IM-0631-0001-0002.jpeg  \n",
            "  inflating: Binary_Classification/Binary_Classification/train/NORMAL/IM-0711-0001.jpeg  \n",
            "  inflating: Binary_Classification/Binary_Classification/train/NORMAL/IM-0705-0001.jpeg  \n",
            "  inflating: Binary_Classification/Binary_Classification/train/NORMAL/IM-0475-0001.jpeg  \n",
            "  inflating: Binary_Classification/Binary_Classification/train/NORMAL/NORMAL2-IM-0552-0001.jpeg  \n",
            "  inflating: Binary_Classification/Binary_Classification/train/NORMAL/NORMAL2-IM-1132-0001.jpeg  \n",
            "  inflating: Binary_Classification/Binary_Classification/train/NORMAL/IM-0551-0001-0001.jpeg  \n",
            "  inflating: Binary_Classification/Binary_Classification/train/NORMAL/NORMAL2-IM-1148-0001.jpeg  \n",
            "  inflating: Binary_Classification/Binary_Classification/train/NORMAL/NORMAL2-IM-0464-0001.jpeg  \n",
            "  inflating: Binary_Classification/Binary_Classification/train/NORMAL/NORMAL2-IM-0522-0001.jpeg  \n",
            "  inflating: Binary_Classification/Binary_Classification/train/NORMAL/NORMAL2-IM-1102-0001-0001.jpeg  \n",
            "  inflating: Binary_Classification/Binary_Classification/train/NORMAL/IM-0141-0001.jpeg  \n",
            "  inflating: Binary_Classification/Binary_Classification/train/NORMAL/IM-0411-0001.jpeg  \n",
            "  inflating: Binary_Classification/Binary_Classification/train/NORMAL/IM-0627-0001.jpeg  \n",
            "  inflating: Binary_Classification/Binary_Classification/train/NORMAL/NORMAL2-IM-0517-0001.jpeg  \n",
            "  inflating: Binary_Classification/Binary_Classification/train/NORMAL/IM-0160-0001.jpeg  \n",
            "  inflating: Binary_Classification/Binary_Classification/train/NORMAL/IM-0668-0001.jpeg  \n",
            "  inflating: Binary_Classification/Binary_Classification/train/NORMAL/IM-0408-0001.jpeg  \n",
            "  inflating: Binary_Classification/Binary_Classification/train/NORMAL/NORMAL2-IM-1151-0001.jpeg  \n",
            "  inflating: Binary_Classification/Binary_Classification/train/NORMAL/NORMAL2-IM-0682-0001.jpeg  \n",
            "  inflating: Binary_Classification/Binary_Classification/train/NORMAL/NORMAL2-IM-0777-0001.jpeg  \n",
            "  inflating: Binary_Classification/Binary_Classification/train/NORMAL/IM-0501-0001.jpeg  \n",
            "  inflating: Binary_Classification/Binary_Classification/train/NORMAL/NORMAL2-IM-0929-0001.jpeg  \n",
            "  inflating: Binary_Classification/Binary_Classification/train/NORMAL/NORMAL2-IM-0604-0001.jpeg  \n",
            "  inflating: Binary_Classification/Binary_Classification/train/NORMAL/NORMAL2-IM-0448-0001.jpeg  \n",
            "  inflating: Binary_Classification/Binary_Classification/train/NORMAL/IM-0515-0001.jpeg  \n",
            "  inflating: Binary_Classification/Binary_Classification/train/NORMAL/NORMAL2-IM-1022-0001.jpeg  \n",
            "  inflating: Binary_Classification/Binary_Classification/train/NORMAL/IM-0453-0001.jpeg  \n",
            "  inflating: Binary_Classification/Binary_Classification/train/NORMAL/NORMAL2-IM-0870-0001.jpeg  \n",
            "  inflating: Binary_Classification/Binary_Classification/train/NORMAL/IM-0728-0001.jpeg  \n",
            "  inflating: Binary_Classification/Binary_Classification/train/NORMAL/NORMAL2-IM-1094-0001-0001.jpeg  \n",
            "  inflating: Binary_Classification/Binary_Classification/train/NORMAL/NORMAL2-IM-0675-0001.jpeg  \n",
            "  inflating: Binary_Classification/Binary_Classification/train/NORMAL/NORMAL2-IM-0583-0001.jpeg  \n",
            "  inflating: Binary_Classification/Binary_Classification/train/NORMAL/NORMAL2-IM-0689-0001.jpeg  \n",
            "  inflating: Binary_Classification/Binary_Classification/train/NORMAL/IM-0507-0001.jpeg  \n",
            "  inflating: Binary_Classification/Binary_Classification/train/NORMAL/NORMAL2-IM-0832-0001.jpeg  \n",
            "  inflating: Binary_Classification/Binary_Classification/train/NORMAL/IM-0368-0001.jpeg  \n",
            "  inflating: Binary_Classification/Binary_Classification/train/NORMAL/IM-0704-0001.jpeg  \n",
            "  inflating: Binary_Classification/Binary_Classification/train/NORMAL/IM-0437-0001-0001.jpeg  \n",
            "  inflating: Binary_Classification/Binary_Classification/train/NORMAL/NORMAL2-IM-0637-0001.jpeg  \n",
            "  inflating: Binary_Classification/Binary_Classification/train/NORMAL/NORMAL2-IM-0826-0001.jpeg  \n"
          ],
          "name": "stdout"
        }
      ]
    },
    {
      "cell_type": "markdown",
      "metadata": {
        "id": "3FtWCt70qERh",
        "colab_type": "text"
      },
      "source": [
        "Now that the data is downloaded to Colab, we need to specify the folders (i.e. Train and Test)"
      ]
    },
    {
      "cell_type": "code",
      "metadata": {
        "id": "KC7pezPWnaMZ",
        "colab_type": "code",
        "colab": {}
      },
      "source": [
        "# Creating the file path for test and train\n",
        "TRAIN_FILE_PATH = '/content/Binary_Classification/Binary_Classification/train'\n",
        "TEST_FILE_PATH = '/content/Binary_Classification/Binary_Classification/test'"
      ],
      "execution_count": 4,
      "outputs": []
    },
    {
      "cell_type": "markdown",
      "metadata": {
        "id": "joAbRhKDomJh",
        "colab_type": "text"
      },
      "source": [
        "Now that we have the data avaiable, we will start with modeling."
      ]
    },
    {
      "cell_type": "markdown",
      "metadata": {
        "id": "hB6_F82hpKww",
        "colab_type": "text"
      },
      "source": [
        "# CNN MODELING - Binary Classification"
      ]
    },
    {
      "cell_type": "markdown",
      "metadata": {
        "id": "yRkhAemytPJH",
        "colab_type": "text"
      },
      "source": [
        "With the CNN modeling, we will employ a layered architecture approach to identify the patterns in the images."
      ]
    },
    {
      "cell_type": "code",
      "metadata": {
        "id": "cinqOt7ToFn5",
        "colab_type": "code",
        "colab": {}
      },
      "source": [
        "# Intantiating the Sequential Model\n",
        "cnn_model = Sequential()\n",
        "\n",
        "# We have a 32 filter in the first layer to feature extraction and a kernal size of (3x3) as a standard\n",
        "cnn_model.add(Conv2D(32,kernel_size=(3,3),activation=\"relu\",input_shape=(224,224,3)))\n",
        "\n",
        "cnn_model.add(Conv2D(64,(3,3),activation=\"relu\"))\n",
        "cnn_model.add(MaxPooling2D(pool_size = (2,2)))\n",
        "cnn_model.add(Dropout(0.25))\n",
        "\n",
        "cnn_model.add(Conv2D(64,(3,3),activation=\"relu\"))\n",
        "cnn_model.add(MaxPooling2D(pool_size=(2,2)))\n",
        "cnn_model.add(Dropout(0.25))\n",
        "\n",
        "cnn_model.add(Conv2D(128,(3,3),activation=\"relu\"))\n",
        "cnn_model.add(MaxPooling2D(pool_size=(2,2)))\n",
        "cnn_model.add(Dropout(0.25))\n",
        "\n",
        "cnn_model.add(Conv2D(128,(3,3),activation=\"relu\"))\n",
        "cnn_model.add(MaxPooling2D(pool_size=(2,2)))\n",
        "cnn_model.add(Dropout(0.25))\n",
        "\n",
        "cnn_model.add(Flatten())\n",
        "cnn_model.add(Dense(64,activation=\"relu\"))\n",
        "cnn_model.add(Dropout(0.5))\n",
        "\n",
        "# Selecting output layer as 2\n",
        "cnn_model.add(Dense(2,activation=\"sigmoid\")) #activation selected as 'sigmoid' for Binary Class\n",
        "\n",
        "# Compile Model on Binary Cross entropy (Binary_Classification) and Optimizer = adam\n",
        "cnn_model.compile(loss=keras.losses.binary_crossentropy,optimizer = \"adam\",metrics=[\"accuracy\"])"
      ],
      "execution_count": 5,
      "outputs": []
    },
    {
      "cell_type": "markdown",
      "metadata": {
        "id": "zrnrWy7lw57r",
        "colab_type": "text"
      },
      "source": [
        "# MODEL ARCHITECTURE"
      ]
    },
    {
      "cell_type": "code",
      "metadata": {
        "id": "CF2aj-m-rgaE",
        "colab_type": "code",
        "colab": {
          "base_uri": "https://localhost:8080/",
          "height": 731
        },
        "outputId": "f490aa25-2726-4a26-bae9-b756167063be"
      },
      "source": [
        "#Generating the model summary\n",
        "cnn_model.summary()"
      ],
      "execution_count": 6,
      "outputs": [
        {
          "output_type": "stream",
          "text": [
            "Model: \"sequential\"\n",
            "_________________________________________________________________\n",
            "Layer (type)                 Output Shape              Param #   \n",
            "=================================================================\n",
            "conv2d (Conv2D)              (None, 222, 222, 32)      896       \n",
            "_________________________________________________________________\n",
            "conv2d_1 (Conv2D)            (None, 220, 220, 64)      18496     \n",
            "_________________________________________________________________\n",
            "max_pooling2d (MaxPooling2D) (None, 110, 110, 64)      0         \n",
            "_________________________________________________________________\n",
            "dropout (Dropout)            (None, 110, 110, 64)      0         \n",
            "_________________________________________________________________\n",
            "conv2d_2 (Conv2D)            (None, 108, 108, 64)      36928     \n",
            "_________________________________________________________________\n",
            "max_pooling2d_1 (MaxPooling2 (None, 54, 54, 64)        0         \n",
            "_________________________________________________________________\n",
            "dropout_1 (Dropout)          (None, 54, 54, 64)        0         \n",
            "_________________________________________________________________\n",
            "conv2d_3 (Conv2D)            (None, 52, 52, 128)       73856     \n",
            "_________________________________________________________________\n",
            "max_pooling2d_2 (MaxPooling2 (None, 26, 26, 128)       0         \n",
            "_________________________________________________________________\n",
            "dropout_2 (Dropout)          (None, 26, 26, 128)       0         \n",
            "_________________________________________________________________\n",
            "conv2d_4 (Conv2D)            (None, 24, 24, 128)       147584    \n",
            "_________________________________________________________________\n",
            "max_pooling2d_3 (MaxPooling2 (None, 12, 12, 128)       0         \n",
            "_________________________________________________________________\n",
            "dropout_3 (Dropout)          (None, 12, 12, 128)       0         \n",
            "_________________________________________________________________\n",
            "flatten (Flatten)            (None, 18432)             0         \n",
            "_________________________________________________________________\n",
            "dense (Dense)                (None, 64)                1179712   \n",
            "_________________________________________________________________\n",
            "dropout_4 (Dropout)          (None, 64)                0         \n",
            "_________________________________________________________________\n",
            "dense_1 (Dense)              (None, 2)                 130       \n",
            "=================================================================\n",
            "Total params: 1,457,602\n",
            "Trainable params: 1,457,602\n",
            "Non-trainable params: 0\n",
            "_________________________________________________________________\n"
          ],
          "name": "stdout"
        }
      ]
    },
    {
      "cell_type": "markdown",
      "metadata": {
        "id": "htsRIOfusW0S",
        "colab_type": "text"
      },
      "source": [
        "We now have established a CNN model."
      ]
    },
    {
      "cell_type": "markdown",
      "metadata": {
        "id": "Gv5mmIj0shBh",
        "colab_type": "text"
      },
      "source": [
        "# MODEL TRAINING"
      ]
    },
    {
      "cell_type": "markdown",
      "metadata": {
        "id": "c61Er6XmuqEA",
        "colab_type": "text"
      },
      "source": [
        "Since the images (CXR) are of a different shape, we will perform data augmentation."
      ]
    },
    {
      "cell_type": "markdown",
      "metadata": {
        "id": "WfDiyDJ8vGI7",
        "colab_type": "text"
      },
      "source": [
        "## DATA AUGMENTATION"
      ]
    },
    {
      "cell_type": "markdown",
      "metadata": {
        "id": "ZpP5lgpQxaAG",
        "colab_type": "text"
      },
      "source": [
        "### Train Data Augmentation"
      ]
    },
    {
      "cell_type": "code",
      "metadata": {
        "id": "9XN9sfvwsUXw",
        "colab_type": "code",
        "colab": {}
      },
      "source": [
        "# using the keras image data generator to augment the data\n",
        "train_data_gen = image.ImageDataGenerator(\n",
        "    rescale = 1./255,\n",
        "    shear_range = 0.2,\n",
        "    zoom_range = 0.2,\n",
        "    horizontal_flip = True,\n",
        ")\n",
        "test_data_gen = image.ImageDataGenerator(rescale = 1./255)"
      ],
      "execution_count": 7,
      "outputs": []
    },
    {
      "cell_type": "code",
      "metadata": {
        "id": "_w847FEwv35c",
        "colab_type": "code",
        "colab": {
          "base_uri": "https://localhost:8080/",
          "height": 34
        },
        "outputId": "148742e2-10f3-4b59-f2b5-0940ea8e48b6"
      },
      "source": [
        "# augmenting the train set images\n",
        "train_image_gen = train_data_gen.flow_from_directory(\n",
        "    TRAIN_FILE_PATH,\n",
        "    target_size = (224,224),\n",
        "    batch_size = 32,\n",
        "    class_mode = 'categorical'\n",
        ")"
      ],
      "execution_count": 8,
      "outputs": [
        {
          "output_type": "stream",
          "text": [
            "Found 279 images belonging to 2 classes.\n"
          ],
          "name": "stdout"
        }
      ]
    },
    {
      "cell_type": "code",
      "metadata": {
        "id": "CPHMAaF8xCg9",
        "colab_type": "code",
        "colab": {
          "base_uri": "https://localhost:8080/",
          "height": 34
        },
        "outputId": "376e8cd9-54b0-4937-84a3-3b6d07f1d85c"
      },
      "source": [
        "#Checking the classes of the images in the train data set\n",
        "train_image_gen.class_indices"
      ],
      "execution_count": 9,
      "outputs": [
        {
          "output_type": "execute_result",
          "data": {
            "text/plain": [
              "{'COV-19': 0, 'NORMAL': 1}"
            ]
          },
          "metadata": {
            "tags": []
          },
          "execution_count": 9
        }
      ]
    },
    {
      "cell_type": "markdown",
      "metadata": {
        "id": "GH_ZTI4HxTsV",
        "colab_type": "text"
      },
      "source": [
        "### Test Data Augmentation"
      ]
    },
    {
      "cell_type": "code",
      "metadata": {
        "id": "6y3m08emxPYK",
        "colab_type": "code",
        "colab": {
          "base_uri": "https://localhost:8080/",
          "height": 34
        },
        "outputId": "d1e0bb9a-8e59-432f-926b-fa75e57b0ba6"
      },
      "source": [
        "# augmenting the train set images\n",
        "test_image_gen = test_data_gen.flow_from_directory(\n",
        "    TEST_FILE_PATH,\n",
        "    target_size = (224,224),\n",
        "    batch_size = 32,\n",
        "    class_mode = 'categorical',\n",
        "    shuffle=False\n",
        ")"
      ],
      "execution_count": 10,
      "outputs": [
        {
          "output_type": "stream",
          "text": [
            "Found 82 images belonging to 2 classes.\n"
          ],
          "name": "stdout"
        }
      ]
    },
    {
      "cell_type": "code",
      "metadata": {
        "id": "9ZLB1B_fxtQg",
        "colab_type": "code",
        "colab": {
          "base_uri": "https://localhost:8080/",
          "height": 34
        },
        "outputId": "6963a9e8-a3cc-4b25-c8f7-6345a47f9adf"
      },
      "source": [
        "#Checking the classes of the images in the test data set\n",
        "test_image_gen.class_indices"
      ],
      "execution_count": 11,
      "outputs": [
        {
          "output_type": "execute_result",
          "data": {
            "text/plain": [
              "{'COV-19': 0, 'NORMAL': 1}"
            ]
          },
          "metadata": {
            "tags": []
          },
          "execution_count": 11
        }
      ]
    },
    {
      "cell_type": "markdown",
      "metadata": {
        "id": "UkTc89nCx8eZ",
        "colab_type": "text"
      },
      "source": [
        "# FITTING TO THE CNN MODEL"
      ]
    },
    {
      "cell_type": "code",
      "metadata": {
        "id": "gpEerAL1V4My",
        "colab_type": "code",
        "colab": {}
      },
      "source": [
        "# declaring the params\n",
        "epochs = 30\n",
        "batch_size = 32\n",
        "num_of_train_samples = 279\n",
        "num_of_test_samples = 82"
      ],
      "execution_count": 12,
      "outputs": []
    },
    {
      "cell_type": "code",
      "metadata": {
        "id": "9XTqdIxlx0ct",
        "colab_type": "code",
        "colab": {
          "base_uri": "https://localhost:8080/",
          "height": 1000
        },
        "outputId": "25347198-ca26-491e-8a4b-958599ab084e"
      },
      "source": [
        "#instantiating the model\n",
        "Binary_Mod = cnn_model.fit_generator(\n",
        "    train_image_gen,\n",
        "    steps_per_epoch = num_of_train_samples // batch_size,\n",
        "    epochs = epochs,\n",
        "    validation_data = test_image_gen,\n",
        "    validation_steps = num_of_test_samples // batch_size\n",
        ")"
      ],
      "execution_count": 13,
      "outputs": [
        {
          "output_type": "stream",
          "text": [
            "WARNING:tensorflow:From <ipython-input-13-0f056d8d961e>:7: Model.fit_generator (from tensorflow.python.keras.engine.training) is deprecated and will be removed in a future version.\n",
            "Instructions for updating:\n",
            "Please use Model.fit, which supports generators.\n",
            "Epoch 1/30\n",
            "2/8 [======>.......................] - ETA: 0s - loss: 1.0493 - accuracy: 0.4219WARNING:tensorflow:Callbacks method `on_train_batch_end` is slow compared to the batch time (batch time: 0.0435s vs `on_train_batch_end` time: 0.0723s). Check your callbacks.\n",
            "8/8 [==============================] - 9s 1s/step - loss: 0.7880 - accuracy: 0.4858 - val_loss: 0.6932 - val_accuracy: 0.3594\n",
            "Epoch 2/30\n",
            "8/8 [==============================] - 9s 1s/step - loss: 0.6927 - accuracy: 0.4939 - val_loss: 0.6926 - val_accuracy: 0.7500\n",
            "Epoch 3/30\n",
            "8/8 [==============================] - 9s 1s/step - loss: 0.6889 - accuracy: 0.5506 - val_loss: 0.6789 - val_accuracy: 0.7500\n",
            "Epoch 4/30\n",
            "8/8 [==============================] - 9s 1s/step - loss: 0.6100 - accuracy: 0.6923 - val_loss: 0.4881 - val_accuracy: 0.8438\n",
            "Epoch 5/30\n",
            "8/8 [==============================] - 9s 1s/step - loss: 0.4698 - accuracy: 0.8300 - val_loss: 0.4278 - val_accuracy: 0.9375\n",
            "Epoch 6/30\n",
            "8/8 [==============================] - 9s 1s/step - loss: 0.3162 - accuracy: 0.8745 - val_loss: 0.3120 - val_accuracy: 1.0000\n",
            "Epoch 7/30\n",
            "8/8 [==============================] - 9s 1s/step - loss: 0.2651 - accuracy: 0.9150 - val_loss: 0.0977 - val_accuracy: 1.0000\n",
            "Epoch 8/30\n",
            "8/8 [==============================] - 9s 1s/step - loss: 0.2946 - accuracy: 0.9109 - val_loss: 0.2513 - val_accuracy: 0.9531\n",
            "Epoch 9/30\n",
            "8/8 [==============================] - 9s 1s/step - loss: 0.1523 - accuracy: 0.9474 - val_loss: 0.0311 - val_accuracy: 1.0000\n",
            "Epoch 10/30\n",
            "8/8 [==============================] - 9s 1s/step - loss: 0.5681 - accuracy: 0.8907 - val_loss: 0.0390 - val_accuracy: 1.0000\n",
            "Epoch 11/30\n",
            "8/8 [==============================] - 9s 1s/step - loss: 0.4353 - accuracy: 0.8745 - val_loss: 0.2316 - val_accuracy: 0.8906\n",
            "Epoch 12/30\n",
            "8/8 [==============================] - 9s 1s/step - loss: 0.3645 - accuracy: 0.8259 - val_loss: 0.2984 - val_accuracy: 0.9688\n",
            "Epoch 13/30\n",
            "8/8 [==============================] - 9s 1s/step - loss: 0.3633 - accuracy: 0.7935 - val_loss: 0.1915 - val_accuracy: 0.9844\n",
            "Epoch 14/30\n",
            "8/8 [==============================] - 9s 1s/step - loss: 0.3757 - accuracy: 0.8219 - val_loss: 0.1559 - val_accuracy: 1.0000\n",
            "Epoch 15/30\n",
            "8/8 [==============================] - 9s 1s/step - loss: 0.3819 - accuracy: 0.8016 - val_loss: 0.3004 - val_accuracy: 0.9062\n",
            "Epoch 16/30\n",
            "8/8 [==============================] - 9s 1s/step - loss: 0.4181 - accuracy: 0.8300 - val_loss: 0.4479 - val_accuracy: 1.0000\n",
            "Epoch 17/30\n",
            "8/8 [==============================] - 9s 1s/step - loss: 0.4217 - accuracy: 0.8320 - val_loss: 0.3462 - val_accuracy: 1.0000\n",
            "Epoch 18/30\n",
            "8/8 [==============================] - 9s 1s/step - loss: 0.3486 - accuracy: 0.8543 - val_loss: 0.2583 - val_accuracy: 0.9688\n",
            "Epoch 19/30\n",
            "8/8 [==============================] - 9s 1s/step - loss: 0.3371 - accuracy: 0.8785 - val_loss: 0.2391 - val_accuracy: 0.9844\n",
            "Epoch 20/30\n",
            "8/8 [==============================] - 9s 1s/step - loss: 0.3217 - accuracy: 0.9312 - val_loss: 0.2440 - val_accuracy: 1.0000\n",
            "Epoch 21/30\n",
            "8/8 [==============================] - 9s 1s/step - loss: 0.2957 - accuracy: 0.9109 - val_loss: 0.1941 - val_accuracy: 0.9844\n",
            "Epoch 22/30\n",
            "8/8 [==============================] - 9s 1s/step - loss: 0.2960 - accuracy: 0.9069 - val_loss: 0.1695 - val_accuracy: 1.0000\n",
            "Epoch 23/30\n",
            "8/8 [==============================] - 9s 1s/step - loss: 0.2919 - accuracy: 0.9190 - val_loss: 0.2065 - val_accuracy: 1.0000\n",
            "Epoch 24/30\n",
            "8/8 [==============================] - 9s 1s/step - loss: 0.2568 - accuracy: 0.9474 - val_loss: 0.0861 - val_accuracy: 1.0000\n",
            "Epoch 25/30\n",
            "8/8 [==============================] - 9s 1s/step - loss: 0.3394 - accuracy: 0.9231 - val_loss: 0.2266 - val_accuracy: 1.0000\n",
            "Epoch 26/30\n",
            "8/8 [==============================] - 9s 1s/step - loss: 0.4012 - accuracy: 0.9109 - val_loss: 0.0883 - val_accuracy: 0.9531\n",
            "Epoch 27/30\n",
            "8/8 [==============================] - 9s 1s/step - loss: 0.3883 - accuracy: 0.8828 - val_loss: 0.1223 - val_accuracy: 0.9375\n",
            "Epoch 28/30\n",
            "8/8 [==============================] - 9s 1s/step - loss: 0.3222 - accuracy: 0.8421 - val_loss: 0.1562 - val_accuracy: 0.9844\n",
            "Epoch 29/30\n",
            "8/8 [==============================] - 9s 1s/step - loss: 0.3364 - accuracy: 0.8866 - val_loss: 0.2261 - val_accuracy: 0.9844\n",
            "Epoch 30/30\n",
            "8/8 [==============================] - 9s 1s/step - loss: 0.2714 - accuracy: 0.8907 - val_loss: 0.1686 - val_accuracy: 1.0000\n"
          ],
          "name": "stdout"
        }
      ]
    },
    {
      "cell_type": "markdown",
      "metadata": {
        "id": "VshqTX3z3EXT",
        "colab_type": "text"
      },
      "source": [
        "## EVALUATING THE MODEL RESULTS"
      ]
    },
    {
      "cell_type": "code",
      "metadata": {
        "id": "KiMYJiUD3B44",
        "colab_type": "code",
        "colab": {}
      },
      "source": [
        "#Saving the above model\n",
        "cnn_model.save(\"Covid_19_Binary.h5\")"
      ],
      "execution_count": 14,
      "outputs": []
    },
    {
      "cell_type": "code",
      "metadata": {
        "id": "NjkC6rNm38zM",
        "colab_type": "code",
        "colab": {
          "base_uri": "https://localhost:8080/",
          "height": 105
        },
        "outputId": "590fd24e-ad37-407e-beff-a6e883982065"
      },
      "source": [
        "# Train dataset: results\n",
        "cnn_model.evaluate_generator(train_image_gen)"
      ],
      "execution_count": 15,
      "outputs": [
        {
          "output_type": "stream",
          "text": [
            "WARNING:tensorflow:From <ipython-input-15-5a715b0e5067>:2: Model.evaluate_generator (from tensorflow.python.keras.engine.training) is deprecated and will be removed in a future version.\n",
            "Instructions for updating:\n",
            "Please use Model.evaluate, which supports generators.\n"
          ],
          "name": "stdout"
        },
        {
          "output_type": "execute_result",
          "data": {
            "text/plain": [
              "[0.19268423318862915, 0.9569892287254333]"
            ]
          },
          "metadata": {
            "tags": []
          },
          "execution_count": 15
        }
      ]
    },
    {
      "cell_type": "markdown",
      "metadata": {
        "id": "WU8hiiLQ5CLi",
        "colab_type": "text"
      },
      "source": [
        "The training accuracy of our model is at 97.8%"
      ]
    },
    {
      "cell_type": "code",
      "metadata": {
        "id": "Y211ymet4F2i",
        "colab_type": "code",
        "colab": {
          "base_uri": "https://localhost:8080/",
          "height": 34
        },
        "outputId": "b95e6eac-0341-48e3-a2fd-b5534e1c24d5"
      },
      "source": [
        "# Test dataset: results\n",
        "cnn_model.evaluate_generator(test_image_gen)"
      ],
      "execution_count": 16,
      "outputs": [
        {
          "output_type": "execute_result",
          "data": {
            "text/plain": [
              "[0.14892591536045074, 1.0]"
            ]
          },
          "metadata": {
            "tags": []
          },
          "execution_count": 16
        }
      ]
    },
    {
      "cell_type": "markdown",
      "metadata": {
        "id": "zGfC8MJW5YRX",
        "colab_type": "text"
      },
      "source": [
        "The validation accuracy of our model is at 100%."
      ]
    },
    {
      "cell_type": "markdown",
      "metadata": {
        "id": "QKpZoQe85dpV",
        "colab_type": "text"
      },
      "source": [
        "The results have been promising with the binary classification problem"
      ]
    },
    {
      "cell_type": "code",
      "metadata": {
        "id": "E4uN0-WA5c3i",
        "colab_type": "code",
        "colab": {
          "base_uri": "https://localhost:8080/",
          "height": 34
        },
        "outputId": "6a699cfa-b543-495c-dbcb-68599062466b"
      },
      "source": [
        "Model_Eval = Binary_Mod\n",
        "print(Model_Eval.history.keys())"
      ],
      "execution_count": 17,
      "outputs": [
        {
          "output_type": "stream",
          "text": [
            "dict_keys(['loss', 'accuracy', 'val_loss', 'val_accuracy'])\n"
          ],
          "name": "stdout"
        }
      ]
    },
    {
      "cell_type": "code",
      "metadata": {
        "id": "YMkYLQCm6tpr",
        "colab_type": "code",
        "colab": {
          "base_uri": "https://localhost:8080/",
          "height": 295
        },
        "outputId": "bcf361bb-132d-4c3c-8475-e82f26cf45b0"
      },
      "source": [
        "# Plotting Model Accuracy - Binary\n",
        "plt.plot(Model_Eval.history['accuracy'])\n",
        "plt.plot(Model_Eval.history['val_accuracy'])\n",
        "plt.title('Binary Class Model Accuracy')\n",
        "plt.ylabel('Accuracy')\n",
        "plt.xlabel('Epoch')\n",
        "plt.legend(['train', 'test'], loc='upper left')\n",
        "plt.savefig('Binary_class_Acc-30Epochs.png')\n",
        "plt.show()\n"
      ],
      "execution_count": 18,
      "outputs": [
        {
          "output_type": "display_data",
          "data": {
            "image/png": "[encoded data removed]",
            "text/plain": [
              "<Figure size 432x288 with 1 Axes>"
            ]
          },
          "metadata": {
            "tags": [],
            "needs_background": "light"
          }
        }
      ]
    },
    {
      "cell_type": "markdown",
      "metadata": {
        "id": "umSrTnoz7SCH",
        "colab_type": "text"
      },
      "source": [
        ""
      ]
    },
    {
      "cell_type": "code",
      "metadata": {
        "id": "o2I0qVae7jFu",
        "colab_type": "code",
        "colab": {
          "base_uri": "https://localhost:8080/",
          "height": 295
        },
        "outputId": "e5f9f03f-1cfc-466a-f1ad-6591e840dec2"
      },
      "source": [
        "# Plotting Model Loss - Binary\n",
        "plt.plot(Model_Eval.history['loss'])\n",
        "plt.plot(Model_Eval.history['val_loss'])\n",
        "plt.title('Binary Class Model Loss')\n",
        "plt.ylabel('Loss')\n",
        "plt.xlabel('Epoch')\n",
        "plt.legend(['train', 'test'], loc='upper left')\n",
        "plt.savefig('Binary_class_loss-30Epochs.png')\n",
        "plt.show()"
      ],
      "execution_count": 19,
      "outputs": [
        {
          "output_type": "display_data",
          "data": {
            "image/png": "[encoded data removed]",
            "text/plain": [
              "<Figure size 432x288 with 1 Axes>"
            ]
          },
          "metadata": {
            "tags": [],
            "needs_background": "light"
          }
        }
      ]
    },
    {
      "cell_type": "markdown",
      "metadata": {
        "id": "HV--FlZEAumf",
        "colab_type": "text"
      },
      "source": [
        "### CONFUSION MATRIX - BINARY CLASSIFICATION\n"
      ]
    },
    {
      "cell_type": "code",
      "metadata": {
        "id": "CutL6gWtIj3Z",
        "colab_type": "code",
        "colab": {}
      },
      "source": [
        "#Function to create and plot a Confusion_Matrix\n",
        "\n",
        "class_label = [\"COV-19\",\"NORMAL\"] #adjust the bin_classes (Binary vs Multi)\n",
        "\n",
        "def confusion_matrix_plot(cm, classes, normalize=False, \n",
        "                          title='Confusion matrix',\n",
        "                          cmap=\"plasma\"):\n",
        "    \"\"\"\n",
        "    Use the function to create a confusion matrix and plot the values.\n",
        "    \"\"\"\n",
        "    plt.imshow(cm, interpolation='nearest', cmap=cmap)\n",
        "    plt.title(title)\n",
        "    plt.colorbar()\n",
        "    tick_marks = np.arange(len(classes))\n",
        "    plt.xticks(tick_marks, classes, rotation=45)\n",
        "    plt.yticks(tick_marks, classes)\n",
        "    \"\"\"\n",
        "    Set normalization='True' for normalization.\n",
        "    \"\"\"\n",
        "    if normalize:\n",
        "        cm = cm.astype('float') / cm.sum(axis=1)[:, np.newaxis]\n",
        "        print(\"Confusion Matrix - (Normalized)\")\n",
        "    else:\n",
        "        print('Confusion Matrix')\n",
        "\n",
        "    print(cm)\n",
        "\n",
        "    thresh = cm.max() / 2.\n",
        "    for i, j in itertools.product(range(cm.shape[0]), range(cm.shape[1])):\n",
        "        plt.text(j, i, cm[i, j],\n",
        "                 horizontalalignment=\"center\",\n",
        "                 color=\"white\" if cm[i, j] > thresh else \"black\")\n",
        "\n",
        "    plt.tight_layout()\n",
        "    plt.ylabel('True-label')\n",
        "    plt.xlabel('Predicted-label')"
      ],
      "execution_count": 20,
      "outputs": []
    },
    {
      "cell_type": "markdown",
      "metadata": {
        "id": "Mg5QPHwEvhMv",
        "colab_type": "text"
      },
      "source": [
        "## EVALUATION & PREDICTIONS "
      ]
    },
    {
      "cell_type": "code",
      "metadata": {
        "id": "OF1xpUU0SGy_",
        "colab_type": "code",
        "colab": {}
      },
      "source": [
        "# Using the model.predict method for predicting the outcomes/probabilities. \n",
        "test_image_gen.reset()\n",
        "predictions = cnn_model.predict(test_image_gen, num_of_test_samples // batch_size+1)"
      ],
      "execution_count": 21,
      "outputs": []
    },
    {
      "cell_type": "code",
      "metadata": {
        "id": "4Ntea0NRdSF3",
        "colab_type": "code",
        "colab": {}
      },
      "source": [
        "# Converting the probabilities to binaries\n",
        "predictedClass = np.argmax(predictions, axis=1)\n"
      ],
      "execution_count": 22,
      "outputs": []
    },
    {
      "cell_type": "code",
      "metadata": {
        "id": "lML-IQXSkTuc",
        "colab_type": "code",
        "colab": {}
      },
      "source": [
        "# indicies of the test image generator \n",
        "trueClass=test_image_gen.classes[test_image_gen.index_array]\n"
      ],
      "execution_count": 23,
      "outputs": []
    },
    {
      "cell_type": "code",
      "metadata": {
        "id": "WXzMdm1zTyCN",
        "colab_type": "code",
        "colab": {
          "base_uri": "https://localhost:8080/",
          "height": 34
        },
        "outputId": "921081fc-8397-4574-86d4-3e5125fef0c4"
      },
      "source": [
        "# Names of the classes.\n",
        "target_names = list(train_image_gen.class_indices.keys())\n",
        "target_names"
      ],
      "execution_count": 24,
      "outputs": [
        {
          "output_type": "execute_result",
          "data": {
            "text/plain": [
              "['COV-19', 'NORMAL']"
            ]
          },
          "metadata": {
            "tags": []
          },
          "execution_count": 24
        }
      ]
    },
    {
      "cell_type": "code",
      "metadata": {
        "id": "dHkx8DNByA5E",
        "colab_type": "code",
        "colab": {
          "base_uri": "https://localhost:8080/",
          "height": 68
        },
        "outputId": "22f02ee5-28fd-4e68-a5e3-6e06a1f9096b"
      },
      "source": [
        "# Printing Confusion Matrix using sklearn\n",
        "print('Confusion Matrix')\n",
        "conf_mat=confusion_matrix(y_true=trueClass, y_pred=predictedClass)\n",
        "print(conf_mat)"
      ],
      "execution_count": 25,
      "outputs": [
        {
          "output_type": "stream",
          "text": [
            "Confusion Matrix\n",
            "[[41  0]\n",
            " [ 0 41]]\n"
          ],
          "name": "stdout"
        }
      ]
    },
    {
      "cell_type": "code",
      "metadata": {
        "id": "2gC1iHlz8EBF",
        "colab_type": "code",
        "colab": {}
      },
      "source": [
        " # Accuracies and Misclassification based on the model\n",
        " accuracy = np.trace(conf_mat) / float(np.sum(conf_mat))\n",
        " misclass = 1 - accuracy"
      ],
      "execution_count": 26,
      "outputs": []
    },
    {
      "cell_type": "code",
      "metadata": {
        "id": "t05uefqw87TV",
        "colab_type": "code",
        "colab": {
          "base_uri": "https://localhost:8080/",
          "height": 469
        },
        "outputId": "e62ca4fb-ded7-45ae-887b-0e027625947f"
      },
      "source": [
        "# Plotting the Confusion Matrix\n",
        "plt.figure(figsize=(10,5))\n",
        "confusion_matrix_plot(conf_mat, classes=target_names,\n",
        "                      title='Confusion Matrix (Binary Classification)',cmap=\"YlGnBu\")\n",
        "plt.ylabel('True')\n",
        "plt.xlabel('Predictions \\n \\n Model Accuracy={:0.2f}% \\n Model Error={:0.2f}%'.format(accuracy*100, misclass*100))\n",
        "plt.savefig('Confusion Matrix Binary Class Classification.png', bbox_inches = \"tight\")\n",
        "plt.show()"
      ],
      "execution_count": 27,
      "outputs": [
        {
          "output_type": "stream",
          "text": [
            "Confusion Matrix\n",
            "[[41  0]\n",
            " [ 0 41]]\n"
          ],
          "name": "stdout"
        },
        {
          "output_type": "display_data",
          "data": {
            "image/png": "[encoded data removed]",
            "text/plain": [
              "<Figure size 720x360 with 2 Axes>"
            ]
          },
          "metadata": {
            "tags": [],
            "needs_background": "light"
          }
        }
      ]
    },
    {
      "cell_type": "markdown",
      "metadata": {
        "id": "Goq_28rriyRC",
        "colab_type": "text"
      },
      "source": [
        "# CLASSIFICATION REPORT AND ROC CURVE"
      ]
    },
    {
      "cell_type": "code",
      "metadata": {
        "id": "PIdlfuaYl9HV",
        "colab_type": "code",
        "colab": {
          "base_uri": "https://localhost:8080/",
          "height": 204
        },
        "outputId": "791c416b-6e88-44b5-b8aa-8bddaf49374c"
      },
      "source": [
        "# Generating the classification report for the Binary Model\n",
        "print('***********************Classification Report (Binary) *******************************')\n",
        "print('')\n",
        "print(classification_report(trueClass, predictedClass, target_names=target_names))"
      ],
      "execution_count": 28,
      "outputs": [
        {
          "output_type": "stream",
          "text": [
            "***********************Classification Report (Binary) *******************************\n",
            "\n",
            "              precision    recall  f1-score   support\n",
            "\n",
            "      COV-19       1.00      1.00      1.00        41\n",
            "      NORMAL       1.00      1.00      1.00        41\n",
            "\n",
            "    accuracy                           1.00        82\n",
            "   macro avg       1.00      1.00      1.00        82\n",
            "weighted avg       1.00      1.00      1.00        82\n",
            "\n"
          ],
          "name": "stdout"
        }
      ]
    },
    {
      "cell_type": "code",
      "metadata": {
        "id": "33zyzqVWI2BS",
        "colab_type": "code",
        "colab": {
          "base_uri": "https://localhost:8080/",
          "height": 119
        },
        "outputId": "e741baff-133b-4a68-8285-848f3d51dd19"
      },
      "source": [
        "# Generating Model Accuracies, Specificity and Sensitivity\n",
        "total = sum(sum(conf_mat))\n",
        "acc = (conf_mat[0, 0] + conf_mat[1, 1]) / total\n",
        "sensitivity = conf_mat[0, 0] / (conf_mat[0, 0] + conf_mat[0, 1])\n",
        "specificity = conf_mat[1, 1] / (conf_mat[1, 0] + conf_mat[1, 1])\n",
        "\n",
        "print(\"***************************Model Report*************************************\")\n",
        "print(\"Model Acc: {:.4f}\".format(acc))\n",
        "print('')\n",
        "print(\"Sensitivity: {:.4f}\".format(sensitivity))\n",
        "print('')\n",
        "print(\"Specificity: {:.4f}\".format(specificity))"
      ],
      "execution_count": 29,
      "outputs": [
        {
          "output_type": "stream",
          "text": [
            "***************************Model Report*************************************\n",
            "Model Acc: 1.0000\n",
            "\n",
            "Sensitivity: 1.0000\n",
            "\n",
            "Specificity: 1.0000\n"
          ],
          "name": "stdout"
        }
      ]
    },
    {
      "cell_type": "code",
      "metadata": {
        "id": "hG67cZ9oVUy_",
        "colab_type": "code",
        "colab": {
          "base_uri": "https://localhost:8080/",
          "height": 421
        },
        "outputId": "b3387bfe-1cbb-4996-c091-661580bb62a7"
      },
      "source": [
        "# Generatring the ROC curve using the Scikitplot's plot_roc method\n",
        "plt.figure()\n",
        "skplt.metrics.plot_roc(y_true=trueClass, y_probas=predictions, title='ROC Curve (Binary_Classification)', plot_micro=False, plot_macro=False,\n",
        "                            classes_to_plot=None, ax=None, figsize=(8, 6), cmap='Dark2', title_fontsize='large', text_fontsize='medium')\n",
        "plt.savefig('ROC_Binary_Classification.png', bbox_inches = \"tight\")\n",
        "plt.show()"
      ],
      "execution_count": 30,
      "outputs": [
        {
          "output_type": "display_data",
          "data": {
            "text/plain": [
              "<Figure size 432x288 with 0 Axes>"
            ]
          },
          "metadata": {
            "tags": []
          }
        },
        {
          "output_type": "display_data",
          "data": {
            "image/png": "[encoded data removed]",
            "text/plain": [
              "<Figure size 576x432 with 1 Axes>"
            ]
          },
          "metadata": {
            "tags": [],
            "needs_background": "light"
          }
        }
      ]
    },
    {
      "cell_type": "markdown",
      "metadata": {
        "id": "Y9iU4t9wFTmI",
        "colab_type": "text"
      },
      "source": [
        "## EVALUTING MODEL ON THE CXR IMAGES"
      ]
    },
    {
      "cell_type": "code",
      "metadata": {
        "id": "YJ8Lar3jdJvR",
        "colab_type": "code",
        "colab": {
          "base_uri": "https://localhost:8080/",
          "height": 374
        },
        "outputId": "2e662b60-ceb7-4975-e738-c91d29946c73"
      },
      "source": [
        "\n",
        "import cv2 #import openCV\n",
        "from keras.preprocessing import image #import Keras Image Preprocessing\n",
        "\n",
        "# Loading random images from the test data of COVID-19 set to predict\n",
        "rand_image = image.load_img('/content/Binary_Classification/Binary_Classification/test/COV-19/c601f50d.jpg', target_size = (224, 224))\n",
        "rand_image = image.img_to_array(rand_image)\n",
        "rand_image = np.expand_dims(rand_image, axis = 0)\n",
        "image_prediction_res = cnn_model.predict_classes(rand_image)\n",
        "\n",
        "#using OpenCv and model, predicting the images.\n",
        "pred_image = cv2.imread('/content/Binary_Classification/Binary_Classification/test/COV-19/c601f50d.jpg')\n",
        "print(\"True Positive X-ray image of COVID-19 patient\")\n",
        "pred_image = np.array(pred_image)\n",
        "pred_image = cv2.resize(pred_image,(350,350))\n",
        "plt.imshow(pred_image)\n",
        "if image_prediction_res == [0]:\n",
        "    diagnosis = 'X-ray tested positive for COV-19'\n",
        "else:\n",
        "    diagnosis = 'X-ray tested negative for COV-19'\n",
        "print(\"Model Prediction : \",diagnosis)"
      ],
      "execution_count": 31,
      "outputs": [
        {
          "output_type": "stream",
          "text": [
            "WARNING:tensorflow:From <ipython-input-31-90ab0d73a7ac>:9: Sequential.predict_classes (from tensorflow.python.keras.engine.sequential) is deprecated and will be removed after 2021-01-01.\n",
            "Instructions for updating:\n",
            "Please use instead:* `np.argmax(model.predict(x), axis=-1)`,   if your model does multi-class classification   (e.g. if it uses a `softmax` last-layer activation).* `(model.predict(x) > 0.5).astype(\"int32\")`,   if your model does binary classification   (e.g. if it uses a `sigmoid` last-layer activation).\n",
            "True Positive X-ray image of COVID-19 patient\n",
            "Model Prediction :  X-ray tested positive for COV-19\n"
          ],
          "name": "stdout"
        },
        {
          "output_type": "display_data",
          "data": {
            "image/png": "[encoded data removed]",
            "text/plain": [
              "<Figure size 432x288 with 1 Axes>"
            ]
          },
          "metadata": {
            "tags": [],
            "needs_background": "light"
          }
        }
      ]
    },
    {
      "cell_type": "code",
      "metadata": {
        "id": "aXN-Wou4ki6W",
        "colab_type": "code",
        "colab": {
          "base_uri": "https://localhost:8080/",
          "height": 303
        },
        "outputId": "b5315c0d-7d88-4b9a-9a3d-80726b7acf70"
      },
      "source": [
        "import cv2 #import openCV\n",
        "from keras.preprocessing import image #import Keras Image Preprocessing\n",
        "\n",
        "# Loading random images from the test data of COVID-19 set to predict\n",
        "rand_image = image.load_img('/content/Binary_Classification/Binary_Classification/test/NORMAL/IM-0438-0001.jpeg', target_size = (224, 224))\n",
        "rand_image = image.img_to_array(rand_image)\n",
        "rand_image = np.expand_dims(rand_image, axis = 0)\n",
        "image_prediction_res = cnn_model.predict_classes(rand_image)\n",
        "\n",
        "#using OpenCv and model, predicting the images.\n",
        "pred_image = cv2.imread('/content/Binary_Classification/Binary_Classification/test/NORMAL/IM-0438-0001.jpeg')\n",
        "print(\"True X-ray image of Normal patient\")\n",
        "pred_image = np.array(pred_image)\n",
        "pred_image = cv2.resize(pred_image,(350,350))\n",
        "plt.imshow(pred_image)\n",
        "if image_prediction_res == [0]:\n",
        "    diagnosis = 'X-ray tested positive for COV-19'\n",
        "else:\n",
        "    diagnosis = 'X-ray tested negative for COV-19'\n",
        "print(\"Model Prediction : \",diagnosis)"
      ],
      "execution_count": 33,
      "outputs": [
        {
          "output_type": "stream",
          "text": [
            "True X-ray image of Normal patient\n",
            "Model Prediction :  X-ray tested negative for COV-19\n"
          ],
          "name": "stdout"
        },
        {
          "output_type": "display_data",
          "data": {
            "image/png": "[encoded data removed]",
            "text/plain": [
              "<Figure size 432x288 with 1 Axes>"
            ]
          },
          "metadata": {
            "tags": [],
            "needs_background": "light"
          }
        }
      ]
    }
  ]
}