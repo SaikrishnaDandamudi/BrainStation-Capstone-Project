{
  "nbformat": 4,
  "nbformat_minor": 0,
  "metadata": {
    "colab": {
      "name": "Multi Class Classification.ipynb",
      "provenance": [],
      "collapsed_sections": [],
      "toc_visible": true,
      "mount_file_id": "1-VC5N3NjtOAU1XmOzN763uEJzVStAgw0",
      "authorship_tag": "ABX9TyMuokhQCm72Oc7DB7CPFZHi",
      "include_colab_link": true
    },
    "kernelspec": {
      "name": "python3",
      "display_name": "Python 3"
    },
    "accelerator": "GPU"
  },
  "cells": [
    {
      "cell_type": "markdown",
      "metadata": {
        "id": "view-in-github",
        "colab_type": "text"
      },
      "source": [
        "<a href=\"https://colab.research.google.com/github/SaikrishnaDandamudi/BrainStation-Capstone-Project/blob/master/Multi_Class_Classification.ipynb\" target=\"_parent\"><img src=\"https://colab.research.google.com/assets/colab-badge.svg\" alt=\"Open In Colab\"/></a>"
      ]
    },
    {
      "cell_type": "markdown",
      "metadata": {
        "id": "G3zmiJoQ6WSC",
        "colab_type": "text"
      },
      "source": [
        "# IMPORTING THE LIBRARIES"
      ]
    },
    {
      "cell_type": "code",
      "metadata": {
        "id": "CjJ5xiqyLZRn",
        "colab_type": "code",
        "colab": {
          "base_uri": "https://localhost:8080/",
          "height": 275
        },
        "outputId": "96ab4bfd-e3ef-4135-d58a-b22de12d1e8d"
      },
      "source": [
        "# This library is needed to plot the roc_curve for the model\n",
        "# Scikit Plot Install\n",
        "!pip install scikit-plot"
      ],
      "execution_count": null,
      "outputs": [
        {
          "output_type": "stream",
          "text": [
            "Collecting scikit-plot\n",
            "  Downloading https://files.pythonhosted.org/packages/7c/47/32520e259340c140a4ad27c1b97050dd3254fdc517b1d59974d47037510e/scikit_plot-0.3.7-py3-none-any.whl\n",
            "Requirement already satisfied: scikit-learn>=0.18 in /usr/local/lib/python3.6/dist-packages (from scikit-plot) (0.22.2.post1)\n",
            "Requirement already satisfied: joblib>=0.10 in /usr/local/lib/python3.6/dist-packages (from scikit-plot) (0.16.0)\n",
            "Requirement already satisfied: scipy>=0.9 in /usr/local/lib/python3.6/dist-packages (from scikit-plot) (1.4.1)\n",
            "Requirement already satisfied: matplotlib>=1.4.0 in /usr/local/lib/python3.6/dist-packages (from scikit-plot) (3.2.2)\n",
            "Requirement already satisfied: numpy>=1.11.0 in /usr/local/lib/python3.6/dist-packages (from scikit-learn>=0.18->scikit-plot) (1.18.5)\n",
            "Requirement already satisfied: cycler>=0.10 in /usr/local/lib/python3.6/dist-packages (from matplotlib>=1.4.0->scikit-plot) (0.10.0)\n",
            "Requirement already satisfied: pyparsing!=2.0.4,!=2.1.2,!=2.1.6,>=2.0.1 in /usr/local/lib/python3.6/dist-packages (from matplotlib>=1.4.0->scikit-plot) (2.4.7)\n",
            "Requirement already satisfied: kiwisolver>=1.0.1 in /usr/local/lib/python3.6/dist-packages (from matplotlib>=1.4.0->scikit-plot) (1.2.0)\n",
            "Requirement already satisfied: python-dateutil>=2.1 in /usr/local/lib/python3.6/dist-packages (from matplotlib>=1.4.0->scikit-plot) (2.8.1)\n",
            "Requirement already satisfied: six in /usr/local/lib/python3.6/dist-packages (from cycler>=0.10->matplotlib>=1.4.0->scikit-plot) (1.15.0)\n",
            "Installing collected packages: scikit-plot\n",
            "Successfully installed scikit-plot-0.3.7\n"
          ],
          "name": "stdout"
        }
      ]
    },
    {
      "cell_type": "code",
      "metadata": {
        "id": "edxfTKStxJt2",
        "colab_type": "code",
        "colab": {}
      },
      "source": [
        "#importing the required libraries\n",
        "import warnings\n",
        "warnings.filterwarnings(\"ignore\")\n",
        "import os\n",
        "import numpy as np\n",
        "import shutil\n",
        "import seaborn as sns\n",
        "import matplotlib.pyplot as plt\n",
        "%matplotlib inline\n",
        "import keras\n",
        "from keras.layers import *\n",
        "from keras.models import *\n",
        "from keras.preprocessing import image\n",
        "import scikitplot as skplt\n",
        "from sklearn.metrics import confusion_matrix\n",
        "import itertools\n",
        "from sklearn.metrics import classification_report\n",
        "from sklearn import metrics\n",
        "import tensorflow as tf"
      ],
      "execution_count": null,
      "outputs": []
    },
    {
      "cell_type": "markdown",
      "metadata": {
        "id": "QEZbwRov6hR3",
        "colab_type": "text"
      },
      "source": [
        "# LOADING THE DATASET AND EXTRACTING"
      ]
    },
    {
      "cell_type": "markdown",
      "metadata": {
        "id": "vEA5lFVP60wM",
        "colab_type": "text"
      },
      "source": [
        "The dataset will be made available on Google Drive and on the github repo."
      ]
    },
    {
      "cell_type": "code",
      "metadata": {
        "id": "qFfZIuI8xgab",
        "colab_type": "code",
        "colab": {
          "base_uri": "https://localhost:8080/",
          "height": 1000
        },
        "outputId": "ab859412-6790-4754-cc82-baa6caf989e1"
      },
      "source": [
        "#Unzipping the folder with images\n",
        "!unzip Multi_Class_Classfication.zip -d Multi_Class_Classfication\n",
        "\n",
        "\n"
      ],
      "execution_count": null,
      "outputs": [
        {
          "output_type": "stream",
          "text": [
            "Archive:  Multi_Class_Classfication.zip\n",
            "   creating: Multi_Class_Classfication/test/\n",
            "  inflating: Multi_Class_Classfication/test/.DS_Store  \n",
            "   creating: Multi_Class_Classfication/test/COV-19/\n",
            "  inflating: Multi_Class_Classfication/test/COV-19/9fdd3c3032296fd04d2cad5d9070d4_jumbo.jpeg  \n",
            "  inflating: Multi_Class_Classfication/test/COV-19/16663_1_1.jpg  \n",
            "  inflating: Multi_Class_Classfication/test/COV-19/b0f1684d1ee90dc09deef015e29dae_jumbo.jpeg  \n",
            "  inflating: Multi_Class_Classfication/test/COV-19/nejmoa2001191_f5-PA.jpeg  \n",
            "  inflating: Multi_Class_Classfication/test/COV-19/7-fatal-covid19.jpg  \n",
            "  inflating: Multi_Class_Classfication/test/COV-19/covid-19-pneumonia-14-PA.png  \n",
            "  inflating: Multi_Class_Classfication/test/COV-19/10.1016-slash-j.anl.2020.04.002-a.png  \n",
            "  inflating: Multi_Class_Classfication/test/COV-19/auntminnie-a-2020_01_28_23_51_6665_2020_01_28_Vietnam_coronavirus.jpeg  \n",
            "  inflating: Multi_Class_Classfication/test/COV-19/covid-19-pneumonia-44-day-0.jpeg  \n",
            "  inflating: Multi_Class_Classfication/test/COV-19/c601f50d.jpg  \n",
            "  inflating: Multi_Class_Classfication/test/COV-19/extubation-13.jpg  \n",
            "  inflating: Multi_Class_Classfication/test/COV-19/16708_4_1.jpg  \n",
            "  inflating: Multi_Class_Classfication/test/COV-19/1141cc2b8b9cc394becce5d978b5a7_jumbo.jpeg  \n",
            "  inflating: Multi_Class_Classfication/test/COV-19/1-s2.0-S2387020620301959-gr4_lrg-c.png  \n",
            "  inflating: Multi_Class_Classfication/test/COV-19/nCoV-radiol.2020200269.fig1-day7.jpeg  \n",
            "  inflating: Multi_Class_Classfication/test/COV-19/covid-19-pneumonia-20-pa-on-admission.jpg  \n",
            "  inflating: Multi_Class_Classfication/test/COV-19/0a7faa2a.jpg  \n",
            "  inflating: Multi_Class_Classfication/test/COV-19/lancet-case2b.jpg  \n",
            "  inflating: Multi_Class_Classfication/test/COV-19/03BF7561-A9BA-4C3C-B8A0-D3E585F73F3C.jpeg  \n",
            "  inflating: Multi_Class_Classfication/test/COV-19/82a78c13.jpg  \n",
            "  inflating: Multi_Class_Classfication/test/COV-19/paving.jpg  \n",
            "  inflating: Multi_Class_Classfication/test/COV-19/gr1_lrg-a.jpg  \n",
            "  inflating: Multi_Class_Classfication/test/COV-19/e1446fe8.jpg  \n",
            "  inflating: Multi_Class_Classfication/test/COV-19/41182_2020_203_Fig4_HTML.jpg  \n",
            "  inflating: Multi_Class_Classfication/test/COV-19/90986ce4.jpg  \n",
            "  inflating: Multi_Class_Classfication/test/COV-19/6CB4EFC6-68FA-4CD5-940C-BEFA8DAFE9A7.jpeg  \n",
            "  inflating: Multi_Class_Classfication/test/COV-19/BMJ-37-163-g1.jpg  \n",
            "  inflating: Multi_Class_Classfication/test/COV-19/1-s2.0-S0140673620303706-fx1_lrg.jpg  \n",
            "  inflating: Multi_Class_Classfication/test/COV-19/covid-19-infection-exclusive-gastrointestinal-symptoms-pa.png  \n",
            "  inflating: Multi_Class_Classfication/test/COV-19/covid-19-pneumonia-22-day1-pa.png  \n",
            "  inflating: Multi_Class_Classfication/test/COV-19/FE9F9A5D-2830-46F9-851B-1FF4534959BE.jpeg  \n",
            "  inflating: Multi_Class_Classfication/test/COV-19/a2eba651.jpg  \n",
            "  inflating: Multi_Class_Classfication/test/COV-19/covid-19-pneumonia-8.jpg  \n",
            "  inflating: Multi_Class_Classfication/test/COV-19/all14238-fig-0001-m-c.jpg  \n",
            "  inflating: Multi_Class_Classfication/test/COV-19/353889E0-A1E8-4F9E-A0B8-F24F36BCFBFB.jpeg  \n",
            "  inflating: Multi_Class_Classfication/test/COV-19/1.CXRCTThoraximagesofCOVID-19fromSingapore.pdf-000-fig1a.png  \n",
            "  inflating: Multi_Class_Classfication/test/COV-19/extubation-1.jpg  \n",
            "  inflating: Multi_Class_Classfication/test/COV-19/nejmc2001573_f1b.jpeg  \n",
            "  inflating: Multi_Class_Classfication/test/COV-19/ryct.2020200034.fig2.jpeg  \n",
            "  inflating: Multi_Class_Classfication/test/COV-19/covid-19-pneumonia-53.jpg  \n",
            "  inflating: Multi_Class_Classfication/test/COV-19/covid-19-caso-91-1-12.png  \n",
            "   creating: Multi_Class_Classfication/test/NORMAL/\n",
            "  inflating: Multi_Class_Classfication/test/NORMAL/NORMAL2-IM-1326-0001.jpeg  \n",
            "  inflating: Multi_Class_Classfication/test/NORMAL/IM-0697-0001.jpeg  \n",
            "  inflating: Multi_Class_Classfication/test/NORMAL/NORMAL2-IM-0496-0001.jpeg  \n",
            "  inflating: Multi_Class_Classfication/test/NORMAL/NORMAL2-IM-0425-0001.jpeg  \n",
            "  inflating: Multi_Class_Classfication/test/NORMAL/NORMAL2-IM-1152-0001.jpeg  \n",
            "  inflating: Multi_Class_Classfication/test/NORMAL/NORMAL2-IM-1190-0001.jpeg  \n",
            "  inflating: Multi_Class_Classfication/test/NORMAL/.DS_Store  \n",
            "  inflating: Multi_Class_Classfication/test/NORMAL/NORMAL2-IM-1345-0001-0002.jpeg  \n",
            "  inflating: Multi_Class_Classfication/test/NORMAL/NORMAL2-IM-1357-0001.jpeg  \n",
            "  inflating: Multi_Class_Classfication/test/NORMAL/IM-0438-0001.jpeg  \n",
            "  inflating: Multi_Class_Classfication/test/NORMAL/NORMAL2-IM-1261-0001.jpeg  \n",
            "  inflating: Multi_Class_Classfication/test/NORMAL/NORMAL2-IM-1278-0001.jpeg  \n",
            "  inflating: Multi_Class_Classfication/test/NORMAL/NORMAL2-IM-1371-0001.jpeg  \n",
            "  inflating: Multi_Class_Classfication/test/NORMAL/NORMAL2-IM-1223-0001.jpeg  \n",
            "  inflating: Multi_Class_Classfication/test/NORMAL/IM-0401-0001.jpeg  \n",
            "  inflating: Multi_Class_Classfication/test/NORMAL/NORMAL2-IM-1122-0001.jpeg  \n",
            "  inflating: Multi_Class_Classfication/test/NORMAL/NORMAL2-IM-0829-0001.jpeg  \n",
            "  inflating: Multi_Class_Classfication/test/NORMAL/NORMAL2-IM-1321-0001.jpeg  \n",
            "  inflating: Multi_Class_Classfication/test/NORMAL/IM-0283-0001.jpeg  \n",
            "  inflating: Multi_Class_Classfication/test/NORMAL/NORMAL2-IM-0842-0001.jpeg  \n",
            "  inflating: Multi_Class_Classfication/test/NORMAL/NORMAL2-IM-1112-0001.jpeg  \n",
            "  inflating: Multi_Class_Classfication/test/NORMAL/NORMAL2-IM-1218-0001.jpeg  \n",
            "  inflating: Multi_Class_Classfication/test/NORMAL/IM-0435-0001-0001.jpeg  \n",
            "  inflating: Multi_Class_Classfication/test/NORMAL/NORMAL2-IM-1400-0001.jpeg  \n",
            "  inflating: Multi_Class_Classfication/test/NORMAL/IM-0664-0001.jpeg  \n",
            "  inflating: Multi_Class_Classfication/test/NORMAL/NORMAL2-IM-1258-0001-0001.jpeg  \n",
            "  inflating: Multi_Class_Classfication/test/NORMAL/NORMAL2-IM-0531-0001.jpeg  \n",
            "  inflating: Multi_Class_Classfication/test/NORMAL/NORMAL2-IM-1192-0001.jpeg  \n",
            "  inflating: Multi_Class_Classfication/test/NORMAL/IM-0222-0001.jpeg  \n",
            "  inflating: Multi_Class_Classfication/test/NORMAL/NORMAL2-IM-1303-0001.jpeg  \n",
            "  inflating: Multi_Class_Classfication/test/NORMAL/NORMAL2-IM-0812-0001.jpeg  \n",
            "  inflating: Multi_Class_Classfication/test/NORMAL/NORMAL2-IM-0486-0001.jpeg  \n",
            "  inflating: Multi_Class_Classfication/test/NORMAL/NORMAL2-IM-0954-0001.jpeg  \n",
            "  inflating: Multi_Class_Classfication/test/NORMAL/IM-0326-0001.jpeg  \n",
            "  inflating: Multi_Class_Classfication/test/NORMAL/NORMAL2-IM-1232-0001.jpeg  \n",
            "  inflating: Multi_Class_Classfication/test/NORMAL/NORMAL2-IM-1304-0001.jpeg  \n",
            "  inflating: Multi_Class_Classfication/test/NORMAL/NORMAL2-IM-0832-0001-0001.jpeg  \n",
            "  inflating: Multi_Class_Classfication/test/NORMAL/NORMAL2-IM-1292-0001.jpeg  \n",
            "  inflating: Multi_Class_Classfication/test/NORMAL/IM-0273-0001.jpeg  \n",
            "  inflating: Multi_Class_Classfication/test/NORMAL/NORMAL2-IM-1214-0001.jpeg  \n",
            "  inflating: Multi_Class_Classfication/test/NORMAL/NORMAL2-IM-1157-0001.jpeg  \n",
            "  inflating: Multi_Class_Classfication/test/NORMAL/NORMAL2-IM-1227-0001.jpeg  \n",
            "   creating: Multi_Class_Classfication/test/PNEMONIA/\n",
            "  inflating: Multi_Class_Classfication/test/PNEMONIA/person30_bacteria_147.jpeg  \n",
            "  inflating: Multi_Class_Classfication/test/PNEMONIA/person604_virus_1165.jpeg  \n",
            "  inflating: Multi_Class_Classfication/test/PNEMONIA/.DS_Store  \n",
            "  inflating: Multi_Class_Classfication/test/PNEMONIA/person736_bacteria_2639.jpeg  \n",
            "  inflating: Multi_Class_Classfication/test/PNEMONIA/person491_bacteria_2073.jpeg  \n",
            "  inflating: Multi_Class_Classfication/test/PNEMONIA/person445_virus_917.jpeg  \n",
            "  inflating: Multi_Class_Classfication/test/PNEMONIA/person1320_bacteria_3353.jpeg  \n",
            "  inflating: Multi_Class_Classfication/test/PNEMONIA/person41_bacteria_207.jpeg  \n",
            "  inflating: Multi_Class_Classfication/test/PNEMONIA/person253_bacteria_1157.jpeg  \n",
            "  inflating: Multi_Class_Classfication/test/PNEMONIA/person291_bacteria_1374.jpeg  \n",
            "  inflating: Multi_Class_Classfication/test/PNEMONIA/person26_bacteria_124.jpeg  \n",
            "  inflating: Multi_Class_Classfication/test/PNEMONIA/person13_bacteria_49.jpeg  \n",
            "  inflating: Multi_Class_Classfication/test/PNEMONIA/person859_virus_1504.jpeg  \n",
            "  inflating: Multi_Class_Classfication/test/PNEMONIA/person1320_bacteria_3339.jpeg  \n",
            "  inflating: Multi_Class_Classfication/test/PNEMONIA/person1320_bacteria_3342.jpeg  \n",
            "  inflating: Multi_Class_Classfication/test/PNEMONIA/person922_bacteria_2847.jpeg  \n",
            "  inflating: Multi_Class_Classfication/test/PNEMONIA/person292_bacteria_1378.jpeg  \n",
            "  inflating: Multi_Class_Classfication/test/PNEMONIA/person961_virus_1634.jpeg  \n",
            "  inflating: Multi_Class_Classfication/test/PNEMONIA/person1196_bacteria_3146.jpeg  \n",
            "  inflating: Multi_Class_Classfication/test/PNEMONIA/person906_virus_1562.jpeg  \n",
            "  inflating: Multi_Class_Classfication/test/PNEMONIA/person480_bacteria_2038.jpeg  \n",
            "  inflating: Multi_Class_Classfication/test/PNEMONIA/person161_virus_317.jpeg  \n",
            "  inflating: Multi_Class_Classfication/test/PNEMONIA/person1430_bacteria_3693.jpeg  \n",
            "  inflating: Multi_Class_Classfication/test/PNEMONIA/person359_bacteria_1644.jpeg  \n",
            "  inflating: Multi_Class_Classfication/test/PNEMONIA/person1402_virus_2405.jpeg  \n",
            "  inflating: Multi_Class_Classfication/test/PNEMONIA/person23_bacteria_99.jpeg  \n",
            "  inflating: Multi_Class_Classfication/test/PNEMONIA/person457_virus_944.jpeg  \n",
            "  inflating: Multi_Class_Classfication/test/PNEMONIA/person39_bacteria_198.jpeg  \n",
            "  inflating: Multi_Class_Classfication/test/PNEMONIA/person255_virus_531.jpeg  \n",
            "  inflating: Multi_Class_Classfication/test/PNEMONIA/person499_virus_1008.jpeg  \n",
            "  inflating: Multi_Class_Classfication/test/PNEMONIA/person145_virus_294.jpeg  \n",
            "  inflating: Multi_Class_Classfication/test/PNEMONIA/person1684_bacteria_4463.jpeg  \n",
            "  inflating: Multi_Class_Classfication/test/PNEMONIA/person266_bacteria_1241.jpeg  \n",
            "  inflating: Multi_Class_Classfication/test/PNEMONIA/person1063_bacteria_2997.jpeg  \n",
            "  inflating: Multi_Class_Classfication/test/PNEMONIA/person438_bacteria_1891.jpeg  \n",
            "  inflating: Multi_Class_Classfication/test/PNEMONIA/person287_virus_586.jpeg  \n",
            "  inflating: Multi_Class_Classfication/test/PNEMONIA/person9_bacteria_40.jpeg  \n",
            "  inflating: Multi_Class_Classfication/test/PNEMONIA/person278_virus_573.jpeg  \n",
            "  inflating: Multi_Class_Classfication/test/PNEMONIA/person355_bacteria_1637.jpeg  \n",
            "  inflating: Multi_Class_Classfication/test/PNEMONIA/person24_bacteria_111.jpeg  \n",
            "  inflating: Multi_Class_Classfication/test/PNEMONIA/person1274_bacteria_3236.jpeg  \n",
            "  inflating: Multi_Class_Classfication/test/PNEMONIA/person23_bacteria_101.jpeg  \n",
            "   creating: Multi_Class_Classfication/train/\n",
            "  inflating: Multi_Class_Classfication/train/.DS_Store  \n",
            "   creating: Multi_Class_Classfication/train/COV-19/\n",
            "  inflating: Multi_Class_Classfication/train/COV-19/f6d980a0.jpg  \n",
            "  inflating: Multi_Class_Classfication/train/COV-19/16669_3_1.jpeg  \n",
            "  inflating: Multi_Class_Classfication/train/COV-19/covid-19-pneumonia-22-day2-pa.png  \n",
            "  inflating: Multi_Class_Classfication/train/COV-19/8FDE8DBA-CFBD-4B4C-B1A4-6F36A93B7E87.jpeg  \n",
            "  inflating: Multi_Class_Classfication/train/COV-19/extubation-8.jpg  \n",
            "  inflating: Multi_Class_Classfication/train/COV-19/2cd63b76.jpg  \n",
            "  inflating: Multi_Class_Classfication/train/COV-19/7C69C012-7479-493F-8722-ABC29C60A2DD.jpeg  \n",
            "  inflating: Multi_Class_Classfication/train/COV-19/1052b0fe.jpg  \n",
            "  inflating: Multi_Class_Classfication/train/COV-19/41182_2020_203_Fig3_HTML.jpg  \n",
            "  inflating: Multi_Class_Classfication/train/COV-19/covid-19-caso-94-1-14.png  \n",
            "  inflating: Multi_Class_Classfication/train/COV-19/covid-19-pneumonia-7-PA.jpg  \n",
            "  inflating: Multi_Class_Classfication/train/COV-19/covid-19-caso-82-1-8.png  \n",
            "  inflating: Multi_Class_Classfication/train/COV-19/d009d61f.jpg  \n",
            "  inflating: Multi_Class_Classfication/train/COV-19/covid-19-caso-95-1-15.png  \n",
            "  inflating: Multi_Class_Classfication/train/COV-19/16660_2_1.jpg  \n",
            "  inflating: Multi_Class_Classfication/train/COV-19/nejmc2001573_f1a.jpeg  \n",
            "  inflating: Multi_Class_Classfication/train/COV-19/covid-19-caso-95-3-14.png  \n",
            "  inflating: Multi_Class_Classfication/train/COV-19/12941_2020_358_Fig1_HTML.jpg  \n",
            "  inflating: Multi_Class_Classfication/train/COV-19/covid-19-pneumonia-30-PA.jpg  \n",
            "  inflating: Multi_Class_Classfication/train/COV-19/23E99E2E-447C-46E5-8EB2-D35D12473C39.png  \n",
            "  inflating: Multi_Class_Classfication/train/COV-19/f64132c8.jpg  \n",
            "  inflating: Multi_Class_Classfication/train/COV-19/40779_2020_233_Fig2_HTML-a.png  \n",
            "  inflating: Multi_Class_Classfication/train/COV-19/article_river_e4d185c06e3511eaa2321d8ab357a1de-c1mn.png  \n",
            "  inflating: Multi_Class_Classfication/train/COV-19/5f619d7e.jpg  \n",
            "  inflating: Multi_Class_Classfication/train/COV-19/7afaaccc.jpg  \n",
            "  inflating: Multi_Class_Classfication/train/COV-19/19abe1f3.jpg  \n",
            "  inflating: Multi_Class_Classfication/train/COV-19/16672_1_1.jpg  \n",
            "  inflating: Multi_Class_Classfication/train/COV-19/16660_4_1.jpg  \n",
            "  inflating: Multi_Class_Classfication/train/COV-19/41379_2020_536_Fig2_HTML-c1.png  \n",
            "  inflating: Multi_Class_Classfication/train/COV-19/16747_1_1.jpg  \n",
            "  inflating: Multi_Class_Classfication/train/COV-19/radiol.2020200274.fig3d.png  \n",
            "  inflating: Multi_Class_Classfication/train/COV-19/1-s2.0-S2387020620301959-gr4_lrg-b.png  \n",
            "  inflating: Multi_Class_Classfication/train/COV-19/covid-19-pneumonia-35-1.jpg  \n",
            "  inflating: Multi_Class_Classfication/train/COV-19/2168a917.jpg  \n",
            "  inflating: Multi_Class_Classfication/train/COV-19/ryct.2020200034.fig5-day4.jpeg  \n",
            "  inflating: Multi_Class_Classfication/train/COV-19/16660_3_1.jpg  \n",
            "  inflating: Multi_Class_Classfication/train/COV-19/4e43e48d52c9e2d4c6c1fb9bc1544f_jumbo.jpeg  \n",
            "  inflating: Multi_Class_Classfication/train/COV-19/lancet-case2a.jpg  \n",
            "  inflating: Multi_Class_Classfication/train/COV-19/covid-19-pneumonia-38-pa.jpg  \n",
            "  inflating: Multi_Class_Classfication/train/COV-19/figure1-5e75d0940b71e1b702629659-98-right.jpeg  \n",
            "  inflating: Multi_Class_Classfication/train/COV-19/14d81f378173b86cc53f21d2d67040_jumbo.jpeg  \n",
            "  inflating: Multi_Class_Classfication/train/COV-19/a361d7b7.jpg  \n",
            "  inflating: Multi_Class_Classfication/train/COV-19/covid-19-pneumonia-35-2.jpg  \n",
            "  inflating: Multi_Class_Classfication/train/COV-19/16660_1_1.jpg  \n",
            "  inflating: Multi_Class_Classfication/train/COV-19/16708_1_1.jpg  \n",
            "  inflating: Multi_Class_Classfication/train/COV-19/1B734A89-A1BF-49A8-A1D3-66FAFA4FAC5D.jpeg  \n",
            "  inflating: Multi_Class_Classfication/train/COV-19/covid-19-pneumonia-28.png  \n",
            "  inflating: Multi_Class_Classfication/train/COV-19/covid-19-pneumonia-evolution-over-a-week-1-day0-PA.jpg  \n",
            "  inflating: Multi_Class_Classfication/train/COV-19/auntminnie-c-2020_01_28_23_51_6665_2020_01_28_Vietnam_coronavirus.jpeg  \n",
            "  inflating: Multi_Class_Classfication/train/COV-19/16745_5_1.png  \n",
            "  inflating: Multi_Class_Classfication/train/COV-19/c0f74558.jpg  \n",
            "  inflating: Multi_Class_Classfication/train/COV-19/1.CXRCTThoraximagesofCOVID-19fromSingapore.pdf-001-fig2b.png  \n",
            "  inflating: Multi_Class_Classfication/train/COV-19/AR-2.jpg  \n",
            "  inflating: Multi_Class_Classfication/train/COV-19/auntminnie-b-2020_01_28_23_51_6665_2020_01_28_Vietnam_coronavirus.jpeg  \n",
            "  inflating: Multi_Class_Classfication/train/COV-19/3b46de94.jpg  \n",
            "  inflating: Multi_Class_Classfication/train/COV-19/16708_5_1.jpg  \n",
            "  inflating: Multi_Class_Classfication/train/COV-19/41182_2020_203_Fig5_HTML.jpg  \n",
            "  inflating: Multi_Class_Classfication/train/COV-19/2-chest-filmc.jpg  \n",
            "  inflating: Multi_Class_Classfication/train/COV-19/1.CXRCTThoraximagesofCOVID-19fromSingapore.pdf-001-fig2a.png  \n",
            "  inflating: Multi_Class_Classfication/train/COV-19/AR-1.jpg  \n",
            "  inflating: Multi_Class_Classfication/train/COV-19/88de9d8c39e946abd495b37cd07d89e5-6531-0.jpg  \n",
            "  inflating: Multi_Class_Classfication/train/COV-19/E63574A7-4188-4C8D-8D17-9D67A18A1AFA.jpeg  \n",
            "  inflating: Multi_Class_Classfication/train/COV-19/radiol.2020200490.fig3.jpeg  \n",
            "  inflating: Multi_Class_Classfication/train/COV-19/gr1_lrg-b.jpg  \n",
            "  inflating: Multi_Class_Classfication/train/COV-19/ryct.2020200028.fig1a.jpeg  \n",
            "  inflating: Multi_Class_Classfication/train/COV-19/1-s2.0-S1684118220300682-main.pdf-002-a1.png  \n",
            "  inflating: Multi_Class_Classfication/train/COV-19/1-s2.0-S2214250920300834-gr1_lrg-b.png  \n",
            "  inflating: Multi_Class_Classfication/train/COV-19/1.CXRCTThoraximagesofCOVID-19fromSingapore.pdf-002-fig3a.png  \n",
            "  inflating: Multi_Class_Classfication/train/COV-19/ciaa199.pdf-001-b.png  \n",
            "  inflating: Multi_Class_Classfication/train/COV-19/1-s2.0-S2214250920300834-gr1_lrg-c.png  \n",
            "  inflating: Multi_Class_Classfication/train/COV-19/ac4f6e4e.jpg  \n",
            "  inflating: Multi_Class_Classfication/train/COV-19/ae6c954c0039de4b5edee53865ffee43-e6c8-0.jpg  \n",
            "  inflating: Multi_Class_Classfication/train/COV-19/41591_2020_819_Fig1_HTML.webp-day10.png  \n",
            "  inflating: Multi_Class_Classfication/train/COV-19/a8ac1969.jpg  \n",
            "  inflating: Multi_Class_Classfication/train/COV-19/bb0e626a.jpg  \n",
            "  inflating: Multi_Class_Classfication/train/COV-19/9C34AF49-E589-44D5-92D3-168B3B04E4A6.jpeg  \n",
            "  inflating: Multi_Class_Classfication/train/COV-19/1-s2.0-S1684118220300682-main.pdf-002-a2.png  \n",
            "  inflating: Multi_Class_Classfication/train/COV-19/1.CXRCTThoraximagesofCOVID-19fromSingapore.pdf-002-fig3b.png  \n",
            "  inflating: Multi_Class_Classfication/train/COV-19/bd10d5e2.jpg  \n",
            "  inflating: Multi_Class_Classfication/train/COV-19/53EC07C9-5CC6-4BE4-9B6F-D7B0D72AAA7E.jpeg  \n",
            "  inflating: Multi_Class_Classfication/train/COV-19/ciaa199.pdf-001-a.png  \n",
            "  inflating: Multi_Class_Classfication/train/COV-19/covid-19-pneumonia-20.jpg  \n",
            "  inflating: Multi_Class_Classfication/train/COV-19/16664_1_1.jpg  \n",
            "  inflating: Multi_Class_Classfication/train/COV-19/1312A392-67A3-4EBF-9319-810CF6DA5EF6.jpeg  \n",
            "  inflating: Multi_Class_Classfication/train/COV-19/88de9d8c39e946abd495b37cd07d89e5-2ee6-0.jpg  \n",
            "  inflating: Multi_Class_Classfication/train/COV-19/01E392EE-69F9-4E33-BFCE-E5C968654078.jpeg  \n",
            "  inflating: Multi_Class_Classfication/train/COV-19/93FE0BB1-022D-4F24-9727-987A07975FFB.jpeg  \n",
            "  inflating: Multi_Class_Classfication/train/COV-19/441c9cdd.jpg  \n",
            "  inflating: Multi_Class_Classfication/train/COV-19/kjr-21-e25-g001-l-a.jpg  \n",
            "  inflating: Multi_Class_Classfication/train/COV-19/6C94A287-C059-46A0-8600-AFB95F4727B7.jpeg  \n",
            "  inflating: Multi_Class_Classfication/train/COV-19/2966893D-5DDF-4B68-9E2B-4979D5956C8E.jpeg  \n",
            "  inflating: Multi_Class_Classfication/train/COV-19/1.CXRCTThoraximagesofCOVID-19fromSingapore.pdf-003-fig4a.png  \n",
            "  inflating: Multi_Class_Classfication/train/COV-19/4d98e1de.jpg  \n",
            "  inflating: Multi_Class_Classfication/train/COV-19/10.1016-slash-j.crad.2020.04.002-b.png  \n",
            "  inflating: Multi_Class_Classfication/train/COV-19/f8335316.jpg  \n",
            "  inflating: Multi_Class_Classfication/train/COV-19/nejmoa2001191_f3-PA.jpeg  \n",
            "  inflating: Multi_Class_Classfication/train/COV-19/all14238-fig-0001-m-b.jpg  \n",
            "  inflating: Multi_Class_Classfication/train/COV-19/thnov10p5641g006-c.png  \n",
            "  inflating: Multi_Class_Classfication/train/COV-19/covid-19-pneumonia-15-PA.jpg  \n",
            "  inflating: Multi_Class_Classfication/train/COV-19/ryct.2020200034.fig5-day7.jpeg  \n",
            "  inflating: Multi_Class_Classfication/train/COV-19/d9d6ca9a.jpg  \n",
            "  inflating: Multi_Class_Classfication/train/COV-19/c3829ecb.jpg  \n",
            "  inflating: Multi_Class_Classfication/train/COV-19/1.CXRCTThoraximagesofCOVID-19fromSingapore.pdf-003-fig4b.png  \n",
            "  inflating: Multi_Class_Classfication/train/COV-19/10.1016-slash-j.crad.2020.04.002-a.png  \n",
            "  inflating: Multi_Class_Classfication/train/COV-19/80446565-E090-4187-A031-9D3CEAA586C8.jpeg  \n",
            "  inflating: Multi_Class_Classfication/train/COV-19/nejmoa2001191_f4.jpeg  \n",
            "  inflating: Multi_Class_Classfication/train/COV-19/2C26F453-AF3B-4517-BB9E-802CF2179543.jpeg  \n",
            "  inflating: Multi_Class_Classfication/train/COV-19/5782ae15.jpg  \n",
            "  inflating: Multi_Class_Classfication/train/COV-19/6b44464d-73a7-4cf3-bbb6-ffe7168300e3.annot.original.jpeg  \n",
            "  inflating: Multi_Class_Classfication/train/COV-19/f6575117.jpg  \n",
            "  inflating: Multi_Class_Classfication/train/COV-19/figure1-5e71be566aa8714a04de3386-98-left.jpeg  \n",
            "  inflating: Multi_Class_Classfication/train/COV-19/48c4542c.jpg  \n",
            "  inflating: Multi_Class_Classfication/train/COV-19/6b3bdbc31f65230b8cdcc3cef5f8ba8a-40ac-0.jpg  \n",
            "  inflating: Multi_Class_Classfication/train/COV-19/1.CXRCTThoraximagesofCOVID-19fromSingapore.pdf-000-fig1b.png  \n",
            "  inflating: Multi_Class_Classfication/train/COV-19/yxppt-2020-02-19_00-51-27_287214-day8.jpg  \n",
            "  inflating: Multi_Class_Classfication/train/COV-19/nejmoa2001191_f1-PA.jpeg  \n",
            "  inflating: Multi_Class_Classfication/train/COV-19/7AF6C1AF-D249-4BD2-8C26-449304105D03.jpeg  \n",
            "  inflating: Multi_Class_Classfication/train/COV-19/ryct.2020200034.fig5-day0.jpeg  \n",
            "  inflating: Multi_Class_Classfication/train/COV-19/8fc103ca.jpg  \n",
            "  inflating: Multi_Class_Classfication/train/COV-19/auntminnie-d-2020_01_28_23_51_6665_2020_01_28_Vietnam_coronavirus.jpeg  \n",
            "  inflating: Multi_Class_Classfication/train/COV-19/8da14fff.jpg  \n",
            "  inflating: Multi_Class_Classfication/train/COV-19/58cb9263f16e94305c730685358e4e_jumbo.jpeg  \n",
            "  inflating: Multi_Class_Classfication/train/COV-19/tpmd200203f2-b.png  \n",
            "  inflating: Multi_Class_Classfication/train/COV-19/covid-19-caso-70-1-PA.jpg  \n",
            "  inflating: Multi_Class_Classfication/train/COV-19/1-s2.0-S1684118220300608-main.pdf-001.jpg  \n",
            "  inflating: Multi_Class_Classfication/train/COV-19/F4341CE7-73C9-45C6-99C8-8567A5484B63.jpeg  \n",
            "  inflating: Multi_Class_Classfication/train/COV-19/CD50BA96-6982-4C80-AE7B-5F67ACDBFA56.jpeg  \n",
            "  inflating: Multi_Class_Classfication/train/COV-19/tpmd200203f2-c.png  \n",
            "  inflating: Multi_Class_Classfication/train/COV-19/41591_2020_819_Fig1_HTML.webp-day5.png  \n",
            "  inflating: Multi_Class_Classfication/train/COV-19/covid-19-pneumonia-mild.JPG  \n",
            "  inflating: Multi_Class_Classfication/train/COV-19/1-s2.0-S1684118220300682-main.pdf-003-b1.png  \n",
            "  inflating: Multi_Class_Classfication/train/COV-19/ec083e35.jpg  \n",
            "  inflating: Multi_Class_Classfication/train/COV-19/fff49165-b22d-4bb4-b9d1-d5d62c52436c.annot.original.png  \n",
            "  inflating: Multi_Class_Classfication/train/COV-19/extubation-4.jpg  \n",
            "  inflating: Multi_Class_Classfication/train/COV-19/covid-19-pneumonia-93.png  \n",
            "  inflating: Multi_Class_Classfication/train/COV-19/1-s2.0-S1684118220300608-main.pdf-002.jpg  \n",
            "  inflating: Multi_Class_Classfication/train/COV-19/80b5f00f.jpg  \n",
            "  inflating: Multi_Class_Classfication/train/COV-19/b9673e89.jpg  \n",
            "  inflating: Multi_Class_Classfication/train/COV-19/1-s2.0-S1684118220300682-main.pdf-003-b2.png  \n",
            "   creating: Multi_Class_Classfication/train/NORMAL/\n",
            "  inflating: Multi_Class_Classfication/train/NORMAL/IM-0355-0001.jpeg  \n",
            "  inflating: Multi_Class_Classfication/train/NORMAL/NORMAL2-IM-0664-0001.jpeg  \n",
            "  inflating: Multi_Class_Classfication/train/NORMAL/IM-0467-0001-0001.jpeg  \n",
            "  inflating: Multi_Class_Classfication/train/NORMAL/IM-0624-0001.jpeg  \n",
            "  inflating: Multi_Class_Classfication/train/NORMAL/NORMAL2-IM-0840-0001.jpeg  \n",
            "  inflating: Multi_Class_Classfication/train/NORMAL/NORMAL2-IM-0521-0001.jpeg  \n",
            "  inflating: Multi_Class_Classfication/train/NORMAL/NORMAL2-IM-0698-0001.jpeg  \n",
            "  inflating: Multi_Class_Classfication/train/NORMAL/IM-0226-0001.jpeg  \n",
            "  inflating: Multi_Class_Classfication/train/NORMAL/IM-0499-0001.jpeg  \n",
            "  inflating: Multi_Class_Classfication/train/NORMAL/NORMAL2-IM-0648-0001.jpeg  \n",
            "  inflating: Multi_Class_Classfication/train/NORMAL/NORMAL2-IM-0859-0001.jpeg  \n",
            "  inflating: Multi_Class_Classfication/train/NORMAL/IM-0584-0001.jpeg  \n",
            "  inflating: Multi_Class_Classfication/train/NORMAL/NORMAL2-IM-0626-0001.jpeg  \n",
            "  inflating: Multi_Class_Classfication/train/NORMAL/IM-0471-0001.jpeg  \n",
            "  inflating: Multi_Class_Classfication/train/NORMAL/.DS_Store  \n",
            "  inflating: Multi_Class_Classfication/train/NORMAL/NORMAL2-IM-0489-0001.jpeg  \n",
            "  inflating: Multi_Class_Classfication/train/NORMAL/NORMAL2-IM-1116-0001.jpeg  \n",
            "  inflating: Multi_Class_Classfication/train/NORMAL/NORMAL2-IM-0395-0001-0001.jpeg  \n",
            "  inflating: Multi_Class_Classfication/train/NORMAL/NORMAL2-IM-0873-0001.jpeg  \n",
            "  inflating: Multi_Class_Classfication/train/NORMAL/IM-0596-0001.jpeg  \n",
            "  inflating: Multi_Class_Classfication/train/NORMAL/NORMAL2-IM-1102-0001-0002.jpeg  \n",
            "  inflating: Multi_Class_Classfication/train/NORMAL/IM-0477-0001.jpeg  \n",
            "  inflating: Multi_Class_Classfication/train/NORMAL/NORMAL2-IM-1006-0001.jpeg  \n",
            "  inflating: Multi_Class_Classfication/train/NORMAL/NORMAL2-IM-1152-0001-0001.jpeg  \n",
            "  inflating: Multi_Class_Classfication/train/NORMAL/IM-0311-0001.jpeg  \n",
            "  inflating: Multi_Class_Classfication/train/NORMAL/IM-0501-0001-0001.jpeg  \n",
            "  inflating: Multi_Class_Classfication/train/NORMAL/IM-0456-0001.jpeg  \n",
            "  inflating: Multi_Class_Classfication/train/NORMAL/NORMAL2-IM-0753-0001.jpeg  \n",
            "  inflating: Multi_Class_Classfication/train/NORMAL/IM-0612-0001-0002.jpeg  \n",
            "  inflating: Multi_Class_Classfication/train/NORMAL/IM-0218-0001.jpeg  \n",
            "  inflating: Multi_Class_Classfication/train/NORMAL/NORMAL2-IM-0453-0001.jpeg  \n",
            "  inflating: Multi_Class_Classfication/train/NORMAL/NORMAL2-IM-0948-0001.jpeg  \n",
            "  inflating: Multi_Class_Classfication/train/NORMAL/NORMAL2-IM-0429-0001.jpeg  \n",
            "  inflating: Multi_Class_Classfication/train/NORMAL/IM-0618-0001-0002.jpeg  \n",
            "  inflating: Multi_Class_Classfication/train/NORMAL/IM-0176-0001.jpeg  \n",
            "  inflating: Multi_Class_Classfication/train/NORMAL/IM-0541-0001.jpeg  \n",
            "  inflating: Multi_Class_Classfication/train/NORMAL/NORMAL2-IM-0699-0001.jpeg  \n",
            "  inflating: Multi_Class_Classfication/train/NORMAL/IM-0696-0001.jpeg  \n",
            "  inflating: Multi_Class_Classfication/train/NORMAL/IM-0413-0001.jpeg  \n",
            "  inflating: Multi_Class_Classfication/train/NORMAL/NORMAL2-IM-1142-0001-0001.jpeg  \n",
            "  inflating: Multi_Class_Classfication/train/NORMAL/NORMAL2-IM-0879-0001.jpeg  \n",
            "  inflating: Multi_Class_Classfication/train/NORMAL/IM-0511-0001-0001.jpeg  \n",
            "  inflating: Multi_Class_Classfication/train/NORMAL/IM-0337-0001.jpeg  \n",
            "  inflating: Multi_Class_Classfication/train/NORMAL/NORMAL2-IM-0576-0001.jpeg  \n",
            "  inflating: Multi_Class_Classfication/train/NORMAL/NORMAL2-IM-1020-0001.jpeg  \n",
            "  inflating: Multi_Class_Classfication/train/NORMAL/NORMAL2-IM-0627-0001.jpeg  \n",
            "  inflating: Multi_Class_Classfication/train/NORMAL/IM-0646-0001.jpeg  \n",
            "  inflating: Multi_Class_Classfication/train/NORMAL/NORMAL2-IM-0970-0001.jpeg  \n",
            "  inflating: Multi_Class_Classfication/train/NORMAL/NORMAL2-IM-0460-0001.jpeg  \n",
            "  inflating: Multi_Class_Classfication/train/NORMAL/IM-0622-0001-0001.jpeg  \n",
            "  inflating: Multi_Class_Classfication/train/NORMAL/NORMAL2-IM-0847-0001.jpeg  \n",
            "  inflating: Multi_Class_Classfication/train/NORMAL/IM-0309-0001.jpeg  \n",
            "  inflating: Multi_Class_Classfication/train/NORMAL/IM-0434-0001.jpeg  \n",
            "  inflating: Multi_Class_Classfication/train/NORMAL/NORMAL2-IM-0872-0001.jpeg  \n",
            "  inflating: Multi_Class_Classfication/train/NORMAL/NORMAL2-IM-0796-0001.jpeg  \n",
            "  inflating: Multi_Class_Classfication/train/NORMAL/NORMAL2-IM-0934-0001.jpeg  \n",
            "  inflating: Multi_Class_Classfication/train/NORMAL/IM-0164-0001.jpeg  \n",
            "  inflating: Multi_Class_Classfication/train/NORMAL/NORMAL2-IM-0513-0001.jpeg  \n",
            "  inflating: Multi_Class_Classfication/train/NORMAL/IM-0346-0001.jpeg  \n",
            "  inflating: Multi_Class_Classfication/train/NORMAL/IM-0706-0001.jpeg  \n",
            "  inflating: Multi_Class_Classfication/train/NORMAL/NORMAL2-IM-1128-0001-0001.jpeg  \n",
            "  inflating: Multi_Class_Classfication/train/NORMAL/NORMAL2-IM-0545-0001.jpeg  \n",
            "  inflating: Multi_Class_Classfication/train/NORMAL/NORMAL2-IM-0479-0001.jpeg  \n",
            "  inflating: Multi_Class_Classfication/train/NORMAL/NORMAL2-IM-0686-0001.jpeg  \n",
            "  inflating: Multi_Class_Classfication/train/NORMAL/NORMAL2-IM-0995-0001-0001.jpeg  \n",
            "  inflating: Multi_Class_Classfication/train/NORMAL/NORMAL2-IM-1048-0001.jpeg  \n",
            "  inflating: Multi_Class_Classfication/train/NORMAL/IM-0517-0001-0001.jpeg  \n",
            "  inflating: Multi_Class_Classfication/train/NORMAL/IM-0457-0001.jpeg  \n",
            "  inflating: Multi_Class_Classfication/train/NORMAL/IM-0511-0001.jpeg  \n",
            "  inflating: Multi_Class_Classfication/train/NORMAL/IM-0660-0001-0001.jpeg  \n",
            "  inflating: Multi_Class_Classfication/train/NORMAL/NORMAL2-IM-1180-0001.jpeg  \n",
            "  inflating: Multi_Class_Classfication/train/NORMAL/IM-0681-0001.jpeg  \n",
            "  inflating: Multi_Class_Classfication/train/NORMAL/IM-0362-0001.jpeg  \n",
            "  inflating: Multi_Class_Classfication/train/NORMAL/IM-0519-0001.jpeg  \n",
            "  inflating: Multi_Class_Classfication/train/NORMAL/IM-0205-0001.jpeg  \n",
            "  inflating: Multi_Class_Classfication/train/NORMAL/NORMAL2-IM-0672-0001.jpeg  \n",
            "  inflating: Multi_Class_Classfication/train/NORMAL/IM-0357-0001.jpeg  \n",
            "  inflating: Multi_Class_Classfication/train/NORMAL/NORMAL2-IM-0931-0001.jpeg  \n",
            "  inflating: Multi_Class_Classfication/train/NORMAL/IM-0607-0001.jpeg  \n",
            "  inflating: Multi_Class_Classfication/train/NORMAL/NORMAL2-IM-0967-0001.jpeg  \n",
            "  inflating: Multi_Class_Classfication/train/NORMAL/NORMAL2-IM-0886-0001.jpeg  \n",
            "  inflating: Multi_Class_Classfication/train/NORMAL/NORMAL2-IM-0412-0001.jpeg  \n",
            "  inflating: Multi_Class_Classfication/train/NORMAL/NORMAL2-IM-0909-0001.jpeg  \n",
            "  inflating: Multi_Class_Classfication/train/NORMAL/NORMAL2-IM-1090-0001.jpeg  \n",
            "  inflating: Multi_Class_Classfication/train/NORMAL/IM-0722-0001.jpeg  \n",
            "  inflating: Multi_Class_Classfication/train/NORMAL/NORMAL2-IM-1171-0001.jpeg  \n",
            "  inflating: Multi_Class_Classfication/train/NORMAL/IM-0500-0001.jpeg  \n",
            "  inflating: Multi_Class_Classfication/train/NORMAL/NORMAL2-IM-1037-0001.jpeg  \n",
            "  inflating: Multi_Class_Classfication/train/NORMAL/IM-0320-0001.jpeg  \n",
            "  inflating: Multi_Class_Classfication/train/NORMAL/IM-0266-0001.jpeg  \n",
            "  inflating: Multi_Class_Classfication/train/NORMAL/IM-0345-0001.jpeg  \n",
            "  inflating: Multi_Class_Classfication/train/NORMAL/IM-0525-0001-0001.jpeg  \n",
            "  inflating: Multi_Class_Classfication/train/NORMAL/NORMAL2-IM-0871-0001.jpeg  \n",
            "  inflating: Multi_Class_Classfication/train/NORMAL/IM-0437-0001.jpeg  \n",
            "  inflating: Multi_Class_Classfication/train/NORMAL/IM-0217-0001.jpeg  \n",
            "  inflating: Multi_Class_Classfication/train/NORMAL/NORMAL2-IM-0707-0001.jpeg  \n",
            "  inflating: Multi_Class_Classfication/train/NORMAL/NORMAL2-IM-0641-0001.jpeg  \n",
            "  inflating: Multi_Class_Classfication/train/NORMAL/IM-0693-0001.jpeg  \n",
            "  inflating: Multi_Class_Classfication/train/NORMAL/IM-0364-0001.jpeg  \n",
            "  inflating: Multi_Class_Classfication/train/NORMAL/NORMAL2-IM-0573-0001.jpeg  \n",
            "  inflating: Multi_Class_Classfication/train/NORMAL/IM-0631-0001-0002.jpeg  \n",
            "  inflating: Multi_Class_Classfication/train/NORMAL/IM-0711-0001.jpeg  \n",
            "  inflating: Multi_Class_Classfication/train/NORMAL/IM-0705-0001.jpeg  \n",
            "  inflating: Multi_Class_Classfication/train/NORMAL/IM-0475-0001.jpeg  \n",
            "  inflating: Multi_Class_Classfication/train/NORMAL/NORMAL2-IM-0552-0001.jpeg  \n",
            "  inflating: Multi_Class_Classfication/train/NORMAL/NORMAL2-IM-1132-0001.jpeg  \n",
            "  inflating: Multi_Class_Classfication/train/NORMAL/IM-0551-0001-0001.jpeg  \n",
            "  inflating: Multi_Class_Classfication/train/NORMAL/NORMAL2-IM-0464-0001.jpeg  \n",
            "  inflating: Multi_Class_Classfication/train/NORMAL/NORMAL2-IM-0522-0001.jpeg  \n",
            "  inflating: Multi_Class_Classfication/train/NORMAL/NORMAL2-IM-1102-0001-0001.jpeg  \n",
            "  inflating: Multi_Class_Classfication/train/NORMAL/IM-0141-0001.jpeg  \n",
            "  inflating: Multi_Class_Classfication/train/NORMAL/IM-0411-0001.jpeg  \n",
            "  inflating: Multi_Class_Classfication/train/NORMAL/IM-0627-0001.jpeg  \n",
            "  inflating: Multi_Class_Classfication/train/NORMAL/NORMAL2-IM-0517-0001.jpeg  \n",
            "  inflating: Multi_Class_Classfication/train/NORMAL/IM-0160-0001.jpeg  \n",
            "  inflating: Multi_Class_Classfication/train/NORMAL/IM-0668-0001.jpeg  \n",
            "  inflating: Multi_Class_Classfication/train/NORMAL/IM-0408-0001.jpeg  \n",
            "  inflating: Multi_Class_Classfication/train/NORMAL/NORMAL2-IM-1151-0001.jpeg  \n",
            "  inflating: Multi_Class_Classfication/train/NORMAL/NORMAL2-IM-0682-0001.jpeg  \n",
            "  inflating: Multi_Class_Classfication/train/NORMAL/NORMAL2-IM-0777-0001.jpeg  \n",
            "  inflating: Multi_Class_Classfication/train/NORMAL/IM-0501-0001.jpeg  \n",
            "  inflating: Multi_Class_Classfication/train/NORMAL/NORMAL2-IM-0929-0001.jpeg  \n",
            "  inflating: Multi_Class_Classfication/train/NORMAL/NORMAL2-IM-0604-0001.jpeg  \n",
            "  inflating: Multi_Class_Classfication/train/NORMAL/NORMAL2-IM-0448-0001.jpeg  \n",
            "  inflating: Multi_Class_Classfication/train/NORMAL/IM-0515-0001.jpeg  \n",
            "  inflating: Multi_Class_Classfication/train/NORMAL/NORMAL2-IM-1022-0001.jpeg  \n",
            "  inflating: Multi_Class_Classfication/train/NORMAL/IM-0453-0001.jpeg  \n",
            "  inflating: Multi_Class_Classfication/train/NORMAL/NORMAL2-IM-0870-0001.jpeg  \n",
            "  inflating: Multi_Class_Classfication/train/NORMAL/IM-0728-0001.jpeg  \n",
            "  inflating: Multi_Class_Classfication/train/NORMAL/NORMAL2-IM-1094-0001-0001.jpeg  \n",
            "  inflating: Multi_Class_Classfication/train/NORMAL/NORMAL2-IM-0675-0001.jpeg  \n",
            "  inflating: Multi_Class_Classfication/train/NORMAL/NORMAL2-IM-0583-0001.jpeg  \n",
            "  inflating: Multi_Class_Classfication/train/NORMAL/NORMAL2-IM-0689-0001.jpeg  \n",
            "  inflating: Multi_Class_Classfication/train/NORMAL/IM-0507-0001.jpeg  \n",
            "  inflating: Multi_Class_Classfication/train/NORMAL/NORMAL2-IM-0832-0001.jpeg  \n",
            "  inflating: Multi_Class_Classfication/train/NORMAL/IM-0368-0001.jpeg  \n",
            "  inflating: Multi_Class_Classfication/train/NORMAL/IM-0704-0001.jpeg  \n",
            "  inflating: Multi_Class_Classfication/train/NORMAL/IM-0437-0001-0001.jpeg  \n",
            "  inflating: Multi_Class_Classfication/train/NORMAL/NORMAL2-IM-0637-0001.jpeg  \n",
            "  inflating: Multi_Class_Classfication/train/NORMAL/NORMAL2-IM-0826-0001.jpeg  \n",
            "   creating: Multi_Class_Classfication/train/PNEMONIA/\n",
            "  inflating: Multi_Class_Classfication/train/PNEMONIA/person60_bacteria_287.jpeg  \n",
            "  inflating: Multi_Class_Classfication/train/PNEMONIA/person975_virus_1650.jpeg  \n",
            "  inflating: Multi_Class_Classfication/train/PNEMONIA/person162_virus_319.jpeg  \n",
            "  inflating: Multi_Class_Classfication/train/PNEMONIA/person647_bacteria_2539.jpeg  \n",
            "  inflating: Multi_Class_Classfication/train/PNEMONIA/person1510_virus_2629.jpeg  \n",
            "  inflating: Multi_Class_Classfication/train/PNEMONIA/person1458_virus_2501.jpeg  \n",
            "  inflating: Multi_Class_Classfication/train/PNEMONIA/person617_bacteria_2488.jpeg  \n",
            "  inflating: Multi_Class_Classfication/train/PNEMONIA/person813_virus_1449.jpeg  \n",
            "  inflating: Multi_Class_Classfication/train/PNEMONIA/person88_virus_165.jpeg  \n",
            "  inflating: Multi_Class_Classfication/train/PNEMONIA/person1869_bacteria_4745.jpeg  \n",
            "  inflating: Multi_Class_Classfication/train/PNEMONIA/person264_virus_547.jpeg  \n",
            "  inflating: Multi_Class_Classfication/train/PNEMONIA/person301_bacteria_1427.jpeg  \n",
            "  inflating: Multi_Class_Classfication/train/PNEMONIA/person441_virus_896.jpeg  \n",
            "  inflating: Multi_Class_Classfication/train/PNEMONIA/person51_bacteria_244.jpeg  \n",
            "  inflating: Multi_Class_Classfication/train/PNEMONIA/person327_bacteria_1508.jpeg  \n",
            "  inflating: Multi_Class_Classfication/train/PNEMONIA/person430_virus_879.jpeg  \n",
            "  inflating: Multi_Class_Classfication/train/PNEMONIA/person1310_bacteria_3295.jpeg  \n",
            "  inflating: Multi_Class_Classfication/train/PNEMONIA/person1617_bacteria_4256.jpeg  \n",
            "  inflating: Multi_Class_Classfication/train/PNEMONIA/person1597_bacteria_4194.jpeg  \n",
            "  inflating: Multi_Class_Classfication/train/PNEMONIA/person419_bacteria_1844.jpeg  \n",
            "  inflating: Multi_Class_Classfication/train/PNEMONIA/person1333_virus_2301.jpeg  \n",
            "  inflating: Multi_Class_Classfication/train/PNEMONIA/person1426_bacteria_3668.jpeg  \n",
            "  inflating: Multi_Class_Classfication/train/PNEMONIA/person735_bacteria_2638.jpeg  \n",
            "  inflating: Multi_Class_Classfication/train/PNEMONIA/person1091_bacteria_3031.jpeg  \n",
            "  inflating: Multi_Class_Classfication/train/PNEMONIA/person613_bacteria_2479.jpeg  \n",
            "  inflating: Multi_Class_Classfication/train/PNEMONIA/.DS_Store  \n",
            "  inflating: Multi_Class_Classfication/train/PNEMONIA/person1318_bacteria_3334.jpeg  \n",
            "  inflating: Multi_Class_Classfication/train/PNEMONIA/person1725_bacteria_4551.jpeg  \n",
            "  inflating: Multi_Class_Classfication/train/PNEMONIA/person1278_virus_2201.jpeg  \n",
            "  inflating: Multi_Class_Classfication/train/PNEMONIA/person883_virus_1533.jpeg  \n",
            "  inflating: Multi_Class_Classfication/train/PNEMONIA/person1024_virus_1716.jpeg  \n",
            "  inflating: Multi_Class_Classfication/train/PNEMONIA/person1398_virus_2401.jpeg  \n",
            "  inflating: Multi_Class_Classfication/train/PNEMONIA/person326_virus_666.jpeg  \n",
            "  inflating: Multi_Class_Classfication/train/PNEMONIA/person504_bacteria_2130.jpeg  \n",
            "  inflating: Multi_Class_Classfication/train/PNEMONIA/person977_bacteria_2902.jpeg  \n",
            "  inflating: Multi_Class_Classfication/train/PNEMONIA/person1247_bacteria_3203.jpeg  \n",
            "  inflating: Multi_Class_Classfication/train/PNEMONIA/person1292_bacteria_3255.jpeg  \n",
            "  inflating: Multi_Class_Classfication/train/PNEMONIA/person1264_bacteria_3222.jpeg  \n",
            "  inflating: Multi_Class_Classfication/train/PNEMONIA/person834_bacteria_2748.jpeg  \n",
            "  inflating: Multi_Class_Classfication/train/PNEMONIA/person1034_bacteria_2968.jpeg  \n",
            "  inflating: Multi_Class_Classfication/train/PNEMONIA/person304_virus_625.jpeg  \n",
            "  inflating: Multi_Class_Classfication/train/PNEMONIA/person810_virus_1446.jpeg  \n",
            "  inflating: Multi_Class_Classfication/train/PNEMONIA/person1368_virus_2352.jpeg  \n",
            "  inflating: Multi_Class_Classfication/train/PNEMONIA/person70_bacteria_345.jpeg  \n",
            "  inflating: Multi_Class_Classfication/train/PNEMONIA/person1106_virus_1829.jpeg  \n",
            "  inflating: Multi_Class_Classfication/train/PNEMONIA/person1145_bacteria_3090.jpeg  \n",
            "  inflating: Multi_Class_Classfication/train/PNEMONIA/person301_virus_622.jpeg  \n",
            "  inflating: Multi_Class_Classfication/train/PNEMONIA/person441_bacteria_1917.jpeg  \n",
            "  inflating: Multi_Class_Classfication/train/PNEMONIA/person413_bacteria_1830.jpeg  \n",
            "  inflating: Multi_Class_Classfication/train/PNEMONIA/person409_virus_820.jpeg  \n",
            "  inflating: Multi_Class_Classfication/train/PNEMONIA/person1263_bacteria_3221.jpeg  \n",
            "  inflating: Multi_Class_Classfication/train/PNEMONIA/person524_virus_1045.jpeg  \n",
            "  inflating: Multi_Class_Classfication/train/PNEMONIA/person799_virus_1431.jpeg  \n",
            "  inflating: Multi_Class_Classfication/train/PNEMONIA/person1249_bacteria_3205.jpeg  \n",
            "  inflating: Multi_Class_Classfication/train/PNEMONIA/person368_bacteria_1668.jpeg  \n",
            "  inflating: Multi_Class_Classfication/train/PNEMONIA/person508_bacteria_2142.jpeg  \n",
            "  inflating: Multi_Class_Classfication/train/PNEMONIA/person58_bacteria_276.jpeg  \n",
            "  inflating: Multi_Class_Classfication/train/PNEMONIA/person1209_bacteria_3161.jpeg  \n",
            "  inflating: Multi_Class_Classfication/train/PNEMONIA/person844_virus_1487.jpeg  \n",
            "  inflating: Multi_Class_Classfication/train/PNEMONIA/person1896_bacteria_4788.jpeg  \n",
            "  inflating: Multi_Class_Classfication/train/PNEMONIA/person1488_bacteria_3887.jpeg  \n",
            "  inflating: Multi_Class_Classfication/train/PNEMONIA/person500_bacteria_2109.jpeg  \n",
            "  inflating: Multi_Class_Classfication/train/PNEMONIA/person770_bacteria_2674.jpeg  \n",
            "  inflating: Multi_Class_Classfication/train/PNEMONIA/person337_bacteria_1558.jpeg  \n",
            "  inflating: Multi_Class_Classfication/train/PNEMONIA/person720_bacteria_2622.jpeg  \n",
            "  inflating: Multi_Class_Classfication/train/PNEMONIA/person73_bacteria_355.jpeg  \n",
            "  inflating: Multi_Class_Classfication/train/PNEMONIA/person1933_bacteria_4844.jpeg  \n",
            "  inflating: Multi_Class_Classfication/train/PNEMONIA/person258_bacteria_1212.jpeg  \n",
            "  inflating: Multi_Class_Classfication/train/PNEMONIA/person531_bacteria_2242.jpeg  \n",
            "  inflating: Multi_Class_Classfication/train/PNEMONIA/person568_bacteria_2358.jpeg  \n",
            "  inflating: Multi_Class_Classfication/train/PNEMONIA/person92_virus_174.jpeg  \n",
            "  inflating: Multi_Class_Classfication/train/PNEMONIA/person1283_bacteria_3246.jpeg  \n",
            "  inflating: Multi_Class_Classfication/train/PNEMONIA/person486_virus_990.jpeg  \n",
            "  inflating: Multi_Class_Classfication/train/PNEMONIA/person412_bacteria_1827.jpeg  \n",
            "  inflating: Multi_Class_Classfication/train/PNEMONIA/person1266_bacteria_3225.jpeg  \n",
            "  inflating: Multi_Class_Classfication/train/PNEMONIA/person47_bacteria_229.jpeg  \n",
            "  inflating: Multi_Class_Classfication/train/PNEMONIA/person1394_virus_2397.jpeg  \n",
            "  inflating: Multi_Class_Classfication/train/PNEMONIA/person576_bacteria_2376.jpeg  \n",
            "  inflating: Multi_Class_Classfication/train/PNEMONIA/person485_bacteria_2049.jpeg  \n",
            "  inflating: Multi_Class_Classfication/train/PNEMONIA/person1418_bacteria_3637.jpeg  \n",
            "  inflating: Multi_Class_Classfication/train/PNEMONIA/person833_virus_1469.jpeg  \n",
            "  inflating: Multi_Class_Classfication/train/PNEMONIA/person1175_bacteria_3122.jpeg  \n",
            "  inflating: Multi_Class_Classfication/train/PNEMONIA/person392_bacteria_1783.jpeg  \n",
            "  inflating: Multi_Class_Classfication/train/PNEMONIA/person1202_bacteria_3153.jpeg  \n",
            "  inflating: Multi_Class_Classfication/train/PNEMONIA/person534_virus_1061.jpeg  \n",
            "  inflating: Multi_Class_Classfication/train/PNEMONIA/person351_bacteria_1619.jpeg  \n",
            "  inflating: Multi_Class_Classfication/train/PNEMONIA/person957_virus_1629.jpeg  \n",
            "  inflating: Multi_Class_Classfication/train/PNEMONIA/person425_virus_871.jpeg  \n",
            "  inflating: Multi_Class_Classfication/train/PNEMONIA/person95_virus_177.jpeg  \n",
            "  inflating: Multi_Class_Classfication/train/PNEMONIA/person140_virus_284.jpeg  \n",
            "  inflating: Multi_Class_Classfication/train/PNEMONIA/person429_virus_877.jpeg  \n",
            "  inflating: Multi_Class_Classfication/train/PNEMONIA/person1321_bacteria_3359.jpeg  \n",
            "  inflating: Multi_Class_Classfication/train/PNEMONIA/person511_bacteria_2152.jpeg  \n",
            "  inflating: Multi_Class_Classfication/train/PNEMONIA/person1168_bacteria_3114.jpeg  \n",
            "  inflating: Multi_Class_Classfication/train/PNEMONIA/person1225_virus_2076.jpeg  \n",
            "  inflating: Multi_Class_Classfication/train/PNEMONIA/person1457_virus_2498.jpeg  \n",
            "  inflating: Multi_Class_Classfication/train/PNEMONIA/person732_virus_1353.jpeg  \n",
            "  inflating: Multi_Class_Classfication/train/PNEMONIA/person1412_bacteria_3612.jpeg  \n",
            "  inflating: Multi_Class_Classfication/train/PNEMONIA/person494_bacteria_2088.jpeg  \n",
            "  inflating: Multi_Class_Classfication/train/PNEMONIA/person267_virus_552.jpeg  \n",
            "  inflating: Multi_Class_Classfication/train/PNEMONIA/person454_bacteria_1945.jpeg  \n",
            "  inflating: Multi_Class_Classfication/train/PNEMONIA/person933_virus_1594.jpeg  \n",
            "  inflating: Multi_Class_Classfication/train/PNEMONIA/person313_virus_637.jpeg  \n",
            "  inflating: Multi_Class_Classfication/train/PNEMONIA/person1145_virus_1906.jpeg  \n",
            "  inflating: Multi_Class_Classfication/train/PNEMONIA/person531_bacteria_2240.jpeg  \n",
            "  inflating: Multi_Class_Classfication/train/PNEMONIA/person391_virus_781.jpeg  \n",
            "  inflating: Multi_Class_Classfication/train/PNEMONIA/person267_bacteria_1253.jpeg  \n",
            "  inflating: Multi_Class_Classfication/train/PNEMONIA/person707_virus_1305.jpeg  \n",
            "  inflating: Multi_Class_Classfication/train/PNEMONIA/person1003_bacteria_2934.jpeg  \n",
            "  inflating: Multi_Class_Classfication/train/PNEMONIA/person303_bacteria_1431.jpeg  \n",
            "  inflating: Multi_Class_Classfication/train/PNEMONIA/person1458_virus_2503.jpeg  \n",
            "  inflating: Multi_Class_Classfication/train/PNEMONIA/person448_bacteria_1936.jpeg  \n",
            "  inflating: Multi_Class_Classfication/train/PNEMONIA/person992_bacteria_2920.jpeg  \n",
            "  inflating: Multi_Class_Classfication/train/PNEMONIA/person1888_bacteria_4775.jpeg  \n",
            "  inflating: Multi_Class_Classfication/train/PNEMONIA/person1259_bacteria_3217.jpeg  \n",
            "  inflating: Multi_Class_Classfication/train/PNEMONIA/person658_virus_1241.jpeg  \n",
            "  inflating: Multi_Class_Classfication/train/PNEMONIA/person370_bacteria_1692.jpeg  \n",
            "  inflating: Multi_Class_Classfication/train/PNEMONIA/person148_virus_298.jpeg  \n",
            "  inflating: Multi_Class_Classfication/train/PNEMONIA/person746_virus_1369.jpeg  \n",
            "  inflating: Multi_Class_Classfication/train/PNEMONIA/person470_bacteria_2003.jpeg  \n",
            "  inflating: Multi_Class_Classfication/train/PNEMONIA/person689_bacteria_2585.jpeg  \n",
            "  inflating: Multi_Class_Classfication/train/PNEMONIA/person281_bacteria_1331.jpeg  \n",
            "  inflating: Multi_Class_Classfication/train/PNEMONIA/person1143_virus_1897.jpeg  \n",
            "  inflating: Multi_Class_Classfication/train/PNEMONIA/person321_bacteria_1487.jpeg  \n",
            "  inflating: Multi_Class_Classfication/train/PNEMONIA/person1863_bacteria_4735.jpeg  \n",
            "  inflating: Multi_Class_Classfication/train/PNEMONIA/person666_bacteria_2558.jpeg  \n",
            "  inflating: Multi_Class_Classfication/train/PNEMONIA/person441_virus_895.jpeg  \n",
            "  inflating: Multi_Class_Classfication/train/PNEMONIA/person522_bacteria_2210.jpeg  \n",
            "  inflating: Multi_Class_Classfication/train/PNEMONIA/person502_bacteria_2123.jpeg  \n",
            "  inflating: Multi_Class_Classfication/train/PNEMONIA/person512_virus_1029.jpeg  \n",
            "  inflating: Multi_Class_Classfication/train/PNEMONIA/person1186_bacteria_3135.jpeg  \n",
            "  inflating: Multi_Class_Classfication/train/PNEMONIA/person567_bacteria_2352.jpeg  \n",
            "  inflating: Multi_Class_Classfication/train/PNEMONIA/person261_bacteria_1225.jpeg  \n",
            "  inflating: Multi_Class_Classfication/train/PNEMONIA/person441_bacteria_1912.jpeg  \n",
            "  inflating: Multi_Class_Classfication/train/PNEMONIA/person1059_virus_1758.jpeg  \n",
            "  inflating: Multi_Class_Classfication/train/PNEMONIA/person301_bacteria_1428.jpeg  \n",
            "  inflating: Multi_Class_Classfication/train/PNEMONIA/person620_virus_1192.jpeg  \n",
            "  inflating: Multi_Class_Classfication/train/PNEMONIA/person1068_virus_1771.jpeg  \n",
            "  inflating: Multi_Class_Classfication/train/PNEMONIA/person262_virus_545.jpeg  \n",
            "  inflating: Multi_Class_Classfication/train/PNEMONIA/person1924_bacteria_4833.jpeg  \n"
          ],
          "name": "stdout"
        }
      ]
    },
    {
      "cell_type": "markdown",
      "metadata": {
        "id": "Umkvw3Ml68T6",
        "colab_type": "text"
      },
      "source": [
        "Now that the data is downloaded to Colab, we need to specify the folders (i.e. Train and Test)"
      ]
    },
    {
      "cell_type": "code",
      "metadata": {
        "id": "KHr8wRTazNla",
        "colab_type": "code",
        "colab": {}
      },
      "source": [
        "# Creating the file path for test and train\n",
        "TRAIN_FILE_PATH = '/content/Multi_Class_Classfication/train'\n",
        "TEST_FILE_PATH = '/content/Multi_Class_Classfication/test'"
      ],
      "execution_count": null,
      "outputs": []
    },
    {
      "cell_type": "markdown",
      "metadata": {
        "id": "la_-gzmu7Tsk",
        "colab_type": "text"
      },
      "source": [
        "Now that we have the data avaiable, we will start with modeling.\n"
      ]
    },
    {
      "cell_type": "markdown",
      "metadata": {
        "id": "N-Rtx6ie7c2-",
        "colab_type": "text"
      },
      "source": [
        "# CNN MODELING - Multi Class Classification"
      ]
    },
    {
      "cell_type": "markdown",
      "metadata": {
        "id": "HVgkXBbg7m1K",
        "colab_type": "text"
      },
      "source": [
        "With the CNN modeling, we will employ a layered architecture approach to identify the patterns in the images."
      ]
    },
    {
      "cell_type": "code",
      "metadata": {
        "id": "XBDUsTyy1u4K",
        "colab_type": "code",
        "colab": {}
      },
      "source": [
        "# Intantiating the Sequential Model\n",
        "cnn_model_multi = Sequential()\n",
        "\n",
        "# We have a 32 filter in the first layer to feature extraction and a kernal size of (3x3) as a standard\n",
        "cnn_model_multi.add(Conv2D(32,kernel_size=(3,3),activation=\"relu\",input_shape=(224,224,3)))\n",
        "\n",
        "cnn_model_multi.add(Conv2D(64,(3,3),activation=\"relu\"))\n",
        "cnn_model_multi.add(MaxPooling2D(pool_size = (2,2)))\n",
        "cnn_model_multi.add(Dropout(0.25))\n",
        "\n",
        "cnn_model_multi.add(Conv2D(64,(3,3),activation=\"relu\"))\n",
        "cnn_model_multi.add(MaxPooling2D(pool_size=(2,2)))\n",
        "cnn_model_multi.add(Dropout(0.25))\n",
        "\n",
        "cnn_model_multi.add(Conv2D(128,(3,3),activation=\"relu\"))\n",
        "cnn_model_multi.add(MaxPooling2D(pool_size=(2,2)))\n",
        "cnn_model_multi.add(Dropout(0.25))\n",
        "\n",
        "cnn_model_multi.add(Conv2D(128,(3,3),activation=\"relu\"))\n",
        "cnn_model_multi.add(MaxPooling2D(pool_size=(2,2)))\n",
        "cnn_model_multi.add(Dropout(0.25))\n",
        "\n",
        "cnn_model_multi.add(Flatten())\n",
        "cnn_model_multi.add(Dense(64,activation=\"relu\"))\n",
        "cnn_model_multi.add(Dropout(0.5))\n",
        "\n",
        "cnn_model_multi.add(Dense(3,activation=\"softmax\"))\n",
        "\n",
        "cnn_model_multi.compile(loss=keras.losses.categorical_crossentropy,optimizer = \"adam\",metrics=[\"accuracy\"])"
      ],
      "execution_count": null,
      "outputs": []
    },
    {
      "cell_type": "markdown",
      "metadata": {
        "id": "hhPf8EC87vN1",
        "colab_type": "text"
      },
      "source": [
        "# MODEL ARCHITECTURE"
      ]
    },
    {
      "cell_type": "markdown",
      "metadata": {
        "id": "rRnLier17yyz",
        "colab_type": "text"
      },
      "source": [
        "We will adapt the similar architecture structure as Binary classification except the output layer will 3 since the model needs to predict (COVID vs. PNEUMONIA vs. NORMAL)"
      ]
    },
    {
      "cell_type": "code",
      "metadata": {
        "id": "VpHJrybO2X3l",
        "colab_type": "code",
        "colab": {
          "base_uri": "https://localhost:8080/",
          "height": 731
        },
        "outputId": "af75593b-75d4-4220-cd79-f68514fe8021"
      },
      "source": [
        "#Generating the model summary\n",
        "cnn_model_multi.summary()"
      ],
      "execution_count": null,
      "outputs": [
        {
          "output_type": "stream",
          "text": [
            "Model: \"sequential\"\n",
            "_________________________________________________________________\n",
            "Layer (type)                 Output Shape              Param #   \n",
            "=================================================================\n",
            "conv2d (Conv2D)              (None, 222, 222, 32)      896       \n",
            "_________________________________________________________________\n",
            "conv2d_1 (Conv2D)            (None, 220, 220, 64)      18496     \n",
            "_________________________________________________________________\n",
            "max_pooling2d (MaxPooling2D) (None, 110, 110, 64)      0         \n",
            "_________________________________________________________________\n",
            "dropout (Dropout)            (None, 110, 110, 64)      0         \n",
            "_________________________________________________________________\n",
            "conv2d_2 (Conv2D)            (None, 108, 108, 64)      36928     \n",
            "_________________________________________________________________\n",
            "max_pooling2d_1 (MaxPooling2 (None, 54, 54, 64)        0         \n",
            "_________________________________________________________________\n",
            "dropout_1 (Dropout)          (None, 54, 54, 64)        0         \n",
            "_________________________________________________________________\n",
            "conv2d_3 (Conv2D)            (None, 52, 52, 128)       73856     \n",
            "_________________________________________________________________\n",
            "max_pooling2d_2 (MaxPooling2 (None, 26, 26, 128)       0         \n",
            "_________________________________________________________________\n",
            "dropout_2 (Dropout)          (None, 26, 26, 128)       0         \n",
            "_________________________________________________________________\n",
            "conv2d_4 (Conv2D)            (None, 24, 24, 128)       147584    \n",
            "_________________________________________________________________\n",
            "max_pooling2d_3 (MaxPooling2 (None, 12, 12, 128)       0         \n",
            "_________________________________________________________________\n",
            "dropout_3 (Dropout)          (None, 12, 12, 128)       0         \n",
            "_________________________________________________________________\n",
            "flatten (Flatten)            (None, 18432)             0         \n",
            "_________________________________________________________________\n",
            "dense (Dense)                (None, 64)                1179712   \n",
            "_________________________________________________________________\n",
            "dropout_4 (Dropout)          (None, 64)                0         \n",
            "_________________________________________________________________\n",
            "dense_1 (Dense)              (None, 3)                 195       \n",
            "=================================================================\n",
            "Total params: 1,457,667\n",
            "Trainable params: 1,457,667\n",
            "Non-trainable params: 0\n",
            "_________________________________________________________________\n"
          ],
          "name": "stdout"
        }
      ]
    },
    {
      "cell_type": "markdown",
      "metadata": {
        "id": "Jtd5UELR8ZBa",
        "colab_type": "text"
      },
      "source": [
        "We now have established a CNN model for Multi Class Classification"
      ]
    },
    {
      "cell_type": "markdown",
      "metadata": {
        "id": "l3IP9i98890O",
        "colab_type": "text"
      },
      "source": [
        "# MODEL TRAINING"
      ]
    },
    {
      "cell_type": "markdown",
      "metadata": {
        "id": "0kX0rE7v9CQf",
        "colab_type": "text"
      },
      "source": [
        "Similar to the process of Binary Classificatio and also since the images (CXR) are of a different shape, we will perform data augmentation."
      ]
    },
    {
      "cell_type": "markdown",
      "metadata": {
        "id": "Ngj4Qx979kJn",
        "colab_type": "text"
      },
      "source": [
        "## DATA AUGMENTATION"
      ]
    },
    {
      "cell_type": "markdown",
      "metadata": {
        "id": "-IlnYgrk9wc-",
        "colab_type": "text"
      },
      "source": [
        "### Train Data Augmentation"
      ]
    },
    {
      "cell_type": "code",
      "metadata": {
        "id": "CVrtznDB2eO0",
        "colab_type": "code",
        "colab": {}
      },
      "source": [
        "# using the keras image data generator to augment the data\n",
        "train_data_gen = image.ImageDataGenerator(\n",
        "    rescale = 1./255,\n",
        "    shear_range = 0.2,\n",
        "    zoom_range = 0.2,\n",
        "    horizontal_flip = True,\n",
        ")\n",
        "test_data_gen = image.ImageDataGenerator(rescale = 1./255)"
      ],
      "execution_count": null,
      "outputs": []
    },
    {
      "cell_type": "code",
      "metadata": {
        "id": "YAbmJcIF2kim",
        "colab_type": "code",
        "colab": {
          "base_uri": "https://localhost:8080/",
          "height": 34
        },
        "outputId": "65d1f599-b1c0-4457-bf8c-26a3b966a8c4"
      },
      "source": [
        "# augmenting the train set images\n",
        "train_image_gen = train_data_gen.flow_from_directory(\n",
        "    TRAIN_FILE_PATH,\n",
        "    target_size = (224,224),\n",
        "    batch_size = 32,\n",
        "    class_mode = 'categorical'\n",
        ")"
      ],
      "execution_count": null,
      "outputs": [
        {
          "output_type": "stream",
          "text": [
            "Found 417 images belonging to 3 classes.\n"
          ],
          "name": "stdout"
        }
      ]
    },
    {
      "cell_type": "code",
      "metadata": {
        "id": "KXSbKHA92sWs",
        "colab_type": "code",
        "colab": {
          "base_uri": "https://localhost:8080/",
          "height": 34
        },
        "outputId": "2f6ab46d-46f0-429e-ddb6-911327414906"
      },
      "source": [
        "#Checking the classes of the images in the train data set\n",
        "train_image_gen.class_indices"
      ],
      "execution_count": null,
      "outputs": [
        {
          "output_type": "execute_result",
          "data": {
            "text/plain": [
              "{'COV-19': 0, 'NORMAL': 1, 'PNEMONIA': 2}"
            ]
          },
          "metadata": {
            "tags": []
          },
          "execution_count": 9
        }
      ]
    },
    {
      "cell_type": "markdown",
      "metadata": {
        "id": "XZZn8JAv95Yn",
        "colab_type": "text"
      },
      "source": [
        "### Test Data Augmentation"
      ]
    },
    {
      "cell_type": "code",
      "metadata": {
        "id": "E1DE6BAi2vPG",
        "colab_type": "code",
        "colab": {
          "base_uri": "https://localhost:8080/",
          "height": 34
        },
        "outputId": "ffdf837d-b6c6-46f4-f320-200e74bb819f"
      },
      "source": [
        "# augmenting the train set images\n",
        "test_image_gen = test_data_gen.flow_from_directory(\n",
        "    TEST_FILE_PATH,\n",
        "    target_size = (224,224),\n",
        "    batch_size = 32,\n",
        "    class_mode = 'categorical',\n",
        "    shuffle = False\n",
        ")"
      ],
      "execution_count": null,
      "outputs": [
        {
          "output_type": "stream",
          "text": [
            "Found 123 images belonging to 3 classes.\n"
          ],
          "name": "stdout"
        }
      ]
    },
    {
      "cell_type": "code",
      "metadata": {
        "id": "SFQxI5iR2yoi",
        "colab_type": "code",
        "colab": {
          "base_uri": "https://localhost:8080/",
          "height": 34
        },
        "outputId": "a5c003df-8346-41ed-b4d3-76ebdeaf8516"
      },
      "source": [
        "#Checking the classes of the images in the test data set\n",
        "test_image_gen.class_indices"
      ],
      "execution_count": null,
      "outputs": [
        {
          "output_type": "execute_result",
          "data": {
            "text/plain": [
              "{'COV-19': 0, 'NORMAL': 1, 'PNEMONIA': 2}"
            ]
          },
          "metadata": {
            "tags": []
          },
          "execution_count": 11
        }
      ]
    },
    {
      "cell_type": "code",
      "metadata": {
        "id": "A4UTR3ee5S3k",
        "colab_type": "code",
        "colab": {}
      },
      "source": [
        "# print(len(train_image_gen))\n",
        "# print(len(test_image_gen))"
      ],
      "execution_count": null,
      "outputs": []
    },
    {
      "cell_type": "code",
      "metadata": {
        "id": "BpkRDK4Y5i7B",
        "colab_type": "code",
        "colab": {}
      },
      "source": [
        "# STEP_SIZE_TRAIN=train_image_gen.n//train_image_gen.batch_size\n",
        "# STEP_SIZE_VALID=test_image_gen.n//test_image_gen.batch_size"
      ],
      "execution_count": null,
      "outputs": []
    },
    {
      "cell_type": "code",
      "metadata": {
        "id": "WeoSthJ6XMsd",
        "colab_type": "code",
        "colab": {}
      },
      "source": [
        "epochs = 50\n",
        "batch_size = 32\n",
        "num_of_train_samples = 417\n",
        "num_of_test_samples = 123"
      ],
      "execution_count": null,
      "outputs": []
    },
    {
      "cell_type": "code",
      "metadata": {
        "id": "r8GcLBfe2-w1",
        "colab_type": "code",
        "colab": {
          "base_uri": "https://localhost:8080/",
          "height": 1000
        },
        "outputId": "ae859eee-b1e6-46f0-a673-1faf82401d17"
      },
      "source": [
        "#instantiating the model\n",
        "Multi_Mod = cnn_model_multi.fit_generator(\n",
        "    train_image_gen,\n",
        "    steps_per_epoch = num_of_train_samples // batch_size,\n",
        "    epochs = epochs,\n",
        "    validation_data = test_image_gen,\n",
        "    validation_steps = num_of_test_samples // batch_size\n",
        ")"
      ],
      "execution_count": null,
      "outputs": [
        {
          "output_type": "stream",
          "text": [
            "WARNING:tensorflow:From <ipython-input-15-5d016dc1374c>:7: Model.fit_generator (from tensorflow.python.keras.engine.training) is deprecated and will be removed in a future version.\n",
            "Instructions for updating:\n",
            "Please use Model.fit, which supports generators.\n",
            "Epoch 1/50\n",
            "13/13 [==============================] - 116s 9s/step - loss: 1.2161 - accuracy: 0.3584 - val_loss: 1.0987 - val_accuracy: 0.1458\n",
            "Epoch 2/50\n",
            "13/13 [==============================] - 110s 8s/step - loss: 1.0881 - accuracy: 0.3636 - val_loss: 1.0806 - val_accuracy: 0.2188\n",
            "Epoch 3/50\n",
            "13/13 [==============================] - 110s 8s/step - loss: 1.0095 - accuracy: 0.5065 - val_loss: 0.9163 - val_accuracy: 0.8021\n",
            "Epoch 4/50\n",
            "13/13 [==============================] - 110s 8s/step - loss: 0.8492 - accuracy: 0.5974 - val_loss: 0.6675 - val_accuracy: 0.8333\n",
            "Epoch 5/50\n",
            "13/13 [==============================] - 110s 8s/step - loss: 0.8146 - accuracy: 0.6130 - val_loss: 0.5873 - val_accuracy: 0.9062\n",
            "Epoch 6/50\n",
            "13/13 [==============================] - 114s 9s/step - loss: 0.7061 - accuracy: 0.6883 - val_loss: 0.5318 - val_accuracy: 0.8958\n",
            "Epoch 7/50\n",
            "13/13 [==============================] - 118s 9s/step - loss: 0.6457 - accuracy: 0.7404 - val_loss: 0.3952 - val_accuracy: 0.9583\n",
            "Epoch 8/50\n",
            "13/13 [==============================] - 118s 9s/step - loss: 0.5590 - accuracy: 0.7788 - val_loss: 0.2903 - val_accuracy: 0.8854\n",
            "Epoch 9/50\n",
            "13/13 [==============================] - 110s 8s/step - loss: 0.5183 - accuracy: 0.7948 - val_loss: 0.4097 - val_accuracy: 0.8438\n",
            "Epoch 10/50\n",
            "13/13 [==============================] - 110s 8s/step - loss: 0.5518 - accuracy: 0.7662 - val_loss: 0.3556 - val_accuracy: 0.8750\n",
            "Epoch 11/50\n",
            "13/13 [==============================] - 124s 10s/step - loss: 0.4632 - accuracy: 0.8208 - val_loss: 0.2236 - val_accuracy: 0.9271\n",
            "Epoch 12/50\n",
            "13/13 [==============================] - 110s 8s/step - loss: 0.4830 - accuracy: 0.8104 - val_loss: 0.3520 - val_accuracy: 0.9167\n",
            "Epoch 13/50\n",
            "13/13 [==============================] - 110s 8s/step - loss: 0.6030 - accuracy: 0.7506 - val_loss: 0.4057 - val_accuracy: 0.8438\n",
            "Epoch 14/50\n",
            "13/13 [==============================] - 111s 9s/step - loss: 0.5205 - accuracy: 0.7844 - val_loss: 0.3331 - val_accuracy: 0.9062\n",
            "Epoch 15/50\n",
            "13/13 [==============================] - 112s 9s/step - loss: 0.4454 - accuracy: 0.8156 - val_loss: 0.2203 - val_accuracy: 0.9479\n",
            "Epoch 16/50\n",
            "13/13 [==============================] - 114s 9s/step - loss: 0.5224 - accuracy: 0.8000 - val_loss: 0.3114 - val_accuracy: 0.9271\n",
            "Epoch 17/50\n",
            "13/13 [==============================] - 110s 8s/step - loss: 0.5288 - accuracy: 0.7922 - val_loss: 0.3541 - val_accuracy: 0.8646\n",
            "Epoch 18/50\n",
            "13/13 [==============================] - 110s 8s/step - loss: 0.4257 - accuracy: 0.8312 - val_loss: 0.2494 - val_accuracy: 0.9167\n",
            "Epoch 19/50\n",
            "13/13 [==============================] - 110s 8s/step - loss: 0.4115 - accuracy: 0.8312 - val_loss: 0.2490 - val_accuracy: 0.9375\n",
            "Epoch 20/50\n",
            "13/13 [==============================] - 109s 8s/step - loss: 0.4367 - accuracy: 0.8208 - val_loss: 0.2595 - val_accuracy: 0.9271\n",
            "Epoch 21/50\n",
            "13/13 [==============================] - 114s 9s/step - loss: 0.3783 - accuracy: 0.8416 - val_loss: 0.2088 - val_accuracy: 0.9375\n",
            "Epoch 22/50\n",
            "13/13 [==============================] - 110s 8s/step - loss: 0.4154 - accuracy: 0.8597 - val_loss: 0.2911 - val_accuracy: 0.8958\n",
            "Epoch 23/50\n",
            "13/13 [==============================] - 111s 9s/step - loss: 0.4258 - accuracy: 0.8286 - val_loss: 0.1828 - val_accuracy: 0.9479\n",
            "Epoch 24/50\n",
            "13/13 [==============================] - 111s 9s/step - loss: 0.3438 - accuracy: 0.8831 - val_loss: 0.4484 - val_accuracy: 0.8229\n",
            "Epoch 25/50\n",
            "13/13 [==============================] - 110s 8s/step - loss: 0.5422 - accuracy: 0.7714 - val_loss: 0.5186 - val_accuracy: 0.7917\n",
            "Epoch 26/50\n",
            "13/13 [==============================] - 115s 9s/step - loss: 0.5830 - accuracy: 0.7584 - val_loss: 0.3571 - val_accuracy: 0.9271\n",
            "Epoch 27/50\n",
            "13/13 [==============================] - 119s 9s/step - loss: 0.4607 - accuracy: 0.8173 - val_loss: 0.2287 - val_accuracy: 0.9167\n",
            "Epoch 28/50\n",
            "13/13 [==============================] - 111s 9s/step - loss: 0.5140 - accuracy: 0.7896 - val_loss: 0.2600 - val_accuracy: 0.9062\n",
            "Epoch 29/50\n",
            "13/13 [==============================] - 110s 8s/step - loss: 0.4060 - accuracy: 0.8364 - val_loss: 0.3160 - val_accuracy: 0.8438\n",
            "Epoch 30/50\n",
            "13/13 [==============================] - 110s 8s/step - loss: 0.4684 - accuracy: 0.8519 - val_loss: 0.3300 - val_accuracy: 0.8958\n",
            "Epoch 31/50\n",
            "13/13 [==============================] - 113s 9s/step - loss: 0.3866 - accuracy: 0.8701 - val_loss: 0.1928 - val_accuracy: 0.9062\n",
            "Epoch 32/50\n",
            "13/13 [==============================] - 109s 8s/step - loss: 0.4025 - accuracy: 0.8494 - val_loss: 0.2566 - val_accuracy: 0.8854\n",
            "Epoch 33/50\n",
            "13/13 [==============================] - 109s 8s/step - loss: 0.4320 - accuracy: 0.8286 - val_loss: 0.2711 - val_accuracy: 0.9167\n",
            "Epoch 34/50\n",
            "13/13 [==============================] - 109s 8s/step - loss: 0.4547 - accuracy: 0.8442 - val_loss: 0.3795 - val_accuracy: 0.8125\n",
            "Epoch 35/50\n",
            "13/13 [==============================] - 119s 9s/step - loss: 0.5623 - accuracy: 0.8442 - val_loss: 0.4050 - val_accuracy: 0.8333\n",
            "Epoch 36/50\n",
            "13/13 [==============================] - 113s 9s/step - loss: 0.5496 - accuracy: 0.8130 - val_loss: 0.4133 - val_accuracy: 0.9375\n",
            "Epoch 37/50\n",
            "13/13 [==============================] - 109s 8s/step - loss: 0.5211 - accuracy: 0.7792 - val_loss: 0.2951 - val_accuracy: 0.8854\n",
            "Epoch 38/50\n",
            "13/13 [==============================] - 109s 8s/step - loss: 0.4346 - accuracy: 0.8182 - val_loss: 0.2494 - val_accuracy: 0.8854\n",
            "Epoch 39/50\n",
            "13/13 [==============================] - 109s 8s/step - loss: 0.4204 - accuracy: 0.8649 - val_loss: 0.2152 - val_accuracy: 0.9479\n",
            "Epoch 40/50\n",
            "13/13 [==============================] - 109s 8s/step - loss: 0.3316 - accuracy: 0.8779 - val_loss: 0.2050 - val_accuracy: 0.9062\n",
            "Epoch 41/50\n",
            "13/13 [==============================] - 113s 9s/step - loss: 0.3271 - accuracy: 0.8831 - val_loss: 0.2034 - val_accuracy: 0.9271\n",
            "Epoch 42/50\n",
            "13/13 [==============================] - 110s 8s/step - loss: 0.3683 - accuracy: 0.8701 - val_loss: 0.2216 - val_accuracy: 0.9167\n",
            "Epoch 43/50\n",
            "13/13 [==============================] - 110s 8s/step - loss: 0.3130 - accuracy: 0.8857 - val_loss: 0.2435 - val_accuracy: 0.9062\n",
            "Epoch 44/50\n",
            "13/13 [==============================] - 110s 8s/step - loss: 0.3251 - accuracy: 0.8753 - val_loss: 0.1821 - val_accuracy: 0.9167\n",
            "Epoch 45/50\n",
            "13/13 [==============================] - 110s 8s/step - loss: 0.2648 - accuracy: 0.8805 - val_loss: 0.2235 - val_accuracy: 0.9167\n",
            "Epoch 46/50\n",
            "13/13 [==============================] - 113s 9s/step - loss: 0.3326 - accuracy: 0.8909 - val_loss: 0.1994 - val_accuracy: 0.9167\n",
            "Epoch 47/50\n",
            "13/13 [==============================] - 110s 8s/step - loss: 0.3289 - accuracy: 0.8753 - val_loss: 0.2013 - val_accuracy: 0.9271\n",
            "Epoch 48/50\n",
            "13/13 [==============================] - 110s 8s/step - loss: 0.3222 - accuracy: 0.8883 - val_loss: 0.2107 - val_accuracy: 0.9271\n",
            "Epoch 49/50\n",
            "13/13 [==============================] - 110s 8s/step - loss: 0.2885 - accuracy: 0.8987 - val_loss: 0.1959 - val_accuracy: 0.9271\n",
            "Epoch 50/50\n",
            "13/13 [==============================] - 110s 8s/step - loss: 0.3174 - accuracy: 0.8857 - val_loss: 0.1734 - val_accuracy: 0.9375\n"
          ],
          "name": "stdout"
        }
      ]
    },
    {
      "cell_type": "markdown",
      "metadata": {
        "id": "KfpPbjvR-750",
        "colab_type": "text"
      },
      "source": [
        "# EVALUATING THE MODEL RESULTS"
      ]
    },
    {
      "cell_type": "code",
      "metadata": {
        "id": "VqocqQaP-_V1",
        "colab_type": "code",
        "colab": {}
      },
      "source": [
        "#Saving the above model\n",
        "cnn_model_multi.save(\"Covid_19_Mulitclass.h5\")"
      ],
      "execution_count": null,
      "outputs": []
    },
    {
      "cell_type": "code",
      "metadata": {
        "id": "vVi9XHv5_JH8",
        "colab_type": "code",
        "colab": {
          "base_uri": "https://localhost:8080/",
          "height": 105
        },
        "outputId": "603602dd-b09e-4fcd-c843-60d7ca1e44fa"
      },
      "source": [
        "# Train dataset: results\n",
        "cnn_model_multi.evaluate_generator(train_image_gen)"
      ],
      "execution_count": null,
      "outputs": [
        {
          "output_type": "stream",
          "text": [
            "WARNING:tensorflow:From <ipython-input-17-c36a94978405>:2: Model.evaluate_generator (from tensorflow.python.keras.engine.training) is deprecated and will be removed in a future version.\n",
            "Instructions for updating:\n",
            "Please use Model.evaluate, which supports generators.\n"
          ],
          "name": "stdout"
        },
        {
          "output_type": "execute_result",
          "data": {
            "text/plain": [
              "[0.2466953545808792, 0.9112709760665894]"
            ]
          },
          "metadata": {
            "tags": []
          },
          "execution_count": 17
        }
      ]
    },
    {
      "cell_type": "markdown",
      "metadata": {
        "id": "bs90g1KCNmBe",
        "colab_type": "text"
      },
      "source": [
        "The training accuracy of our model is at 91%"
      ]
    },
    {
      "cell_type": "code",
      "metadata": {
        "id": "tyLgqnbZ_O16",
        "colab_type": "code",
        "colab": {
          "base_uri": "https://localhost:8080/",
          "height": 34
        },
        "outputId": "3025d9fb-443d-45ea-e2be-ffac7526b1fc"
      },
      "source": [
        "# Test dataset: results\n",
        "cnn_model_multi.evaluate_generator(test_image_gen)"
      ],
      "execution_count": null,
      "outputs": [
        {
          "output_type": "execute_result",
          "data": {
            "text/plain": [
              "[0.2107122540473938, 0.9268292784690857]"
            ]
          },
          "metadata": {
            "tags": []
          },
          "execution_count": 18
        }
      ]
    },
    {
      "cell_type": "markdown",
      "metadata": {
        "id": "W2JBshFbN_G6",
        "colab_type": "text"
      },
      "source": [
        "The validation accuracy of our model is at 92.6%."
      ]
    },
    {
      "cell_type": "code",
      "metadata": {
        "id": "uLJTbzhb_SJP",
        "colab_type": "code",
        "colab": {
          "base_uri": "https://localhost:8080/",
          "height": 34
        },
        "outputId": "808ebb39-2ace-43f2-b14d-b074a82c8dce"
      },
      "source": [
        "Model_Eval = Multi_Mod\n",
        "print(Multi_Mod.history.keys())"
      ],
      "execution_count": null,
      "outputs": [
        {
          "output_type": "stream",
          "text": [
            "dict_keys(['loss', 'accuracy', 'val_loss', 'val_accuracy'])\n"
          ],
          "name": "stdout"
        }
      ]
    },
    {
      "cell_type": "code",
      "metadata": {
        "id": "0jDEifjO_6w8",
        "colab_type": "code",
        "colab": {
          "base_uri": "https://localhost:8080/",
          "height": 295
        },
        "outputId": "e2f77fd4-f30e-4999-cac3-4ab9a5223b7c"
      },
      "source": [
        "# Plotting Model Accuracy - Multi Class\n",
        "plt.plot(Model_Eval.history['accuracy'])\n",
        "plt.plot(Model_Eval.history['val_accuracy'])\n",
        "plt.title('Multi Class Model Accuracy')\n",
        "plt.ylabel('Accuracy')\n",
        "plt.xlabel('Epoch')\n",
        "plt.legend(['train', 'test'], loc='upper left')\n",
        "plt.savefig('Multi_class_Acc-50Epochs.png')\n",
        "plt.show()"
      ],
      "execution_count": null,
      "outputs": [
        {
          "output_type": "display_data",
          "data": {
            "image/png": "[encoded data removed]",
            "text/plain": [
              "<Figure size 432x288 with 1 Axes>"
            ]
          },
          "metadata": {
            "tags": [],
            "needs_background": "light"
          }
        }
      ]
    },
    {
      "cell_type": "code",
      "metadata": {
        "id": "uHLdp2-5ACxg",
        "colab_type": "code",
        "colab": {
          "base_uri": "https://localhost:8080/",
          "height": 295
        },
        "outputId": "6066a1e4-bc9e-45e7-d16f-65fbf6e4a8be"
      },
      "source": [
        "# Plotting Model Loss - Multi Class\n",
        "plt.plot(Model_Eval.history['loss'])\n",
        "plt.plot(Model_Eval.history['val_loss'])\n",
        "plt.title('Multi Class Model Loss')\n",
        "plt.ylabel('Loss')\n",
        "plt.xlabel('Epoch')\n",
        "plt.legend(['train', 'test'], loc='upper left')\n",
        "plt.savefig('Multi_class_loss-50Epochs.png')\n",
        "plt.show()"
      ],
      "execution_count": null,
      "outputs": [
        {
          "output_type": "display_data",
          "data": {
            "image/png": "[encoded data removed]",
            "text/plain": [
              "<Figure size 432x288 with 1 Axes>"
            ]
          },
          "metadata": {
            "tags": [],
            "needs_background": "light"
          }
        }
      ]
    },
    {
      "cell_type": "markdown",
      "metadata": {
        "id": "lNHOIeMdBABQ",
        "colab_type": "text"
      },
      "source": [
        "### CONFUSION MATRIX -  MULTI CLASS CLASSIFICATION"
      ]
    },
    {
      "cell_type": "markdown",
      "metadata": {
        "id": "3Sv8nKq_B--O",
        "colab_type": "text"
      },
      "source": [
        "Reloading the model:"
      ]
    },
    {
      "cell_type": "code",
      "metadata": {
        "id": "CnzaP3paACsK",
        "colab_type": "code",
        "colab": {}
      },
      "source": [
        "cnn_model_multi=load_model(\"/content/Covid_19_Mulitclass.h5\")"
      ],
      "execution_count": null,
      "outputs": []
    },
    {
      "cell_type": "code",
      "metadata": {
        "id": "_LO4Lg-vUKt_",
        "colab_type": "code",
        "colab": {}
      },
      "source": [
        "#Function to create and plot a Confusion_Matrix\n",
        "\n",
        "class_label = [\"COV-19\",\"NORMAL\",\"PNEUMONIA\"]\n",
        "\n",
        "def plot_confusion_matrix(cm, classes,\n",
        "                          normalize=False,\n",
        "                          title='Confusion matrix',\n",
        "                          cmap=\"plasma\"):\n",
        "    \"\"\"\n",
        "    Use the function to create a confusion matrix and plot the values.\n",
        "    \"\"\"\n",
        "    plt.imshow(cm, interpolation='nearest', cmap=cmap)\n",
        "    plt.title(title)\n",
        "    plt.colorbar()\n",
        "    tick_marks = np.arange(len(classes))\n",
        "    plt.xticks(tick_marks, classes, rotation=45)\n",
        "    plt.yticks(tick_marks, classes)\n",
        "    \"\"\"\n",
        "    Set normalization='True' for normalization.\n",
        "    \"\"\"\n",
        "    if normalize:\n",
        "        cm = cm.astype('float') / cm.sum(axis=1)[:, np.newaxis]\n",
        "        print(\"Normalized confusion matrix\")\n",
        "    else:\n",
        "        print('Confusion matrix, without normalization')\n",
        "\n",
        "    print(cm)\n",
        "\n",
        "    thresh = cm.max() / 2.\n",
        "    for i, j in itertools.product(range(cm.shape[0]), range(cm.shape[1])):\n",
        "        plt.text(j, i, cm[i, j],\n",
        "                 horizontalalignment=\"center\",\n",
        "                 color=\"white\" if cm[i, j] > thresh else \"black\")\n",
        "\n",
        "    plt.tight_layout()\n",
        "    plt.ylabel('True-label')\n",
        "    plt.xlabel('Predicted-label')"
      ],
      "execution_count": null,
      "outputs": []
    },
    {
      "cell_type": "markdown",
      "metadata": {
        "id": "c4MjFzVnCKTy",
        "colab_type": "text"
      },
      "source": [
        "## EVALUATION & PREDICTIONS"
      ]
    },
    {
      "cell_type": "code",
      "metadata": {
        "id": "Noc8Fh2TpqAI",
        "colab_type": "code",
        "colab": {}
      },
      "source": [
        "# Using the model.predict method for predicting the outcomes/probabilities. \n",
        "test_image_gen.reset()\n",
        "predictions = cnn_model_multi.predict(test_image_gen, num_of_test_samples // batch_size+1)"
      ],
      "execution_count": null,
      "outputs": []
    },
    {
      "cell_type": "code",
      "metadata": {
        "id": "-U4AMbO5pqJZ",
        "colab_type": "code",
        "colab": {}
      },
      "source": [
        "# Converting the probabilities to binaries\n",
        "predictedClass = np.argmax(predictions, axis=1)\n"
      ],
      "execution_count": null,
      "outputs": []
    },
    {
      "cell_type": "code",
      "metadata": {
        "id": "8QshudkDpqDP",
        "colab_type": "code",
        "colab": {}
      },
      "source": [
        "# indicies of the test image generator \n",
        "trueClass=test_image_gen.classes[test_image_gen.index_array]"
      ],
      "execution_count": null,
      "outputs": []
    },
    {
      "cell_type": "code",
      "metadata": {
        "id": "8qEcaaIDpp1c",
        "colab_type": "code",
        "colab": {
          "base_uri": "https://localhost:8080/",
          "height": 34
        },
        "outputId": "47f10db3-1aa8-40bf-c7eb-5e1d7a0a4ea1"
      },
      "source": [
        "# Names of the classes.\n",
        "target_names = list(train_image_gen.class_indices.keys())\n",
        "target_names"
      ],
      "execution_count": null,
      "outputs": [
        {
          "output_type": "execute_result",
          "data": {
            "text/plain": [
              "['COV-19', 'NORMAL', 'PNEMONIA']"
            ]
          },
          "metadata": {
            "tags": []
          },
          "execution_count": 27
        }
      ]
    },
    {
      "cell_type": "code",
      "metadata": {
        "id": "HI4P7Ec8qGWF",
        "colab_type": "code",
        "colab": {
          "base_uri": "https://localhost:8080/",
          "height": 85
        },
        "outputId": "2f3f15bf-9cca-4a52-b9ae-3621d4ca2399"
      },
      "source": [
        "# Printing Confusion Matrix using the sklearn\n",
        "print('Confusion Matrix')\n",
        "conf_mat=confusion_matrix(y_true=trueClass, y_pred=predictedClass)\n",
        "print(conf_mat)"
      ],
      "execution_count": null,
      "outputs": [
        {
          "output_type": "stream",
          "text": [
            "Confusion Matrix\n",
            "[[40  0  1]\n",
            " [ 1 38  2]\n",
            " [ 1  4 36]]\n"
          ],
          "name": "stdout"
        }
      ]
    },
    {
      "cell_type": "code",
      "metadata": {
        "id": "a-sd4Bbv3ffi",
        "colab_type": "code",
        "colab": {}
      },
      "source": [
        " # Accuracies and Misclassification based on the model\n",
        " accuracy = np.trace(conf_mat) / float(np.sum(conf_mat))\n",
        " misclass = 1 - accuracy"
      ],
      "execution_count": null,
      "outputs": []
    },
    {
      "cell_type": "code",
      "metadata": {
        "id": "gCpr1u1y9cYI",
        "colab_type": "code",
        "colab": {
          "base_uri": "https://localhost:8080/",
          "height": 486
        },
        "outputId": "a9e68c8a-0c8c-4bb7-9263-e1b03f350b6a"
      },
      "source": [
        "# Plotting the Confusion Matrix\n",
        "plt.figure(figsize=(10,5))\n",
        "plot_confusion_matrix(conf_mat, classes=target_names,\n",
        "                      title='Confusion Matrix (Multi Class)',cmap=\"YlGnBu\")\n",
        "plt.ylabel('True')\n",
        "plt.xlabel('Predictions \\n \\n Model Accuracy={:0.2f}% \\n Model Error={:0.2f}%'.format(accuracy*100, misclass*100))\n",
        "plt.savefig('Confusion Matrix (Multi Class Classification.png', bbox_inches = \"tight\")\n",
        "plt.show()"
      ],
      "execution_count": null,
      "outputs": [
        {
          "output_type": "stream",
          "text": [
            "Confusion matrix, without normalization\n",
            "[[40  0  1]\n",
            " [ 1 38  2]\n",
            " [ 1  4 36]]\n"
          ],
          "name": "stdout"
        },
        {
          "output_type": "display_data",
          "data": {
            "image/png": "[encoded data removed]",
            "text/plain": [
              "<Figure size 720x360 with 2 Axes>"
            ]
          },
          "metadata": {
            "tags": [],
            "needs_background": "light"
          }
        }
      ]
    },
    {
      "cell_type": "markdown",
      "metadata": {
        "id": "Zb4aiMDeDZWH",
        "colab_type": "text"
      },
      "source": [
        "# CLASSIFICATION REPORT AND ROC CURVE"
      ]
    },
    {
      "cell_type": "code",
      "metadata": {
        "id": "9OrQKAkWPgv4",
        "colab_type": "code",
        "colab": {
          "base_uri": "https://localhost:8080/",
          "height": 221
        },
        "outputId": "c1701681-a1fc-4dc6-8a7d-0abad7fd5ca0"
      },
      "source": [
        "# Generating the classification report for the Multi Class Model\n",
        "print('**************************Classification Report (Multi Class)*******************************')\n",
        "print('')\n",
        "print(classification_report(trueClass, predictedClass, target_names=target_names))"
      ],
      "execution_count": null,
      "outputs": [
        {
          "output_type": "stream",
          "text": [
            "**************************Classification Report (Multi Class)*******************************\n",
            "\n",
            "              precision    recall  f1-score   support\n",
            "\n",
            "      COV-19       0.95      0.98      0.96        41\n",
            "      NORMAL       0.90      0.93      0.92        41\n",
            "    PNEMONIA       0.92      0.88      0.90        41\n",
            "\n",
            "    accuracy                           0.93       123\n",
            "   macro avg       0.93      0.93      0.93       123\n",
            "weighted avg       0.93      0.93      0.93       123\n",
            "\n"
          ],
          "name": "stdout"
        }
      ]
    },
    {
      "cell_type": "code",
      "metadata": {
        "id": "c97AH40gRGT0",
        "colab_type": "code",
        "colab": {
          "base_uri": "https://localhost:8080/",
          "height": 119
        },
        "outputId": "58056a3b-9d03-42b6-ff32-ac99db7325f2"
      },
      "source": [
        "# Generating Model Accuracies, Specificity and Sensitivity\n",
        "total = sum(sum(conf_mat))\n",
        "acc = (conf_mat[0, 0] + conf_mat[1, 1]+ conf_mat[2,2]) / total\n",
        "sensitivity = conf_mat[0, 0] / (conf_mat[0, 0] + conf_mat[0, 1]+ conf_mat[0, 2])\n",
        "specificity = conf_mat[1, 1] / (conf_mat[1, 0] + conf_mat[1, 1] + conf_mat[1, 2] )\n",
        "\n",
        "print(\"***************************Model Report*************************************\")\n",
        "print(\"Model Acc: {:.4f}\".format(acc))\n",
        "print('')\n",
        "print(\"Sensitivity: {:.4f}\".format(sensitivity))\n",
        "print('')\n",
        "print(\"Specificity: {:.4f}\".format(specificity))"
      ],
      "execution_count": null,
      "outputs": [
        {
          "output_type": "stream",
          "text": [
            "***************************Model Report*************************************\n",
            "Model Acc: 0.9268\n",
            "\n",
            "Sensitivity: 0.9756\n",
            "\n",
            "Specificity: 0.9268\n"
          ],
          "name": "stdout"
        }
      ]
    },
    {
      "cell_type": "code",
      "metadata": {
        "id": "ON9OUoGX5hoo",
        "colab_type": "code",
        "colab": {
          "base_uri": "https://localhost:8080/",
          "height": 421
        },
        "outputId": "c3014a12-fcd7-4ce0-d7d1-70ed46d5407a"
      },
      "source": [
        "# Generatring the ROC curve using the Scikitplot's plot_roc method\n",
        "plt.figure()\n",
        "skplt.metrics.plot_roc(y_true=trueClass, y_probas=predictions, title='ROC Curves (Multi Class)', plot_micro=False, plot_macro=False,\n",
        "                            classes_to_plot=None, ax=None, figsize=(8, 6), cmap='Dark2', title_fontsize='large', text_fontsize='medium')\n",
        "plt.savefig('Multi_Classification_ROC.png', bbox_inches = \"tight\")\n",
        "plt.show()"
      ],
      "execution_count": null,
      "outputs": [
        {
          "output_type": "display_data",
          "data": {
            "text/plain": [
              "<Figure size 432x288 with 0 Axes>"
            ]
          },
          "metadata": {
            "tags": []
          }
        },
        {
          "output_type": "display_data",
          "data": {
            "image/png": "[encoded data removed]",
            "text/plain": [
              "<Figure size 576x432 with 1 Axes>"
            ]
          },
          "metadata": {
            "tags": [],
            "needs_background": "light"
          }
        }
      ]
    }
  ]
}